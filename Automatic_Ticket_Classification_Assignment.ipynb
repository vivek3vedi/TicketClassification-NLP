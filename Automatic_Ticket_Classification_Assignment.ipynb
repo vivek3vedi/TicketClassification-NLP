{
  "cells": [
    {
      "cell_type": "markdown",
      "metadata": {
        "id": "rhR-ZUkwJrFn"
      },
      "source": [
        "## Problem Statement \n",
        "\n",
        "Build a model that is able to classify customer complaints based on the products/services. By doing so, these tickets can be segregated into their relevant categories and, therefore, help in the quick resolution of the issue.\n",
        "Need to do topic modelling on the json data provided by the company. Since this data is not labelled, NMF needs to be applied to analyse patterns and classify tickets into the following five clusters based on their products/services:\n",
        "\n",
        "* Credit card / Prepaid card\n",
        "\n",
        "* Bank account services\n",
        "\n",
        "* Theft/Dispute reporting\n",
        "\n",
        "* Mortgages/loans\n",
        "\n",
        "* Others \n",
        "\n",
        "\n",
        "With the help of topic modelling, each ticket can be mapped onto its respective department/category. This data can be used to train any supervised model such as logistic regression, decision tree or random forest. Using this trained model, any new customer complaint support ticket can be classified into into its relevant department."
      ]
    },
    {
      "cell_type": "markdown",
      "metadata": {
        "id": "mcgXVNyaLUFS"
      },
      "source": [
        "## Pipelines that needs to be performed:\n",
        "\n",
        "You need to perform the following eight major tasks to complete the assignment:\n",
        "\n",
        "1.  Data loading\n",
        "\n",
        "2. Text preprocessing\n",
        "\n",
        "3. Exploratory data analysis (EDA)\n",
        "\n",
        "4. Feature extraction\n",
        "\n",
        "5. Topic modelling \n",
        "\n",
        "6. Model building using supervised learning\n",
        "\n",
        "7. Model training and evaluation\n",
        "\n",
        "8. Model inference"
      ]
    },
    {
      "cell_type": "markdown",
      "metadata": {
        "id": "JuLFIymAL58u"
      },
      "source": [
        "## Importing the necessary libraries"
      ]
    },
    {
      "cell_type": "code",
      "execution_count": null,
      "metadata": {
        "colab": {
          "base_uri": "https://localhost:8080/"
        },
        "id": "O-Q9pqrcJrFr",
        "outputId": "98abe333-3467-4425-ee98-ebba3840d4b4"
      },
      "outputs": [
        {
          "output_type": "stream",
          "name": "stderr",
          "text": [
            "/usr/local/lib/python3.7/dist-packages/spacy/language.py:1899: UserWarning: [W123] Argument disable with value [] is used instead of ['senter'] as specified in the config. Be aware that this might affect other components in your pipeline.\n",
            "  config_value=config[\"nlp\"][key],\n",
            "[nltk_data] Downloading package punkt to /root/nltk_data...\n",
            "[nltk_data]   Unzipping tokenizers/punkt.zip.\n",
            "[nltk_data] Downloading package stopwords to /root/nltk_data...\n",
            "[nltk_data]   Unzipping corpora/stopwords.zip.\n",
            "[nltk_data] Downloading package wordnet to /root/nltk_data...\n",
            "[nltk_data] Downloading package omw-1.4 to /root/nltk_data...\n",
            "[nltk_data] Downloading package averaged_perceptron_tagger to\n",
            "[nltk_data]     /root/nltk_data...\n",
            "[nltk_data]   Unzipping taggers/averaged_perceptron_tagger.zip.\n"
          ]
        }
      ],
      "source": [
        "import json \n",
        "import numpy as np\n",
        "import pandas as pd\n",
        "import os, re, nltk, spacy, string\n",
        "import en_core_web_sm\n",
        "nlp = en_core_web_sm.load()\n",
        "import seaborn as sns\n",
        "import matplotlib.pyplot as plt\n",
        "%matplotlib inline\n",
        "\n",
        "from plotly.offline import plot\n",
        "import plotly.graph_objects as go\n",
        "import plotly.express as px\n",
        "\n",
        "from sklearn.feature_extraction.text import CountVectorizer, TfidfVectorizer\n",
        "from sklearn.model_selection import train_test_split,GridSearchCV\n",
        "from pprint import pprint\n",
        "\n",
        "\n",
        "import re\n",
        "\n",
        "# tokenizer loading\n",
        "import nltk\n",
        "from nltk.tokenize import word_tokenize,sent_tokenize\n",
        "nltk.download('punkt')\n",
        "\n",
        "\n",
        "# stopwords loading\n",
        "nltk.download('stopwords')\n",
        "from nltk.corpus import stopwords\n",
        "stopwords = stopwords.words('english')\n",
        "\n",
        "# Lemmetization loading\n",
        "from nltk.stem import WordNetLemmatizer\n",
        "nltk.download('wordnet')\n",
        "nltk.download('omw-1.4')\n",
        "\n",
        "# Load spacy\n",
        "from nltk import pos_tag\n",
        "nltk.download('averaged_perceptron_tagger')\n",
        "\n",
        "# loading wordcloud\n",
        "from wordcloud import WordCloud\n",
        "\n",
        "# Models\n",
        "\n",
        "from sklearn.linear_model import LogisticRegression\n",
        "from sklearn import preprocessing\n",
        "from sklearn.metrics import classification_report,accuracy_score\n",
        "from sklearn.tree import DecisionTreeClassifier\n",
        "from sklearn.preprocessing import MinMaxScaler\n",
        "from sklearn.naive_bayes import MultinomialNB\n",
        "from sklearn.ensemble import RandomForestClassifier"
      ]
    },
    {
      "cell_type": "markdown",
      "metadata": {
        "id": "At7A0a6jEKj3"
      },
      "source": [
        "## Loading dataset from google drive (skip this if loading from local drive)"
      ]
    },
    {
      "cell_type": "code",
      "execution_count": null,
      "metadata": {
        "colab": {
          "base_uri": "https://localhost:8080/"
        },
        "id": "guCm4Y6mDwlf",
        "outputId": "64457ef4-5cdd-41fc-e5d5-0e1eeef2384d"
      },
      "outputs": [
        {
          "output_type": "stream",
          "name": "stdout",
          "text": [
            "Mounted at /content/drive\n",
            "/content/drive/My Drive/NLP Projects/Ticket classification\n"
          ]
        }
      ],
      "source": [
        "# Mounting the drive\n",
        "from google.colab import drive\n",
        "drive.mount('/content/drive')\n",
        "\n",
        "%cd /content/drive/My Drive/NLP Projects/Ticket classification/"
      ]
    },
    {
      "cell_type": "markdown",
      "metadata": {
        "id": "GdFS2oTHEpqH"
      },
      "source": [
        "## Loding dataset from local drive"
      ]
    },
    {
      "cell_type": "markdown",
      "metadata": {
        "id": "KtRLCsNVJrFt"
      },
      "source": [
        "## Loading the data\n",
        "\n",
        "The data is in JSON format and we need to convert it to a dataframe."
      ]
    },
    {
      "cell_type": "code",
      "execution_count": null,
      "metadata": {
        "id": "puVzIf_iJrFt"
      },
      "outputs": [],
      "source": [
        "# Opening JSON file \n",
        "with open('complaints.json') as jsfile:\n",
        "  # returns JSON object as  \n",
        "  # a dictionary \n",
        "  data = json.load(jsfile)\n",
        "  df=pd.json_normalize(data)"
      ]
    },
    {
      "cell_type": "markdown",
      "metadata": {
        "id": "_xYpH-sAJrFu"
      },
      "source": [
        "## Data preparation"
      ]
    },
    {
      "cell_type": "code",
      "execution_count": null,
      "metadata": {
        "colab": {
          "base_uri": "https://localhost:8080/"
        },
        "id": "LGWY9T-VeW6G",
        "outputId": "dbb6a705-0805-4c96-b9dd-4a094e42c96b"
      },
      "outputs": [
        {
          "output_type": "stream",
          "name": "stdout",
          "text": [
            "<class 'pandas.core.frame.DataFrame'>\n",
            "RangeIndex: 78313 entries, 0 to 78312\n",
            "Data columns (total 22 columns):\n",
            " #   Column                             Non-Null Count  Dtype  \n",
            "---  ------                             --------------  -----  \n",
            " 0   _index                             78313 non-null  object \n",
            " 1   _type                              78313 non-null  object \n",
            " 2   _id                                78313 non-null  object \n",
            " 3   _score                             78313 non-null  float64\n",
            " 4   _source.tags                       10900 non-null  object \n",
            " 5   _source.zip_code                   71556 non-null  object \n",
            " 6   _source.complaint_id               78313 non-null  object \n",
            " 7   _source.issue                      78313 non-null  object \n",
            " 8   _source.date_received              78313 non-null  object \n",
            " 9   _source.state                      76322 non-null  object \n",
            " 10  _source.consumer_disputed          78313 non-null  object \n",
            " 11  _source.product                    78313 non-null  object \n",
            " 12  _source.company_response           78313 non-null  object \n",
            " 13  _source.company                    78313 non-null  object \n",
            " 14  _source.submitted_via              78313 non-null  object \n",
            " 15  _source.date_sent_to_company       78313 non-null  object \n",
            " 16  _source.company_public_response    4 non-null      object \n",
            " 17  _source.sub_product                67742 non-null  object \n",
            " 18  _source.timely                     78313 non-null  object \n",
            " 19  _source.complaint_what_happened    78313 non-null  object \n",
            " 20  _source.sub_issue                  32016 non-null  object \n",
            " 21  _source.consumer_consent_provided  77305 non-null  object \n",
            "dtypes: float64(1), object(21)\n",
            "memory usage: 13.1+ MB\n"
          ]
        }
      ],
      "source": [
        "df.info()"
      ]
    },
    {
      "cell_type": "code",
      "execution_count": null,
      "metadata": {
        "colab": {
          "base_uri": "https://localhost:8080/",
          "height": 456
        },
        "id": "Lf8ufHH5JrFu",
        "outputId": "bb5645cb-0854-48ad-b198-bbc3e4222b32"
      },
      "outputs": [
        {
          "output_type": "execute_result",
          "data": {
            "text/plain": [
              "                _index      _type      _id  _score   _source.tags  \\\n",
              "0  complaint-public-v2  complaint  3211475     0.0           None   \n",
              "1  complaint-public-v2  complaint  3229299     0.0  Servicemember   \n",
              "2  complaint-public-v2  complaint  3199379     0.0           None   \n",
              "3  complaint-public-v2  complaint  2673060     0.0           None   \n",
              "4  complaint-public-v2  complaint  3203545     0.0           None   \n",
              "\n",
              "  _source.zip_code _source.complaint_id                       _source.issue  \\\n",
              "0            90301              3211475   Attempts to collect debt not owed   \n",
              "1            319XX              3229299     Written notification about debt   \n",
              "2            77069              3199379  Other features, terms, or problems   \n",
              "3            48066              2673060      Trouble during payment process   \n",
              "4            10473              3203545                    Fees or interest   \n",
              "\n",
              "       _source.date_received _source.state  ... _source.company_response  \\\n",
              "0  2019-04-13T12:00:00-05:00            CA  ...  Closed with explanation   \n",
              "1  2019-05-01T12:00:00-05:00            GA  ...  Closed with explanation   \n",
              "2  2019-04-02T12:00:00-05:00            TX  ...  Closed with explanation   \n",
              "3  2017-09-13T12:00:00-05:00            MI  ...  Closed with explanation   \n",
              "4  2019-04-05T12:00:00-05:00            NY  ...  Closed with explanation   \n",
              "\n",
              "        _source.company _source.submitted_via _source.date_sent_to_company  \\\n",
              "0  JPMORGAN CHASE & CO.                   Web    2019-04-13T12:00:00-05:00   \n",
              "1  JPMORGAN CHASE & CO.                   Web    2019-05-01T12:00:00-05:00   \n",
              "2  JPMORGAN CHASE & CO.                   Web    2019-04-02T12:00:00-05:00   \n",
              "3  JPMORGAN CHASE & CO.                   Web    2017-09-14T12:00:00-05:00   \n",
              "4  JPMORGAN CHASE & CO.              Referral    2019-04-05T12:00:00-05:00   \n",
              "\n",
              "  _source.company_public_response                         _source.sub_product  \\\n",
              "0                            None                            Credit card debt   \n",
              "1                            None                            Credit card debt   \n",
              "2                            None  General-purpose credit card or charge card   \n",
              "3                            None                  Conventional home mortgage   \n",
              "4                            None  General-purpose credit card or charge card   \n",
              "\n",
              "  _source.timely                    _source.complaint_what_happened  \\\n",
              "0            Yes                                                      \n",
              "1            Yes  Good morning my name is XXXX XXXX and I apprec...   \n",
              "2            Yes  I upgraded my XXXX XXXX card in XX/XX/2018 and...   \n",
              "3            Yes                                                      \n",
              "4            Yes                                                      \n",
              "\n",
              "                                  _source.sub_issue  \\\n",
              "0                                 Debt is not yours   \n",
              "1  Didn't receive enough information to verify debt   \n",
              "2             Problem with rewards from credit card   \n",
              "3                                              None   \n",
              "4                         Charged too much interest   \n",
              "\n",
              "  _source.consumer_consent_provided  \n",
              "0              Consent not provided  \n",
              "1                  Consent provided  \n",
              "2                  Consent provided  \n",
              "3              Consent not provided  \n",
              "4                               N/A  \n",
              "\n",
              "[5 rows x 22 columns]"
            ],
            "text/html": [
              "\n",
              "  <div id=\"df-27c4f150-30b0-4bad-8684-c7679d9963fb\">\n",
              "    <div class=\"colab-df-container\">\n",
              "      <div>\n",
              "<style scoped>\n",
              "    .dataframe tbody tr th:only-of-type {\n",
              "        vertical-align: middle;\n",
              "    }\n",
              "\n",
              "    .dataframe tbody tr th {\n",
              "        vertical-align: top;\n",
              "    }\n",
              "\n",
              "    .dataframe thead th {\n",
              "        text-align: right;\n",
              "    }\n",
              "</style>\n",
              "<table border=\"1\" class=\"dataframe\">\n",
              "  <thead>\n",
              "    <tr style=\"text-align: right;\">\n",
              "      <th></th>\n",
              "      <th>_index</th>\n",
              "      <th>_type</th>\n",
              "      <th>_id</th>\n",
              "      <th>_score</th>\n",
              "      <th>_source.tags</th>\n",
              "      <th>_source.zip_code</th>\n",
              "      <th>_source.complaint_id</th>\n",
              "      <th>_source.issue</th>\n",
              "      <th>_source.date_received</th>\n",
              "      <th>_source.state</th>\n",
              "      <th>...</th>\n",
              "      <th>_source.company_response</th>\n",
              "      <th>_source.company</th>\n",
              "      <th>_source.submitted_via</th>\n",
              "      <th>_source.date_sent_to_company</th>\n",
              "      <th>_source.company_public_response</th>\n",
              "      <th>_source.sub_product</th>\n",
              "      <th>_source.timely</th>\n",
              "      <th>_source.complaint_what_happened</th>\n",
              "      <th>_source.sub_issue</th>\n",
              "      <th>_source.consumer_consent_provided</th>\n",
              "    </tr>\n",
              "  </thead>\n",
              "  <tbody>\n",
              "    <tr>\n",
              "      <th>0</th>\n",
              "      <td>complaint-public-v2</td>\n",
              "      <td>complaint</td>\n",
              "      <td>3211475</td>\n",
              "      <td>0.0</td>\n",
              "      <td>None</td>\n",
              "      <td>90301</td>\n",
              "      <td>3211475</td>\n",
              "      <td>Attempts to collect debt not owed</td>\n",
              "      <td>2019-04-13T12:00:00-05:00</td>\n",
              "      <td>CA</td>\n",
              "      <td>...</td>\n",
              "      <td>Closed with explanation</td>\n",
              "      <td>JPMORGAN CHASE &amp; CO.</td>\n",
              "      <td>Web</td>\n",
              "      <td>2019-04-13T12:00:00-05:00</td>\n",
              "      <td>None</td>\n",
              "      <td>Credit card debt</td>\n",
              "      <td>Yes</td>\n",
              "      <td></td>\n",
              "      <td>Debt is not yours</td>\n",
              "      <td>Consent not provided</td>\n",
              "    </tr>\n",
              "    <tr>\n",
              "      <th>1</th>\n",
              "      <td>complaint-public-v2</td>\n",
              "      <td>complaint</td>\n",
              "      <td>3229299</td>\n",
              "      <td>0.0</td>\n",
              "      <td>Servicemember</td>\n",
              "      <td>319XX</td>\n",
              "      <td>3229299</td>\n",
              "      <td>Written notification about debt</td>\n",
              "      <td>2019-05-01T12:00:00-05:00</td>\n",
              "      <td>GA</td>\n",
              "      <td>...</td>\n",
              "      <td>Closed with explanation</td>\n",
              "      <td>JPMORGAN CHASE &amp; CO.</td>\n",
              "      <td>Web</td>\n",
              "      <td>2019-05-01T12:00:00-05:00</td>\n",
              "      <td>None</td>\n",
              "      <td>Credit card debt</td>\n",
              "      <td>Yes</td>\n",
              "      <td>Good morning my name is XXXX XXXX and I apprec...</td>\n",
              "      <td>Didn't receive enough information to verify debt</td>\n",
              "      <td>Consent provided</td>\n",
              "    </tr>\n",
              "    <tr>\n",
              "      <th>2</th>\n",
              "      <td>complaint-public-v2</td>\n",
              "      <td>complaint</td>\n",
              "      <td>3199379</td>\n",
              "      <td>0.0</td>\n",
              "      <td>None</td>\n",
              "      <td>77069</td>\n",
              "      <td>3199379</td>\n",
              "      <td>Other features, terms, or problems</td>\n",
              "      <td>2019-04-02T12:00:00-05:00</td>\n",
              "      <td>TX</td>\n",
              "      <td>...</td>\n",
              "      <td>Closed with explanation</td>\n",
              "      <td>JPMORGAN CHASE &amp; CO.</td>\n",
              "      <td>Web</td>\n",
              "      <td>2019-04-02T12:00:00-05:00</td>\n",
              "      <td>None</td>\n",
              "      <td>General-purpose credit card or charge card</td>\n",
              "      <td>Yes</td>\n",
              "      <td>I upgraded my XXXX XXXX card in XX/XX/2018 and...</td>\n",
              "      <td>Problem with rewards from credit card</td>\n",
              "      <td>Consent provided</td>\n",
              "    </tr>\n",
              "    <tr>\n",
              "      <th>3</th>\n",
              "      <td>complaint-public-v2</td>\n",
              "      <td>complaint</td>\n",
              "      <td>2673060</td>\n",
              "      <td>0.0</td>\n",
              "      <td>None</td>\n",
              "      <td>48066</td>\n",
              "      <td>2673060</td>\n",
              "      <td>Trouble during payment process</td>\n",
              "      <td>2017-09-13T12:00:00-05:00</td>\n",
              "      <td>MI</td>\n",
              "      <td>...</td>\n",
              "      <td>Closed with explanation</td>\n",
              "      <td>JPMORGAN CHASE &amp; CO.</td>\n",
              "      <td>Web</td>\n",
              "      <td>2017-09-14T12:00:00-05:00</td>\n",
              "      <td>None</td>\n",
              "      <td>Conventional home mortgage</td>\n",
              "      <td>Yes</td>\n",
              "      <td></td>\n",
              "      <td>None</td>\n",
              "      <td>Consent not provided</td>\n",
              "    </tr>\n",
              "    <tr>\n",
              "      <th>4</th>\n",
              "      <td>complaint-public-v2</td>\n",
              "      <td>complaint</td>\n",
              "      <td>3203545</td>\n",
              "      <td>0.0</td>\n",
              "      <td>None</td>\n",
              "      <td>10473</td>\n",
              "      <td>3203545</td>\n",
              "      <td>Fees or interest</td>\n",
              "      <td>2019-04-05T12:00:00-05:00</td>\n",
              "      <td>NY</td>\n",
              "      <td>...</td>\n",
              "      <td>Closed with explanation</td>\n",
              "      <td>JPMORGAN CHASE &amp; CO.</td>\n",
              "      <td>Referral</td>\n",
              "      <td>2019-04-05T12:00:00-05:00</td>\n",
              "      <td>None</td>\n",
              "      <td>General-purpose credit card or charge card</td>\n",
              "      <td>Yes</td>\n",
              "      <td></td>\n",
              "      <td>Charged too much interest</td>\n",
              "      <td>N/A</td>\n",
              "    </tr>\n",
              "  </tbody>\n",
              "</table>\n",
              "<p>5 rows × 22 columns</p>\n",
              "</div>\n",
              "      <button class=\"colab-df-convert\" onclick=\"convertToInteractive('df-27c4f150-30b0-4bad-8684-c7679d9963fb')\"\n",
              "              title=\"Convert this dataframe to an interactive table.\"\n",
              "              style=\"display:none;\">\n",
              "        \n",
              "  <svg xmlns=\"http://www.w3.org/2000/svg\" height=\"24px\"viewBox=\"0 0 24 24\"\n",
              "       width=\"24px\">\n",
              "    <path d=\"M0 0h24v24H0V0z\" fill=\"none\"/>\n",
              "    <path d=\"M18.56 5.44l.94 2.06.94-2.06 2.06-.94-2.06-.94-.94-2.06-.94 2.06-2.06.94zm-11 1L8.5 8.5l.94-2.06 2.06-.94-2.06-.94L8.5 2.5l-.94 2.06-2.06.94zm10 10l.94 2.06.94-2.06 2.06-.94-2.06-.94-.94-2.06-.94 2.06-2.06.94z\"/><path d=\"M17.41 7.96l-1.37-1.37c-.4-.4-.92-.59-1.43-.59-.52 0-1.04.2-1.43.59L10.3 9.45l-7.72 7.72c-.78.78-.78 2.05 0 2.83L4 21.41c.39.39.9.59 1.41.59.51 0 1.02-.2 1.41-.59l7.78-7.78 2.81-2.81c.8-.78.8-2.07 0-2.86zM5.41 20L4 18.59l7.72-7.72 1.47 1.35L5.41 20z\"/>\n",
              "  </svg>\n",
              "      </button>\n",
              "      \n",
              "  <style>\n",
              "    .colab-df-container {\n",
              "      display:flex;\n",
              "      flex-wrap:wrap;\n",
              "      gap: 12px;\n",
              "    }\n",
              "\n",
              "    .colab-df-convert {\n",
              "      background-color: #E8F0FE;\n",
              "      border: none;\n",
              "      border-radius: 50%;\n",
              "      cursor: pointer;\n",
              "      display: none;\n",
              "      fill: #1967D2;\n",
              "      height: 32px;\n",
              "      padding: 0 0 0 0;\n",
              "      width: 32px;\n",
              "    }\n",
              "\n",
              "    .colab-df-convert:hover {\n",
              "      background-color: #E2EBFA;\n",
              "      box-shadow: 0px 1px 2px rgba(60, 64, 67, 0.3), 0px 1px 3px 1px rgba(60, 64, 67, 0.15);\n",
              "      fill: #174EA6;\n",
              "    }\n",
              "\n",
              "    [theme=dark] .colab-df-convert {\n",
              "      background-color: #3B4455;\n",
              "      fill: #D2E3FC;\n",
              "    }\n",
              "\n",
              "    [theme=dark] .colab-df-convert:hover {\n",
              "      background-color: #434B5C;\n",
              "      box-shadow: 0px 1px 3px 1px rgba(0, 0, 0, 0.15);\n",
              "      filter: drop-shadow(0px 1px 2px rgba(0, 0, 0, 0.3));\n",
              "      fill: #FFFFFF;\n",
              "    }\n",
              "  </style>\n",
              "\n",
              "      <script>\n",
              "        const buttonEl =\n",
              "          document.querySelector('#df-27c4f150-30b0-4bad-8684-c7679d9963fb button.colab-df-convert');\n",
              "        buttonEl.style.display =\n",
              "          google.colab.kernel.accessAllowed ? 'block' : 'none';\n",
              "\n",
              "        async function convertToInteractive(key) {\n",
              "          const element = document.querySelector('#df-27c4f150-30b0-4bad-8684-c7679d9963fb');\n",
              "          const dataTable =\n",
              "            await google.colab.kernel.invokeFunction('convertToInteractive',\n",
              "                                                     [key], {});\n",
              "          if (!dataTable) return;\n",
              "\n",
              "          const docLinkHtml = 'Like what you see? Visit the ' +\n",
              "            '<a target=\"_blank\" href=https://colab.research.google.com/notebooks/data_table.ipynb>data table notebook</a>'\n",
              "            + ' to learn more about interactive tables.';\n",
              "          element.innerHTML = '';\n",
              "          dataTable['output_type'] = 'display_data';\n",
              "          await google.colab.output.renderOutput(dataTable, element);\n",
              "          const docLink = document.createElement('div');\n",
              "          docLink.innerHTML = docLinkHtml;\n",
              "          element.appendChild(docLink);\n",
              "        }\n",
              "      </script>\n",
              "    </div>\n",
              "  </div>\n",
              "  "
            ]
          },
          "metadata": {},
          "execution_count": 5
        }
      ],
      "source": [
        "# Inspect the dataframe to understand the given data.\n",
        "df.head()\n"
      ]
    },
    {
      "cell_type": "code",
      "execution_count": null,
      "metadata": {
        "colab": {
          "base_uri": "https://localhost:8080/"
        },
        "id": "Dwcty-wmJrFw",
        "outputId": "2bedd2a7-5150-4ce9-a130-c53242f06814"
      },
      "outputs": [
        {
          "output_type": "stream",
          "name": "stdout",
          "text": [
            "Index(['_index', '_type', '_id', '_score', '_source.tags', '_source.zip_code',\n",
            "       '_source.complaint_id', '_source.issue', '_source.date_received',\n",
            "       '_source.state', '_source.consumer_disputed', '_source.product',\n",
            "       '_source.company_response', '_source.company', '_source.submitted_via',\n",
            "       '_source.date_sent_to_company', '_source.company_public_response',\n",
            "       '_source.sub_product', '_source.timely',\n",
            "       '_source.complaint_what_happened', '_source.sub_issue',\n",
            "       '_source.consumer_consent_provided'],\n",
            "      dtype='object')\n"
          ]
        }
      ],
      "source": [
        "#print the column names\n",
        "cols = df.columns\n",
        "print(cols)"
      ]
    },
    {
      "cell_type": "code",
      "execution_count": null,
      "metadata": {
        "colab": {
          "base_uri": "https://localhost:8080/",
          "height": 206
        },
        "id": "FYCtKXD1JrFw",
        "outputId": "94365c93-d5ef-4216-8ec1-74cfb01c24e4"
      },
      "outputs": [
        {
          "output_type": "execute_result",
          "data": {
            "text/plain": [
              "                                issue                      product  \\\n",
              "0   Attempts to collect debt not owed              Debt collection   \n",
              "1     Written notification about debt              Debt collection   \n",
              "2  Other features, terms, or problems  Credit card or prepaid card   \n",
              "3      Trouble during payment process                     Mortgage   \n",
              "4                    Fees or interest  Credit card or prepaid card   \n",
              "\n",
              "                                           complaint  \n",
              "0                                                     \n",
              "1  Good morning my name is XXXX XXXX and I apprec...  \n",
              "2  I upgraded my XXXX XXXX card in XX/XX/2018 and...  \n",
              "3                                                     \n",
              "4                                                     "
            ],
            "text/html": [
              "\n",
              "  <div id=\"df-fab79925-a217-453d-b6df-bcc81cf0d0e8\">\n",
              "    <div class=\"colab-df-container\">\n",
              "      <div>\n",
              "<style scoped>\n",
              "    .dataframe tbody tr th:only-of-type {\n",
              "        vertical-align: middle;\n",
              "    }\n",
              "\n",
              "    .dataframe tbody tr th {\n",
              "        vertical-align: top;\n",
              "    }\n",
              "\n",
              "    .dataframe thead th {\n",
              "        text-align: right;\n",
              "    }\n",
              "</style>\n",
              "<table border=\"1\" class=\"dataframe\">\n",
              "  <thead>\n",
              "    <tr style=\"text-align: right;\">\n",
              "      <th></th>\n",
              "      <th>issue</th>\n",
              "      <th>product</th>\n",
              "      <th>complaint</th>\n",
              "    </tr>\n",
              "  </thead>\n",
              "  <tbody>\n",
              "    <tr>\n",
              "      <th>0</th>\n",
              "      <td>Attempts to collect debt not owed</td>\n",
              "      <td>Debt collection</td>\n",
              "      <td></td>\n",
              "    </tr>\n",
              "    <tr>\n",
              "      <th>1</th>\n",
              "      <td>Written notification about debt</td>\n",
              "      <td>Debt collection</td>\n",
              "      <td>Good morning my name is XXXX XXXX and I apprec...</td>\n",
              "    </tr>\n",
              "    <tr>\n",
              "      <th>2</th>\n",
              "      <td>Other features, terms, or problems</td>\n",
              "      <td>Credit card or prepaid card</td>\n",
              "      <td>I upgraded my XXXX XXXX card in XX/XX/2018 and...</td>\n",
              "    </tr>\n",
              "    <tr>\n",
              "      <th>3</th>\n",
              "      <td>Trouble during payment process</td>\n",
              "      <td>Mortgage</td>\n",
              "      <td></td>\n",
              "    </tr>\n",
              "    <tr>\n",
              "      <th>4</th>\n",
              "      <td>Fees or interest</td>\n",
              "      <td>Credit card or prepaid card</td>\n",
              "      <td></td>\n",
              "    </tr>\n",
              "  </tbody>\n",
              "</table>\n",
              "</div>\n",
              "      <button class=\"colab-df-convert\" onclick=\"convertToInteractive('df-fab79925-a217-453d-b6df-bcc81cf0d0e8')\"\n",
              "              title=\"Convert this dataframe to an interactive table.\"\n",
              "              style=\"display:none;\">\n",
              "        \n",
              "  <svg xmlns=\"http://www.w3.org/2000/svg\" height=\"24px\"viewBox=\"0 0 24 24\"\n",
              "       width=\"24px\">\n",
              "    <path d=\"M0 0h24v24H0V0z\" fill=\"none\"/>\n",
              "    <path d=\"M18.56 5.44l.94 2.06.94-2.06 2.06-.94-2.06-.94-.94-2.06-.94 2.06-2.06.94zm-11 1L8.5 8.5l.94-2.06 2.06-.94-2.06-.94L8.5 2.5l-.94 2.06-2.06.94zm10 10l.94 2.06.94-2.06 2.06-.94-2.06-.94-.94-2.06-.94 2.06-2.06.94z\"/><path d=\"M17.41 7.96l-1.37-1.37c-.4-.4-.92-.59-1.43-.59-.52 0-1.04.2-1.43.59L10.3 9.45l-7.72 7.72c-.78.78-.78 2.05 0 2.83L4 21.41c.39.39.9.59 1.41.59.51 0 1.02-.2 1.41-.59l7.78-7.78 2.81-2.81c.8-.78.8-2.07 0-2.86zM5.41 20L4 18.59l7.72-7.72 1.47 1.35L5.41 20z\"/>\n",
              "  </svg>\n",
              "      </button>\n",
              "      \n",
              "  <style>\n",
              "    .colab-df-container {\n",
              "      display:flex;\n",
              "      flex-wrap:wrap;\n",
              "      gap: 12px;\n",
              "    }\n",
              "\n",
              "    .colab-df-convert {\n",
              "      background-color: #E8F0FE;\n",
              "      border: none;\n",
              "      border-radius: 50%;\n",
              "      cursor: pointer;\n",
              "      display: none;\n",
              "      fill: #1967D2;\n",
              "      height: 32px;\n",
              "      padding: 0 0 0 0;\n",
              "      width: 32px;\n",
              "    }\n",
              "\n",
              "    .colab-df-convert:hover {\n",
              "      background-color: #E2EBFA;\n",
              "      box-shadow: 0px 1px 2px rgba(60, 64, 67, 0.3), 0px 1px 3px 1px rgba(60, 64, 67, 0.15);\n",
              "      fill: #174EA6;\n",
              "    }\n",
              "\n",
              "    [theme=dark] .colab-df-convert {\n",
              "      background-color: #3B4455;\n",
              "      fill: #D2E3FC;\n",
              "    }\n",
              "\n",
              "    [theme=dark] .colab-df-convert:hover {\n",
              "      background-color: #434B5C;\n",
              "      box-shadow: 0px 1px 3px 1px rgba(0, 0, 0, 0.15);\n",
              "      filter: drop-shadow(0px 1px 2px rgba(0, 0, 0, 0.3));\n",
              "      fill: #FFFFFF;\n",
              "    }\n",
              "  </style>\n",
              "\n",
              "      <script>\n",
              "        const buttonEl =\n",
              "          document.querySelector('#df-fab79925-a217-453d-b6df-bcc81cf0d0e8 button.colab-df-convert');\n",
              "        buttonEl.style.display =\n",
              "          google.colab.kernel.accessAllowed ? 'block' : 'none';\n",
              "\n",
              "        async function convertToInteractive(key) {\n",
              "          const element = document.querySelector('#df-fab79925-a217-453d-b6df-bcc81cf0d0e8');\n",
              "          const dataTable =\n",
              "            await google.colab.kernel.invokeFunction('convertToInteractive',\n",
              "                                                     [key], {});\n",
              "          if (!dataTable) return;\n",
              "\n",
              "          const docLinkHtml = 'Like what you see? Visit the ' +\n",
              "            '<a target=\"_blank\" href=https://colab.research.google.com/notebooks/data_table.ipynb>data table notebook</a>'\n",
              "            + ' to learn more about interactive tables.';\n",
              "          element.innerHTML = '';\n",
              "          dataTable['output_type'] = 'display_data';\n",
              "          await google.colab.output.renderOutput(dataTable, element);\n",
              "          const docLink = document.createElement('div');\n",
              "          docLink.innerHTML = docLinkHtml;\n",
              "          element.appendChild(docLink);\n",
              "        }\n",
              "      </script>\n",
              "    </div>\n",
              "  </div>\n",
              "  "
            ]
          },
          "metadata": {},
          "execution_count": 7
        }
      ],
      "source": [
        "#Assign new column names\n",
        "# There are only following columns useful for the problem hence creating a new dataframe with just these 3 cols\n",
        "# _source.issue , _source.product and _source.complaint_what_happened\n",
        "\n",
        "df_new = pd.DataFrame(df[['_source.issue','_source.product','_source.complaint_what_happened']].values,columns = ['issue','product','complaint'])\n",
        "df_new.head()"
      ]
    },
    {
      "cell_type": "code",
      "execution_count": null,
      "metadata": {
        "colab": {
          "base_uri": "https://localhost:8080/"
        },
        "id": "grQUPFL5JrFx",
        "outputId": "04591e04-8e9d-411f-80cd-7ab454cc5e86"
      },
      "outputs": [
        {
          "output_type": "stream",
          "name": "stdout",
          "text": [
            "Records where complaint is blank:\n",
            "count : 57241\n",
            "percentage of records : 73.09\n"
          ]
        }
      ],
      "source": [
        "#Assign nan in place of blanks in the complaints column\n",
        "blank_complaint_count = df_new[df_new['complaint'].str.len() == 0].shape[0]\n",
        "print(f'Records where complaint is blank:\\ncount : {blank_complaint_count}\\npercentage of records : {round(blank_complaint_count*100/len(df_new),2)}')\n",
        "\n",
        "# Replacing these records with nan\n",
        "df_new.loc[df_new['complaint'].str.len() == 0,['complaint']] = np.nan"
      ]
    },
    {
      "cell_type": "code",
      "execution_count": null,
      "metadata": {
        "colab": {
          "base_uri": "https://localhost:8080/"
        },
        "id": "Jfxd8VSmJrFy",
        "outputId": "756177a5-36e9-42a2-ce20-eb9ada41eec2"
      },
      "outputs": [
        {
          "output_type": "execute_result",
          "data": {
            "text/plain": [
              "(21072, 3)"
            ]
          },
          "metadata": {},
          "execution_count": 9
        }
      ],
      "source": [
        "#Remove all rows where complaints column is nan\n",
        "df_new.dropna(inplace=True)\n",
        "df_new.reset_index(drop=True,inplace=True)\n",
        "df_new.shape"
      ]
    },
    {
      "cell_type": "code",
      "execution_count": null,
      "metadata": {
        "colab": {
          "base_uri": "https://localhost:8080/",
          "height": 206
        },
        "id": "mG9_tO7hzHBL",
        "outputId": "84cba3bc-1da6-4b28-b4e7-1b63e92fb794"
      },
      "outputs": [
        {
          "output_type": "execute_result",
          "data": {
            "text/plain": [
              "                                  issue  \\\n",
              "0       Written notification about debt   \n",
              "1    Other features, terms, or problems   \n",
              "2  Incorrect information on your report   \n",
              "3  Incorrect information on your report   \n",
              "4                   Managing an account   \n",
              "\n",
              "                                             product  \\\n",
              "0                                    Debt collection   \n",
              "1                        Credit card or prepaid card   \n",
              "2  Credit reporting, credit repair services, or o...   \n",
              "3  Credit reporting, credit repair services, or o...   \n",
              "4                        Checking or savings account   \n",
              "\n",
              "                                           complaint  \n",
              "0  Good morning my name is XXXX XXXX and I apprec...  \n",
              "1  I upgraded my XXXX XXXX card in XX/XX/2018 and...  \n",
              "2  Chase Card was reported on XX/XX/2019. However...  \n",
              "3  On XX/XX/2018, while trying to book a XXXX  XX...  \n",
              "4  my grand son give me check for {$1600.00} i de...  "
            ],
            "text/html": [
              "\n",
              "  <div id=\"df-cb6bd0f5-282a-4e7e-8ae3-0b772e310d1d\">\n",
              "    <div class=\"colab-df-container\">\n",
              "      <div>\n",
              "<style scoped>\n",
              "    .dataframe tbody tr th:only-of-type {\n",
              "        vertical-align: middle;\n",
              "    }\n",
              "\n",
              "    .dataframe tbody tr th {\n",
              "        vertical-align: top;\n",
              "    }\n",
              "\n",
              "    .dataframe thead th {\n",
              "        text-align: right;\n",
              "    }\n",
              "</style>\n",
              "<table border=\"1\" class=\"dataframe\">\n",
              "  <thead>\n",
              "    <tr style=\"text-align: right;\">\n",
              "      <th></th>\n",
              "      <th>issue</th>\n",
              "      <th>product</th>\n",
              "      <th>complaint</th>\n",
              "    </tr>\n",
              "  </thead>\n",
              "  <tbody>\n",
              "    <tr>\n",
              "      <th>0</th>\n",
              "      <td>Written notification about debt</td>\n",
              "      <td>Debt collection</td>\n",
              "      <td>Good morning my name is XXXX XXXX and I apprec...</td>\n",
              "    </tr>\n",
              "    <tr>\n",
              "      <th>1</th>\n",
              "      <td>Other features, terms, or problems</td>\n",
              "      <td>Credit card or prepaid card</td>\n",
              "      <td>I upgraded my XXXX XXXX card in XX/XX/2018 and...</td>\n",
              "    </tr>\n",
              "    <tr>\n",
              "      <th>2</th>\n",
              "      <td>Incorrect information on your report</td>\n",
              "      <td>Credit reporting, credit repair services, or o...</td>\n",
              "      <td>Chase Card was reported on XX/XX/2019. However...</td>\n",
              "    </tr>\n",
              "    <tr>\n",
              "      <th>3</th>\n",
              "      <td>Incorrect information on your report</td>\n",
              "      <td>Credit reporting, credit repair services, or o...</td>\n",
              "      <td>On XX/XX/2018, while trying to book a XXXX  XX...</td>\n",
              "    </tr>\n",
              "    <tr>\n",
              "      <th>4</th>\n",
              "      <td>Managing an account</td>\n",
              "      <td>Checking or savings account</td>\n",
              "      <td>my grand son give me check for {$1600.00} i de...</td>\n",
              "    </tr>\n",
              "  </tbody>\n",
              "</table>\n",
              "</div>\n",
              "      <button class=\"colab-df-convert\" onclick=\"convertToInteractive('df-cb6bd0f5-282a-4e7e-8ae3-0b772e310d1d')\"\n",
              "              title=\"Convert this dataframe to an interactive table.\"\n",
              "              style=\"display:none;\">\n",
              "        \n",
              "  <svg xmlns=\"http://www.w3.org/2000/svg\" height=\"24px\"viewBox=\"0 0 24 24\"\n",
              "       width=\"24px\">\n",
              "    <path d=\"M0 0h24v24H0V0z\" fill=\"none\"/>\n",
              "    <path d=\"M18.56 5.44l.94 2.06.94-2.06 2.06-.94-2.06-.94-.94-2.06-.94 2.06-2.06.94zm-11 1L8.5 8.5l.94-2.06 2.06-.94-2.06-.94L8.5 2.5l-.94 2.06-2.06.94zm10 10l.94 2.06.94-2.06 2.06-.94-2.06-.94-.94-2.06-.94 2.06-2.06.94z\"/><path d=\"M17.41 7.96l-1.37-1.37c-.4-.4-.92-.59-1.43-.59-.52 0-1.04.2-1.43.59L10.3 9.45l-7.72 7.72c-.78.78-.78 2.05 0 2.83L4 21.41c.39.39.9.59 1.41.59.51 0 1.02-.2 1.41-.59l7.78-7.78 2.81-2.81c.8-.78.8-2.07 0-2.86zM5.41 20L4 18.59l7.72-7.72 1.47 1.35L5.41 20z\"/>\n",
              "  </svg>\n",
              "      </button>\n",
              "      \n",
              "  <style>\n",
              "    .colab-df-container {\n",
              "      display:flex;\n",
              "      flex-wrap:wrap;\n",
              "      gap: 12px;\n",
              "    }\n",
              "\n",
              "    .colab-df-convert {\n",
              "      background-color: #E8F0FE;\n",
              "      border: none;\n",
              "      border-radius: 50%;\n",
              "      cursor: pointer;\n",
              "      display: none;\n",
              "      fill: #1967D2;\n",
              "      height: 32px;\n",
              "      padding: 0 0 0 0;\n",
              "      width: 32px;\n",
              "    }\n",
              "\n",
              "    .colab-df-convert:hover {\n",
              "      background-color: #E2EBFA;\n",
              "      box-shadow: 0px 1px 2px rgba(60, 64, 67, 0.3), 0px 1px 3px 1px rgba(60, 64, 67, 0.15);\n",
              "      fill: #174EA6;\n",
              "    }\n",
              "\n",
              "    [theme=dark] .colab-df-convert {\n",
              "      background-color: #3B4455;\n",
              "      fill: #D2E3FC;\n",
              "    }\n",
              "\n",
              "    [theme=dark] .colab-df-convert:hover {\n",
              "      background-color: #434B5C;\n",
              "      box-shadow: 0px 1px 3px 1px rgba(0, 0, 0, 0.15);\n",
              "      filter: drop-shadow(0px 1px 2px rgba(0, 0, 0, 0.3));\n",
              "      fill: #FFFFFF;\n",
              "    }\n",
              "  </style>\n",
              "\n",
              "      <script>\n",
              "        const buttonEl =\n",
              "          document.querySelector('#df-cb6bd0f5-282a-4e7e-8ae3-0b772e310d1d button.colab-df-convert');\n",
              "        buttonEl.style.display =\n",
              "          google.colab.kernel.accessAllowed ? 'block' : 'none';\n",
              "\n",
              "        async function convertToInteractive(key) {\n",
              "          const element = document.querySelector('#df-cb6bd0f5-282a-4e7e-8ae3-0b772e310d1d');\n",
              "          const dataTable =\n",
              "            await google.colab.kernel.invokeFunction('convertToInteractive',\n",
              "                                                     [key], {});\n",
              "          if (!dataTable) return;\n",
              "\n",
              "          const docLinkHtml = 'Like what you see? Visit the ' +\n",
              "            '<a target=\"_blank\" href=https://colab.research.google.com/notebooks/data_table.ipynb>data table notebook</a>'\n",
              "            + ' to learn more about interactive tables.';\n",
              "          element.innerHTML = '';\n",
              "          dataTable['output_type'] = 'display_data';\n",
              "          await google.colab.output.renderOutput(dataTable, element);\n",
              "          const docLink = document.createElement('div');\n",
              "          docLink.innerHTML = docLinkHtml;\n",
              "          element.appendChild(docLink);\n",
              "        }\n",
              "      </script>\n",
              "    </div>\n",
              "  </div>\n",
              "  "
            ]
          },
          "metadata": {},
          "execution_count": 10
        }
      ],
      "source": [
        "df_new.head()"
      ]
    },
    {
      "cell_type": "code",
      "execution_count": null,
      "metadata": {
        "colab": {
          "base_uri": "https://localhost:8080/",
          "height": 87
        },
        "id": "3gABnkRos1CU",
        "outputId": "31e96089-7b1c-4456-8e11-af9202132b31"
      },
      "outputs": [
        {
          "output_type": "execute_result",
          "data": {
            "text/plain": [
              "'Good morning my name is XXXX XXXX and I appreciate it if you could help me put a stop to Chase Bank cardmember services. \\nIn 2018 I wrote to Chase asking for debt verification and what they sent me a statement which is not acceptable. I am asking the bank to validate the debt. Instead I been receiving mail every month from them attempting to collect a debt. \\nI have a right to know this information as a consumer. \\n\\nChase account # XXXX XXXX XXXX XXXX Thanks in advance for your help.'"
            ],
            "application/vnd.google.colaboratory.intrinsic+json": {
              "type": "string"
            }
          },
          "metadata": {},
          "execution_count": 11
        }
      ],
      "source": [
        "df_new.iloc[0].complaint"
      ]
    },
    {
      "cell_type": "markdown",
      "metadata": {
        "id": "L944HZpsJrFy"
      },
      "source": [
        "## Prepare the text for topic modeling\n",
        "\n",
        "Once you have removed all the blank complaints, you need to:\n",
        "\n",
        "* Make the text lowercase\n",
        "* Remove text in square brackets\n",
        "* Remove punctuation\n",
        "* Remove words containing numbers\n",
        "\n",
        "\n",
        "Once you have done these cleaning operations you need to perform the following:\n",
        "* Lemmatize the texts\n",
        "* Extract the POS tags of the lemmatized text and remove all the words which have tags other than NN[tag == \"NN\"].\n"
      ]
    },
    {
      "cell_type": "code",
      "execution_count": null,
      "metadata": {
        "id": "qm7SjjSkJrFz"
      },
      "outputs": [],
      "source": [
        "# Write your function here to clean the text and remove all the unnecessary elements.\n",
        "import string\n",
        "string.punctuation\n",
        "\n",
        "\n",
        "\n",
        "def removePunctuation(text):\n",
        "  return text.translate(str.maketrans('','',string.punctuation))\n",
        "\n",
        "def remove_text_in_square_bracket(document):\n",
        "  return re.sub('\\[(.*?)\\]','',document)\n",
        "\n",
        "def remove_masked_data_and_numbers(document):\n",
        "  # regular expression to remove masked information represented by xxx's and all numbers\n",
        "  return re.sub('xx+\\d*|\\d+','',document)\n",
        "\n",
        "def clean_text_data(document):\n",
        "  document = document.lower()\n",
        "  document = remove_masked_data_and_numbers(document)\n",
        "  document = remove_text_in_square_bracket(document)\n",
        "  document = removePunctuation(document)\n",
        "  words = word_tokenize(document)\n",
        "  tokens = [word for word in words if word not in stopwords] # removing stopwords from the document\n",
        "  return ' '.join(tokens)\n"
      ]
    },
    {
      "cell_type": "code",
      "execution_count": null,
      "metadata": {
        "id": "Hlsq0B5rUu61"
      },
      "outputs": [],
      "source": [
        "# applying data cleaning method on complaints\n",
        "df_new['complaint_clean'] = df_new.complaint.apply(clean_text_data)\n"
      ]
    },
    {
      "cell_type": "code",
      "execution_count": null,
      "metadata": {
        "colab": {
          "base_uri": "https://localhost:8080/",
          "height": 70
        },
        "id": "qm9q4uk5XhL1",
        "outputId": "4b2840bd-caaa-4462-ad52-2cbd19c68b61"
      },
      "outputs": [
        {
          "output_type": "execute_result",
          "data": {
            "text/plain": [
              "'good morning name appreciate could help put stop chase bank cardmember services wrote chase asking debt verification sent statement acceptable asking bank validate debt instead receiving mail every month attempting collect debt right know information consumer chase account thanks advance help'"
            ],
            "application/vnd.google.colaboratory.intrinsic+json": {
              "type": "string"
            }
          },
          "metadata": {},
          "execution_count": 14
        }
      ],
      "source": [
        "# After cleaning the text\n",
        "df_new.complaint_clean[0]"
      ]
    },
    {
      "cell_type": "code",
      "execution_count": null,
      "metadata": {
        "id": "zgOu8t8HJrFz"
      },
      "outputs": [],
      "source": [
        "#Write your function to Lemmatize the texts\n",
        "lm = WordNetLemmatizer()\n",
        "def lemmetize_text(document):\n",
        "  tokens = []\n",
        "  for word in word_tokenize(document):\n",
        "    tokens.append(lm.lemmatize(word))\n",
        "  return ' '.join(tokens)\n",
        "\n"
      ]
    },
    {
      "cell_type": "code",
      "execution_count": null,
      "metadata": {
        "id": "uXnN7aa_JrF0"
      },
      "outputs": [],
      "source": [
        "#Create a dataframe('df_clean') that will have only the complaints and the lemmatized complaints \n",
        "df_clean = pd.DataFrame(df_new.complaint_clean)\n",
        "df_clean['lemmetized_complaint'] = df_new.complaint_clean.apply(lemmetize_text)"
      ]
    },
    {
      "cell_type": "code",
      "execution_count": null,
      "metadata": {
        "colab": {
          "base_uri": "https://localhost:8080/",
          "height": 424
        },
        "id": "nOiDVvEIJrF0",
        "outputId": "375d4908-a623-4621-d3aa-e1f5f4e405a7"
      },
      "outputs": [
        {
          "output_type": "execute_result",
          "data": {
            "text/plain": [
              "                                         complaint_clean  \\\n",
              "0      good morning name appreciate could help put st...   \n",
              "1      upgraded card told agent upgrade anniversary d...   \n",
              "2      chase card reported however fraudulent applica...   \n",
              "3      trying book ticket came across offer applied t...   \n",
              "4      grand son give check deposit chase account fun...   \n",
              "...                                                  ...   \n",
              "21067  chase card customer well decade offered multip...   \n",
              "21068  wednesday called chas visa credit card provide...   \n",
              "21069  familiar pay understand great risk provides co...   \n",
              "21070  flawless credit yrs ive chase credit cards cha...   \n",
              "21071  roughly years ago closed accounts jp morgan ch...   \n",
              "\n",
              "                                    lemmetized_complaint  \n",
              "0      good morning name appreciate could help put st...  \n",
              "1      upgraded card told agent upgrade anniversary d...  \n",
              "2      chase card reported however fraudulent applica...  \n",
              "3      trying book ticket came across offer applied t...  \n",
              "4      grand son give check deposit chase account fun...  \n",
              "...                                                  ...  \n",
              "21067  chase card customer well decade offered multip...  \n",
              "21068  wednesday called chas visa credit card provide...  \n",
              "21069  familiar pay understand great risk provides co...  \n",
              "21070  flawless credit yr ive chase credit card chase...  \n",
              "21071  roughly year ago closed account jp morgan chas...  \n",
              "\n",
              "[21072 rows x 2 columns]"
            ],
            "text/html": [
              "\n",
              "  <div id=\"df-d9e57928-b7d7-434b-b44a-6dcc1f952b98\">\n",
              "    <div class=\"colab-df-container\">\n",
              "      <div>\n",
              "<style scoped>\n",
              "    .dataframe tbody tr th:only-of-type {\n",
              "        vertical-align: middle;\n",
              "    }\n",
              "\n",
              "    .dataframe tbody tr th {\n",
              "        vertical-align: top;\n",
              "    }\n",
              "\n",
              "    .dataframe thead th {\n",
              "        text-align: right;\n",
              "    }\n",
              "</style>\n",
              "<table border=\"1\" class=\"dataframe\">\n",
              "  <thead>\n",
              "    <tr style=\"text-align: right;\">\n",
              "      <th></th>\n",
              "      <th>complaint_clean</th>\n",
              "      <th>lemmetized_complaint</th>\n",
              "    </tr>\n",
              "  </thead>\n",
              "  <tbody>\n",
              "    <tr>\n",
              "      <th>0</th>\n",
              "      <td>good morning name appreciate could help put st...</td>\n",
              "      <td>good morning name appreciate could help put st...</td>\n",
              "    </tr>\n",
              "    <tr>\n",
              "      <th>1</th>\n",
              "      <td>upgraded card told agent upgrade anniversary d...</td>\n",
              "      <td>upgraded card told agent upgrade anniversary d...</td>\n",
              "    </tr>\n",
              "    <tr>\n",
              "      <th>2</th>\n",
              "      <td>chase card reported however fraudulent applica...</td>\n",
              "      <td>chase card reported however fraudulent applica...</td>\n",
              "    </tr>\n",
              "    <tr>\n",
              "      <th>3</th>\n",
              "      <td>trying book ticket came across offer applied t...</td>\n",
              "      <td>trying book ticket came across offer applied t...</td>\n",
              "    </tr>\n",
              "    <tr>\n",
              "      <th>4</th>\n",
              "      <td>grand son give check deposit chase account fun...</td>\n",
              "      <td>grand son give check deposit chase account fun...</td>\n",
              "    </tr>\n",
              "    <tr>\n",
              "      <th>...</th>\n",
              "      <td>...</td>\n",
              "      <td>...</td>\n",
              "    </tr>\n",
              "    <tr>\n",
              "      <th>21067</th>\n",
              "      <td>chase card customer well decade offered multip...</td>\n",
              "      <td>chase card customer well decade offered multip...</td>\n",
              "    </tr>\n",
              "    <tr>\n",
              "      <th>21068</th>\n",
              "      <td>wednesday called chas visa credit card provide...</td>\n",
              "      <td>wednesday called chas visa credit card provide...</td>\n",
              "    </tr>\n",
              "    <tr>\n",
              "      <th>21069</th>\n",
              "      <td>familiar pay understand great risk provides co...</td>\n",
              "      <td>familiar pay understand great risk provides co...</td>\n",
              "    </tr>\n",
              "    <tr>\n",
              "      <th>21070</th>\n",
              "      <td>flawless credit yrs ive chase credit cards cha...</td>\n",
              "      <td>flawless credit yr ive chase credit card chase...</td>\n",
              "    </tr>\n",
              "    <tr>\n",
              "      <th>21071</th>\n",
              "      <td>roughly years ago closed accounts jp morgan ch...</td>\n",
              "      <td>roughly year ago closed account jp morgan chas...</td>\n",
              "    </tr>\n",
              "  </tbody>\n",
              "</table>\n",
              "<p>21072 rows × 2 columns</p>\n",
              "</div>\n",
              "      <button class=\"colab-df-convert\" onclick=\"convertToInteractive('df-d9e57928-b7d7-434b-b44a-6dcc1f952b98')\"\n",
              "              title=\"Convert this dataframe to an interactive table.\"\n",
              "              style=\"display:none;\">\n",
              "        \n",
              "  <svg xmlns=\"http://www.w3.org/2000/svg\" height=\"24px\"viewBox=\"0 0 24 24\"\n",
              "       width=\"24px\">\n",
              "    <path d=\"M0 0h24v24H0V0z\" fill=\"none\"/>\n",
              "    <path d=\"M18.56 5.44l.94 2.06.94-2.06 2.06-.94-2.06-.94-.94-2.06-.94 2.06-2.06.94zm-11 1L8.5 8.5l.94-2.06 2.06-.94-2.06-.94L8.5 2.5l-.94 2.06-2.06.94zm10 10l.94 2.06.94-2.06 2.06-.94-2.06-.94-.94-2.06-.94 2.06-2.06.94z\"/><path d=\"M17.41 7.96l-1.37-1.37c-.4-.4-.92-.59-1.43-.59-.52 0-1.04.2-1.43.59L10.3 9.45l-7.72 7.72c-.78.78-.78 2.05 0 2.83L4 21.41c.39.39.9.59 1.41.59.51 0 1.02-.2 1.41-.59l7.78-7.78 2.81-2.81c.8-.78.8-2.07 0-2.86zM5.41 20L4 18.59l7.72-7.72 1.47 1.35L5.41 20z\"/>\n",
              "  </svg>\n",
              "      </button>\n",
              "      \n",
              "  <style>\n",
              "    .colab-df-container {\n",
              "      display:flex;\n",
              "      flex-wrap:wrap;\n",
              "      gap: 12px;\n",
              "    }\n",
              "\n",
              "    .colab-df-convert {\n",
              "      background-color: #E8F0FE;\n",
              "      border: none;\n",
              "      border-radius: 50%;\n",
              "      cursor: pointer;\n",
              "      display: none;\n",
              "      fill: #1967D2;\n",
              "      height: 32px;\n",
              "      padding: 0 0 0 0;\n",
              "      width: 32px;\n",
              "    }\n",
              "\n",
              "    .colab-df-convert:hover {\n",
              "      background-color: #E2EBFA;\n",
              "      box-shadow: 0px 1px 2px rgba(60, 64, 67, 0.3), 0px 1px 3px 1px rgba(60, 64, 67, 0.15);\n",
              "      fill: #174EA6;\n",
              "    }\n",
              "\n",
              "    [theme=dark] .colab-df-convert {\n",
              "      background-color: #3B4455;\n",
              "      fill: #D2E3FC;\n",
              "    }\n",
              "\n",
              "    [theme=dark] .colab-df-convert:hover {\n",
              "      background-color: #434B5C;\n",
              "      box-shadow: 0px 1px 3px 1px rgba(0, 0, 0, 0.15);\n",
              "      filter: drop-shadow(0px 1px 2px rgba(0, 0, 0, 0.3));\n",
              "      fill: #FFFFFF;\n",
              "    }\n",
              "  </style>\n",
              "\n",
              "      <script>\n",
              "        const buttonEl =\n",
              "          document.querySelector('#df-d9e57928-b7d7-434b-b44a-6dcc1f952b98 button.colab-df-convert');\n",
              "        buttonEl.style.display =\n",
              "          google.colab.kernel.accessAllowed ? 'block' : 'none';\n",
              "\n",
              "        async function convertToInteractive(key) {\n",
              "          const element = document.querySelector('#df-d9e57928-b7d7-434b-b44a-6dcc1f952b98');\n",
              "          const dataTable =\n",
              "            await google.colab.kernel.invokeFunction('convertToInteractive',\n",
              "                                                     [key], {});\n",
              "          if (!dataTable) return;\n",
              "\n",
              "          const docLinkHtml = 'Like what you see? Visit the ' +\n",
              "            '<a target=\"_blank\" href=https://colab.research.google.com/notebooks/data_table.ipynb>data table notebook</a>'\n",
              "            + ' to learn more about interactive tables.';\n",
              "          element.innerHTML = '';\n",
              "          dataTable['output_type'] = 'display_data';\n",
              "          await google.colab.output.renderOutput(dataTable, element);\n",
              "          const docLink = document.createElement('div');\n",
              "          docLink.innerHTML = docLinkHtml;\n",
              "          element.appendChild(docLink);\n",
              "        }\n",
              "      </script>\n",
              "    </div>\n",
              "  </div>\n",
              "  "
            ]
          },
          "metadata": {},
          "execution_count": 17
        }
      ],
      "source": [
        "df_clean"
      ]
    },
    {
      "cell_type": "code",
      "execution_count": null,
      "metadata": {
        "id": "Kk7fc4DuJrF1"
      },
      "outputs": [],
      "source": [
        "#Write your function to extract the POS tags\n",
        "\n",
        "def pos_tag_apply(text):\n",
        "  tokens = []\n",
        "  for tag in pos_tag(word_tokenize(text)):\n",
        "    if tag[1] != 'NN':\n",
        "      tokens.append(tag[0])\n",
        "  return ' '.join(tokens)\n",
        "\n",
        "\n",
        "\n",
        "df_clean[\"complaint_POS_removed\"] = df_clean['lemmetized_complaint'].apply(pos_tag_apply) #this column should contain lemmatized text with all the words removed which have tags other than NN[tag == \"NN\"].\n"
      ]
    },
    {
      "cell_type": "code",
      "execution_count": null,
      "metadata": {
        "colab": {
          "base_uri": "https://localhost:8080/",
          "height": 641
        },
        "id": "AjxfchvFJrF2",
        "outputId": "40667223-a81b-44e2-eab3-3abe59fd92b9"
      },
      "outputs": [
        {
          "output_type": "execute_result",
          "data": {
            "text/plain": [
              "                                         complaint_clean  \\\n",
              "0      good morning name appreciate could help put st...   \n",
              "1      upgraded card told agent upgrade anniversary d...   \n",
              "2      chase card reported however fraudulent applica...   \n",
              "3      trying book ticket came across offer applied t...   \n",
              "4      grand son give check deposit chase account fun...   \n",
              "...                                                  ...   \n",
              "21067  chase card customer well decade offered multip...   \n",
              "21068  wednesday called chas visa credit card provide...   \n",
              "21069  familiar pay understand great risk provides co...   \n",
              "21070  flawless credit yrs ive chase credit cards cha...   \n",
              "21071  roughly years ago closed accounts jp morgan ch...   \n",
              "\n",
              "                                    lemmetized_complaint  \\\n",
              "0      good morning name appreciate could help put st...   \n",
              "1      upgraded card told agent upgrade anniversary d...   \n",
              "2      chase card reported however fraudulent applica...   \n",
              "3      trying book ticket came across offer applied t...   \n",
              "4      grand son give check deposit chase account fun...   \n",
              "...                                                  ...   \n",
              "21067  chase card customer well decade offered multip...   \n",
              "21068  wednesday called chas visa credit card provide...   \n",
              "21069  familiar pay understand great risk provides co...   \n",
              "21070  flawless credit yr ive chase credit card chase...   \n",
              "21071  roughly year ago closed account jp morgan chas...   \n",
              "\n",
              "                                   complaint_POS_removed  \n",
              "0      good could help put stop wrote chase asking se...  \n",
              "1      upgraded told upgrade anniversary would change...  \n",
              "2      reported however fraudulent submitted without ...  \n",
              "3      trying came across applied towards applied rew...  \n",
              "4      grand give clear closed never paid said need s...  \n",
              "...                                                  ...  \n",
              "21067  well offered multiple acquiring new mile appro...  \n",
              "21068  called asked make purchased three high old tra...  \n",
              "21069  familiar understand great provides believed sa...  \n",
              "21070  yr ive specifically since ever ive done many p...  \n",
              "21071  roughly ago closed morgan chase close unsecure...  \n",
              "\n",
              "[21072 rows x 3 columns]"
            ],
            "text/html": [
              "\n",
              "  <div id=\"df-57507c33-f326-42cf-b268-82e85c52051e\">\n",
              "    <div class=\"colab-df-container\">\n",
              "      <div>\n",
              "<style scoped>\n",
              "    .dataframe tbody tr th:only-of-type {\n",
              "        vertical-align: middle;\n",
              "    }\n",
              "\n",
              "    .dataframe tbody tr th {\n",
              "        vertical-align: top;\n",
              "    }\n",
              "\n",
              "    .dataframe thead th {\n",
              "        text-align: right;\n",
              "    }\n",
              "</style>\n",
              "<table border=\"1\" class=\"dataframe\">\n",
              "  <thead>\n",
              "    <tr style=\"text-align: right;\">\n",
              "      <th></th>\n",
              "      <th>complaint_clean</th>\n",
              "      <th>lemmetized_complaint</th>\n",
              "      <th>complaint_POS_removed</th>\n",
              "    </tr>\n",
              "  </thead>\n",
              "  <tbody>\n",
              "    <tr>\n",
              "      <th>0</th>\n",
              "      <td>good morning name appreciate could help put st...</td>\n",
              "      <td>good morning name appreciate could help put st...</td>\n",
              "      <td>good could help put stop wrote chase asking se...</td>\n",
              "    </tr>\n",
              "    <tr>\n",
              "      <th>1</th>\n",
              "      <td>upgraded card told agent upgrade anniversary d...</td>\n",
              "      <td>upgraded card told agent upgrade anniversary d...</td>\n",
              "      <td>upgraded told upgrade anniversary would change...</td>\n",
              "    </tr>\n",
              "    <tr>\n",
              "      <th>2</th>\n",
              "      <td>chase card reported however fraudulent applica...</td>\n",
              "      <td>chase card reported however fraudulent applica...</td>\n",
              "      <td>reported however fraudulent submitted without ...</td>\n",
              "    </tr>\n",
              "    <tr>\n",
              "      <th>3</th>\n",
              "      <td>trying book ticket came across offer applied t...</td>\n",
              "      <td>trying book ticket came across offer applied t...</td>\n",
              "      <td>trying came across applied towards applied rew...</td>\n",
              "    </tr>\n",
              "    <tr>\n",
              "      <th>4</th>\n",
              "      <td>grand son give check deposit chase account fun...</td>\n",
              "      <td>grand son give check deposit chase account fun...</td>\n",
              "      <td>grand give clear closed never paid said need s...</td>\n",
              "    </tr>\n",
              "    <tr>\n",
              "      <th>...</th>\n",
              "      <td>...</td>\n",
              "      <td>...</td>\n",
              "      <td>...</td>\n",
              "    </tr>\n",
              "    <tr>\n",
              "      <th>21067</th>\n",
              "      <td>chase card customer well decade offered multip...</td>\n",
              "      <td>chase card customer well decade offered multip...</td>\n",
              "      <td>well offered multiple acquiring new mile appro...</td>\n",
              "    </tr>\n",
              "    <tr>\n",
              "      <th>21068</th>\n",
              "      <td>wednesday called chas visa credit card provide...</td>\n",
              "      <td>wednesday called chas visa credit card provide...</td>\n",
              "      <td>called asked make purchased three high old tra...</td>\n",
              "    </tr>\n",
              "    <tr>\n",
              "      <th>21069</th>\n",
              "      <td>familiar pay understand great risk provides co...</td>\n",
              "      <td>familiar pay understand great risk provides co...</td>\n",
              "      <td>familiar understand great provides believed sa...</td>\n",
              "    </tr>\n",
              "    <tr>\n",
              "      <th>21070</th>\n",
              "      <td>flawless credit yrs ive chase credit cards cha...</td>\n",
              "      <td>flawless credit yr ive chase credit card chase...</td>\n",
              "      <td>yr ive specifically since ever ive done many p...</td>\n",
              "    </tr>\n",
              "    <tr>\n",
              "      <th>21071</th>\n",
              "      <td>roughly years ago closed accounts jp morgan ch...</td>\n",
              "      <td>roughly year ago closed account jp morgan chas...</td>\n",
              "      <td>roughly ago closed morgan chase close unsecure...</td>\n",
              "    </tr>\n",
              "  </tbody>\n",
              "</table>\n",
              "<p>21072 rows × 3 columns</p>\n",
              "</div>\n",
              "      <button class=\"colab-df-convert\" onclick=\"convertToInteractive('df-57507c33-f326-42cf-b268-82e85c52051e')\"\n",
              "              title=\"Convert this dataframe to an interactive table.\"\n",
              "              style=\"display:none;\">\n",
              "        \n",
              "  <svg xmlns=\"http://www.w3.org/2000/svg\" height=\"24px\"viewBox=\"0 0 24 24\"\n",
              "       width=\"24px\">\n",
              "    <path d=\"M0 0h24v24H0V0z\" fill=\"none\"/>\n",
              "    <path d=\"M18.56 5.44l.94 2.06.94-2.06 2.06-.94-2.06-.94-.94-2.06-.94 2.06-2.06.94zm-11 1L8.5 8.5l.94-2.06 2.06-.94-2.06-.94L8.5 2.5l-.94 2.06-2.06.94zm10 10l.94 2.06.94-2.06 2.06-.94-2.06-.94-.94-2.06-.94 2.06-2.06.94z\"/><path d=\"M17.41 7.96l-1.37-1.37c-.4-.4-.92-.59-1.43-.59-.52 0-1.04.2-1.43.59L10.3 9.45l-7.72 7.72c-.78.78-.78 2.05 0 2.83L4 21.41c.39.39.9.59 1.41.59.51 0 1.02-.2 1.41-.59l7.78-7.78 2.81-2.81c.8-.78.8-2.07 0-2.86zM5.41 20L4 18.59l7.72-7.72 1.47 1.35L5.41 20z\"/>\n",
              "  </svg>\n",
              "      </button>\n",
              "      \n",
              "  <style>\n",
              "    .colab-df-container {\n",
              "      display:flex;\n",
              "      flex-wrap:wrap;\n",
              "      gap: 12px;\n",
              "    }\n",
              "\n",
              "    .colab-df-convert {\n",
              "      background-color: #E8F0FE;\n",
              "      border: none;\n",
              "      border-radius: 50%;\n",
              "      cursor: pointer;\n",
              "      display: none;\n",
              "      fill: #1967D2;\n",
              "      height: 32px;\n",
              "      padding: 0 0 0 0;\n",
              "      width: 32px;\n",
              "    }\n",
              "\n",
              "    .colab-df-convert:hover {\n",
              "      background-color: #E2EBFA;\n",
              "      box-shadow: 0px 1px 2px rgba(60, 64, 67, 0.3), 0px 1px 3px 1px rgba(60, 64, 67, 0.15);\n",
              "      fill: #174EA6;\n",
              "    }\n",
              "\n",
              "    [theme=dark] .colab-df-convert {\n",
              "      background-color: #3B4455;\n",
              "      fill: #D2E3FC;\n",
              "    }\n",
              "\n",
              "    [theme=dark] .colab-df-convert:hover {\n",
              "      background-color: #434B5C;\n",
              "      box-shadow: 0px 1px 3px 1px rgba(0, 0, 0, 0.15);\n",
              "      filter: drop-shadow(0px 1px 2px rgba(0, 0, 0, 0.3));\n",
              "      fill: #FFFFFF;\n",
              "    }\n",
              "  </style>\n",
              "\n",
              "      <script>\n",
              "        const buttonEl =\n",
              "          document.querySelector('#df-57507c33-f326-42cf-b268-82e85c52051e button.colab-df-convert');\n",
              "        buttonEl.style.display =\n",
              "          google.colab.kernel.accessAllowed ? 'block' : 'none';\n",
              "\n",
              "        async function convertToInteractive(key) {\n",
              "          const element = document.querySelector('#df-57507c33-f326-42cf-b268-82e85c52051e');\n",
              "          const dataTable =\n",
              "            await google.colab.kernel.invokeFunction('convertToInteractive',\n",
              "                                                     [key], {});\n",
              "          if (!dataTable) return;\n",
              "\n",
              "          const docLinkHtml = 'Like what you see? Visit the ' +\n",
              "            '<a target=\"_blank\" href=https://colab.research.google.com/notebooks/data_table.ipynb>data table notebook</a>'\n",
              "            + ' to learn more about interactive tables.';\n",
              "          element.innerHTML = '';\n",
              "          dataTable['output_type'] = 'display_data';\n",
              "          await google.colab.output.renderOutput(dataTable, element);\n",
              "          const docLink = document.createElement('div');\n",
              "          docLink.innerHTML = docLinkHtml;\n",
              "          element.appendChild(docLink);\n",
              "        }\n",
              "      </script>\n",
              "    </div>\n",
              "  </div>\n",
              "  "
            ]
          },
          "metadata": {},
          "execution_count": 19
        }
      ],
      "source": [
        "#The clean dataframe should now contain the raw complaint, lemmatized complaint and the complaint after removing POS tags.\n",
        "df_clean"
      ]
    },
    {
      "cell_type": "markdown",
      "metadata": {
        "id": "_7Un1AElJrF2"
      },
      "source": [
        "## Exploratory data analysis to get familiar with the data.\n",
        "\n",
        "Write the code in this task to perform the following:\n",
        "\n",
        "*   Visualise the data according to the 'Complaint' character length\n",
        "*   Using a word cloud find the top 40 words by frequency among all the articles after processing the text\n",
        "*   Find the top unigrams,bigrams and trigrams by frequency among all the complaints after processing the text. ‘\n",
        "\n",
        "\n"
      ]
    },
    {
      "cell_type": "code",
      "execution_count": null,
      "metadata": {
        "colab": {
          "base_uri": "https://localhost:8080/",
          "height": 542
        },
        "id": "q-zaqJF6JrF2",
        "outputId": "1e7628dd-2db5-4dab-fe7e-ecad2e7df648"
      },
      "outputs": [
        {
          "output_type": "display_data",
          "data": {
            "text/html": [
              "<html>\n",
              "<head><meta charset=\"utf-8\" /></head>\n",
              "<body>\n",
              "    <div>            <script src=\"https://cdnjs.cloudflare.com/ajax/libs/mathjax/2.7.5/MathJax.js?config=TeX-AMS-MML_SVG\"></script><script type=\"text/javascript\">if (window.MathJax) {MathJax.Hub.Config({SVG: {font: \"STIX-Web\"}});}</script>                <script type=\"text/javascript\">window.PlotlyConfig = {MathJaxConfig: 'local'};</script>\n",
              "        <script src=\"https://cdn.plot.ly/plotly-2.8.3.min.js\"></script>                <div id=\"4e7ed276-6894-4516-86df-4cf3beb82c56\" class=\"plotly-graph-div\" style=\"height:525px; width:100%;\"></div>            <script type=\"text/javascript\">                                    window.PLOTLYENV=window.PLOTLYENV || {};                                    if (document.getElementById(\"4e7ed276-6894-4516-86df-4cf3beb82c56\")) {                    Plotly.newPlot(                        \"4e7ed276-6894-4516-86df-4cf3beb82c56\",                        [{\"alignmentgroup\":\"True\",\"bingroup\":\"x\",\"hovertemplate\":\"complaint_len=%{x}<br>count=%{y}<extra></extra>\",\"legendgroup\":\"\",\"marker\":{\"color\":\"#636efa\",\"pattern\":{\"shape\":\"\"}},\"name\":\"\",\"offsetgroup\":\"\",\"orientation\":\"v\",\"showlegend\":false,\"x\":[130,111,90,511,100,13,877,407,959,42,17,261,108,217,766,184,50,36,288,547,315,73,195,55,319,593,106,429,303,67,332,259,93,415,22,122,756,178,405,3019,431,122,80,404,881,196,192,412,255,1124,1256,191,356,181,35,215,340,1881,0,423,488,216,148,31,231,669,819,224,288,446,310,106,236,84,181,89,125,483,334,466,232,761,2622,527,33,646,125,308,629,1523,201,354,511,567,65,296,409,386,145,232,502,2507,106,813,1022,697,108,501,345,363,744,2272,363,148,579,333,342,12,1453,223,255,724,1153,117,118,852,102,805,464,807,318,5536,662,280,736,313,198,264,367,596,298,1572,64,221,217,418,146,324,187,1833,126,220,542,129,95,592,234,514,149,928,16,73,344,262,208,1291,334,470,186,301,609,698,651,126,536,229,223,394,877,100,619,275,139,176,710,174,312,793,402,414,394,349,391,442,908,145,175,537,1748,715,260,318,77,239,821,1089,108,514,132,1103,407,848,323,159,1176,56,285,114,901,329,352,245,435,1014,796,233,246,44,241,435,1024,1277,286,46,844,499,37,636,67,552,10,143,88,221,140,77,351,27,320,218,1067,613,136,136,490,86,751,1502,56,180,78,255,185,123,243,151,240,503,491,425,228,201,626,819,562,246,132,177,140,109,407,194,661,475,411,459,230,107,454,215,88,61,157,442,278,197,526,2537,753,399,84,289,66,70,146,795,70,296,334,21,501,515,433,367,426,231,143,114,2214,383,333,221,289,1034,169,190,147,325,1390,541,209,197,180,244,153,120,241,251,10,63,818,95,102,1396,1270,176,142,196,430,472,354,352,79,244,342,250,241,256,1797,933,74,299,98,311,423,1333,1130,75,55,69,735,660,1083,95,628,331,316,200,20,420,448,503,594,154,1395,388,196,181,1228,587,354,402,635,106,423,1073,275,607,852,460,120,523,387,531,224,3107,134,1022,591,127,565,75,189,240,850,41,46,285,345,161,295,470,581,2261,282,242,409,179,186,42,262,8,219,618,409,462,10772,685,672,313,439,351,311,271,272,288,206,444,256,1368,16,301,696,412,91,252,606,624,300,125,597,199,833,96,166,181,278,659,234,269,1267,173,702,132,281,99,1470,165,562,26,204,516,332,429,719,276,514,306,2578,133,681,259,335,26,400,449,71,255,392,57,549,131,61,480,881,909,388,571,391,438,539,46,627,416,57,2402,93,122,1442,187,28,929,672,355,482,52,384,28,281,97,461,182,349,44,477,33,353,768,57,124,112,261,422,116,323,240,13,261,544,496,95,591,214,355,238,588,999,118,395,371,539,127,1135,103,52,56,609,774,449,251,277,1003,138,316,427,486,446,162,8,302,153,82,472,1030,379,699,147,264,367,312,459,416,396,157,565,818,29,281,918,287,292,870,244,501,84,98,1120,184,1161,347,134,183,169,403,76,232,523,453,610,176,52,512,454,312,548,230,426,25,115,173,1080,347,199,15,167,87,45,1236,172,326,412,802,426,36,385,88,275,55,463,439,112,500,609,246,4343,519,418,1000,353,594,148,151,482,604,189,199,134,353,333,489,123,309,408,782,44,266,58,230,1742,89,256,11,152,374,683,305,334,376,1021,1083,240,224,239,282,32,233,541,152,136,257,396,88,108,258,102,161,361,258,219,8,272,1125,153,343,685,362,22,462,224,162,170,189,27,452,341,76,286,31,117,763,405,985,547,347,626,671,528,297,644,179,187,138,353,125,523,185,317,31,320,47,1680,144,145,342,32,203,479,278,1145,356,281,123,233,44,119,64,304,1473,432,26,626,291,938,321,963,132,374,339,69,38,781,196,550,280,180,22,263,120,397,596,416,118,48,96,1244,151,18,847,299,694,391,387,185,396,82,425,435,435,366,10,453,259,58,316,492,158,524,1480,240,47,37,1862,157,351,259,338,86,423,336,850,192,323,710,500,124,407,403,1211,441,227,497,371,794,133,828,94,900,926,271,695,402,746,1148,368,358,507,747,288,327,359,144,275,471,253,351,533,977,337,685,720,160,485,222,1284,302,66,166,365,579,103,326,293,285,407,202,1317,226,12,354,1315,204,4,90,274,552,297,1399,359,129,101,155,217,252,172,813,737,62,292,323,359,638,48,454,329,395,439,327,150,504,540,445,207,703,417,482,987,224,372,383,637,239,497,110,521,266,455,412,48,29,1114,1133,247,145,2022,682,133,825,63,184,597,310,221,36,333,676,505,47,36,712,187,223,523,687,414,195,26,77,79,327,327,103,419,2384,269,13,1021,1112,948,349,72,960,268,331,225,46,514,507,230,84,64,1021,362,399,111,154,776,48,181,98,170,1352,423,476,1119,103,285,133,132,249,140,1604,203,83,1105,1138,113,50,520,422,194,226,20,77,548,236,20,567,51,808,388,806,428,30,149,556,1168,210,500,89,338,2061,208,331,91,1376,595,844,141,192,182,1066,20,138,196,91,79,673,184,49,297,113,399,720,156,265,327,899,86,429,706,374,168,561,2117,282,623,528,146,1085,643,377,423,831,107,258,65,529,13,1124,446,175,179,142,1641,885,50,3239,440,379,298,390,356,530,169,606,11,18,2069,578,62,159,17,260,160,282,116,81,111,75,132,133,366,454,1217,670,68,242,82,632,220,7073,374,1046,1095,170,982,665,638,107,220,175,530,48,246,108,1628,2379,376,326,572,226,311,981,92,186,290,372,199,196,62,2027,480,154,1015,125,909,117,331,269,294,563,388,222,685,326,576,23,722,19,223,245,144,1041,232,1071,278,102,230,302,87,63,373,271,558,424,523,117,198,394,457,290,176,17,85,278,929,114,438,700,791,353,2586,63,4076,21,843,990,230,164,301,115,246,247,606,45,147,218,301,206,595,85,830,378,263,1468,98,59,1011,95,734,123,99,303,892,720,381,46,66,326,1014,383,114,520,265,352,471,198,1295,527,193,483,63,882,228,1104,485,248,746,57,74,401,349,379,701,54,613,206,345,176,534,24,449,291,112,330,63,686,559,57,507,689,170,74,1657,63,186,394,89,258,217,373,319,310,327,348,776,402,121,152,250,240,681,429,1114,236,164,102,480,382,118,940,211,507,90,326,64,31,527,281,463,124,128,232,3081,303,314,2009,647,717,627,191,181,288,345,189,467,447,155,197,128,122,966,301,118,649,122,311,85,251,246,174,65,137,137,124,30,80,542,789,271,979,408,127,1058,44,219,1246,710,196,322,635,52,52,886,129,457,561,255,108,141,126,436,189,980,412,611,107,163,427,185,526,462,310,91,328,516,101,384,29,174,114,269,351,336,441,72,582,109,371,47,523,987,160,415,549,355,906,303,221,65,136,99,143,387,165,135,454,165,222,237,310,1547,449,56,16,448,305,51,70,69,288,617,257,1393,712,163,125,929,494,1086,348,369,1088,240,594,217,604,241,1064,505,420,44,52,82,90,80,237,233,1121,336,320,335,38,294,343,377,173,27,637,164,121,1452,208,630,261,247,235,728,600,230,273,935,100,395,21,543,812,117,207,527,806,3753,514,965,125,157,418,943,366,416,205,202,71,206,247,908,1130,104,466,426,447,340,1178,49,257,146,65,491,703,209,637,1527,243,426,163,303,213,485,90,286,83,335,94,676,252,314,612,2040,388,928,605,191,507,21,142,132,152,93,323,181,201,139,212,403,285,493,813,446,440,401,152,75,666,79,1428,688,277,329,130,124,400,92,245,200,256,238,96,133,1389,347,373,227,199,1439,128,86,309,277,28,247,243,408,132,598,426,415,58,159,254,0,1789,64,198,10,186,968,263,57,394,454,168,116,381,327,133,178,287,552,394,328,69,853,181,61,359,302,371,91,294,189,513,252,331,244,97,343,152,646,242,77,389,199,31,475,545,221,102,233,777,710,216,62,251,242,93,196,1072,462,238,397,430,230,97,1808,365,330,319,15,229,148,116,166,1106,19,302,505,674,65,160,206,162,186,291,109,437,155,32,313,241,281,1242,166,785,183,1420,310,786,407,564,473,109,634,95,184,376,188,18,721,273,498,606,65,656,842,225,258,85,123,370,74,267,160,301,469,251,1692,226,270,63,120,213,329,370,255,105,1217,531,324,688,189,16,306,234,271,143,411,98,592,81,60,233,481,154,322,461,232,273,217,150,457,42,228,474,271,1455,322,74,416,291,361,26,187,33,30,263,212,228,175,86,228,295,286,294,1024,147,321,725,295,554,881,51,270,237,507,256,172,403,320,144,727,280,375,203,472,468,315,375,422,478,718,543,299,287,285,92,1253,304,227,436,96,300,444,144,540,331,78,83,408,223,456,224,269,653,112,187,984,146,889,69,364,81,44,584,357,382,264,171,29,305,210,635,373,445,221,100,31,164,348,604,149,386,148,121,216,1033,159,188,81,85,466,524,923,425,206,1815,172,756,433,278,562,438,356,640,261,132,209,1516,200,80,381,471,136,156,634,4122,49,1159,189,318,409,134,340,457,224,107,284,74,421,2300,443,188,33,311,263,1430,296,44,243,96,1962,142,142,299,299,423,220,226,724,15,740,214,140,334,379,705,1179,899,91,635,1148,676,586,74,94,479,384,406,31,472,200,74,389,1028,35,86,501,98,86,742,159,842,223,336,1660,645,672,191,28,219,194,37,960,1114,1567,876,476,57,81,746,388,1224,288,308,18,530,174,507,44,389,333,450,145,881,122,29,642,62,83,756,169,338,653,68,257,362,349,251,865,106,396,139,448,54,321,42,156,313,146,1031,575,289,909,664,319,208,368,109,12,50,153,519,227,1306,83,475,163,21,280,297,2478,316,663,168,41,227,628,73,884,538,269,606,82,539,251,180,271,333,525,193,281,102,544,562,166,147,772,25,205,119,324,158,450,1100,344,331,97,1477,505,296,601,339,181,341,372,37,399,897,442,92,111,79,69,419,45,118,253,129,174,693,302,316,496,58,212,275,351,808,238,1142,1117,1128,214,214,668,223,372,43,145,28,21,271,434,146,47,620,50,320,179,833,1418,189,68,270,249,125,433,515,561,96,135,260,505,255,344,126,252,628,381,871,899,273,292,69,416,1356,1136,535,174,378,160,48,35,208,146,65,203,301,86,385,564,187,1307,56,494,272,50,486,260,1078,139,94,490,1173,565,545,953,165,246,72,306,97,104,433,35,735,291,237,341,382,236,40,511,283,83,397,600,217,148,169,1051,18,696,278,918,1126,163,848,83,596,145,662,194,316,132,364,296,124,357,404,428,89,85,273,906,235,376,340,98,199,194,205,477,336,316,159,534,121,129,185,138,165,1024,713,283,391,87,781,799,543,409,196,216,459,286,133,394,307,185,115,303,64,140,1499,284,8,133,103,160,232,252,194,552,540,384,30,83,917,246,7759,186,144,704,29,253,118,96,2556,237,743,1151,138,108,139,885,123,234,151,41,373,648,448,453,105,1107,156,317,426,659,106,84,48,338,30,22,44,185,57,277,36,836,248,373,337,91,110,1161,112,743,210,188,129,101,47,3464,143,566,750,271,83,39,348,167,250,108,513,815,192,439,147,86,38,600,194,331,205,304,163,121,765,278,1003,129,1077,345,46,206,94,211,958,276,4296,229,136,79,147,348,646,286,511,284,120,1247,243,43,203,1527,1843,227,217,30,330,131,1742,310,593,595,199,139,129,282,435,51,591,205,620,875,904,168,224,103,265,531,782,135,357,988,260,215,61,30,103,658,1193,985,679,59,151,385,552,171,543,184,290,191,806,242,1247,191,711,225,553,230,443,680,290,175,69,270,491,1092,103,522,570,172,308,563,304,514,179,261,570,215,404,366,226,488,506,510,1564,69,21,647,361,106,180,290,740,630,57,194,339,180,377,35,420,607,89,52,135,240,300,106,369,352,700,52,197,292,2136,168,547,1100,320,57,447,64,36,510,1302,933,403,360,259,852,720,617,1114,97,336,263,340,74,142,44,643,246,388,1085,294,144,42,1321,249,119,113,48,342,146,34,49,321,264,81,183,1169,335,268,106,8,891,36,846,50,7,275,452,677,228,627,148,327,384,432,212,172,617,214,127,530,282,188,5,484,623,134,962,308,275,58,325,928,938,477,83,828,516,2199,89,301,427,96,165,362,379,139,153,216,191,131,23,560,471,1756,99,112,165,123,220,280,344,291,408,546,1302,62,105,141,281,341,273,61,64,145,100,141,346,30,201,489,685,375,31,162,72,684,453,659,38,366,260,972,1682,234,505,77,338,419,207,300,104,62,60,345,634,56,193,81,229,59,119,13,240,120,8,611,345,349,56,431,89,258,938,288,154,298,94,1144,94,214,73,36,305,142,178,80,130,207,31,787,294,442,267,302,1164,49,163,730,261,51,535,585,54,121,153,323,908,33,60,164,490,41,768,600,162,170,240,1262,481,1091,217,126,159,780,1909,81,605,650,58,168,240,458,272,144,11,301,258,183,425,895,1101,62,10,634,464,514,406,323,350,522,210,503,748,213,39,231,1167,431,155,432,174,199,567,42,280,219,387,129,395,1133,810,113,451,676,153,354,657,474,270,40,727,319,478,764,891,410,354,210,147,357,147,200,60,363,291,749,245,246,1911,543,449,316,569,103,442,1283,43,212,788,209,363,206,412,1146,534,132,92,196,1558,446,169,210,120,141,196,4342,52,222,149,359,102,239,344,921,245,226,57,388,747,270,351,439,191,548,719,578,84,272,3150,364,235,238,1278,65,103,776,446,417,100,373,334,331,132,1192,214,60,693,970,407,608,185,313,248,114,673,464,639,708,279,63,188,241,695,150,213,284,99,240,213,410,99,61,492,377,38,980,54,940,815,164,582,36,419,162,44,54,187,121,2487,48,445,439,305,12,203,422,624,1732,31,477,25,497,622,429,123,841,604,331,372,35,63,37,666,325,230,160,440,178,437,74,864,380,204,442,85,806,137,445,336,205,341,301,269,187,435,280,85,1255,278,308,579,863,71,311,535,116,187,495,1002,168,84,152,103,838,70,164,511,1032,41,1339,204,754,178,157,1209,163,72,221,206,307,79,513,570,99,431,171,232,184,162,142,645,17,100,390,226,485,284,386,946,152,425,146,596,457,385,46,441,235,173,612,328,503,176,1245,89,53,53,58,509,134,85,46,642,93,347,110,186,327,266,529,150,231,1241,198,375,505,821,714,510,271,390,125,289,236,865,163,241,275,959,248,873,633,393,102,125,328,144,79,40,139,51,493,50,170,33,174,548,125,4587,242,92,257,1187,681,169,582,749,403,144,684,245,127,175,83,318,204,114,606,369,757,609,88,285,147,465,48,39,426,31,149,159,58,486,1226,163,1457,158,244,634,482,226,449,214,241,216,237,117,136,229,310,456,97,1245,396,175,929,70,199,114,325,121,241,193,626,210,127,457,400,159,57,706,157,354,226,762,227,240,269,382,444,390,1153,105,243,120,0,606,1178,83,802,300,217,458,307,388,120,827,143,1217,1254,436,972,149,690,282,352,288,82,971,127,44,128,645,268,120,420,578,1151,136,254,195,366,453,378,365,83,59,142,218,1222,140,164,110,330,670,76,715,417,203,159,159,111,489,1195,120,127,614,331,312,330,711,119,1011,567,1301,1043,580,770,210,63,16,361,511,114,468,170,139,302,58,350,315,741,270,244,353,265,145,536,160,611,1124,315,229,157,381,261,618,861,1454,303,325,346,156,136,358,88,357,83,175,37,349,492,35,230,1300,395,349,310,291,498,155,376,397,1453,734,39,784,482,165,187,711,193,308,788,144,190,382,445,238,251,130,586,579,271,130,266,361,272,46,140,425,81,266,241,210,228,149,812,345,121,319,128,167,137,2069,190,882,24,333,722,663,201,211,549,660,373,52,108,427,217,307,318,602,781,251,1355,153,769,232,338,151,603,401,75,354,613,407,578,253,39,1069,899,457,772,437,805,286,423,409,110,103,630,173,31,290,344,124,48,2918,280,56,285,442,346,112,231,730,547,101,522,139,100,686,749,148,24,157,42,123,783,394,552,409,652,231,107,211,848,120,1345,590,479,53,665,745,660,408,481,503,203,382,204,380,317,1368,461,128,1982,107,73,378,90,124,281,170,148,357,300,43,70,514,199,411,192,638,131,174,44,373,229,1435,640,278,200,132,655,194,503,154,924,162,625,195,285,371,116,223,788,2827,28,583,681,388,293,848,346,344,367,836,79,244,58,164,847,238,64,280,548,326,438,450,452,225,547,160,258,258,730,148,59,74,616,96,283,60,110,376,643,879,639,402,70,703,262,427,276,12,94,353,508,60,1561,1636,156,216,35,2514,415,1087,23,208,35,1213,113,150,532,236,432,0,11,366,243,274,50,402,1714,1256,665,58,174,223,22,1025,409,305,57,690,246,87,173,220,463,386,206,302,378,149,667,414,157,197,496,77,67,87,786,171,51,621,594,271,774,848,522,413,128,117,287,141,631,669,921,579,243,238,339,104,616,196,1141,362,138,54,750,93,187,1238,1229,75,195,26,130,197,491,439,134,69,999,69,251,117,421,343,164,311,196,45,254,202,241,437,377,414,339,701,177,324,613,252,268,120,270,423,476,80,258,415,213,82,134,84,420,267,203,19,336,314,30,543,50,670,670,256,609,117,1255,62,97,191,197,268,480,379,19,93,422,74,154,517,53,229,1163,217,115,555,267,127,243,521,2392,1040,440,882,144,809,153,1026,79,382,298,394,60,182,2275,3305,178,565,181,2070,65,1200,337,58,331,595,70,255,538,657,283,281,159,482,239,619,223,143,518,121,158,565,87,17,548,419,556,876,171,150,233,439,150,779,110,258,685,69,340,218,144,424,278,408,71,472,148,499,591,369,350,492,43,102,1036,1165,384,109,104,912,221,354,200,1039,439,2143,264,1015,79,133,211,476,170,464,521,547,828,424,149,202,219,732,264,247,75,538,286,276,63,255,421,436,382,723,99,758,1083,170,298,9,462,113,494,573,169,159,350,103,182,25,145,83,826,334,282,161,488,405,356,1200,482,545,221,81,290,556,138,1179,266,201,155,383,97,246,567,83,587,222,348,215,466,48,486,156,262,1083,1085,246,2661,34,80,80,279,249,356,1576,546,180,152,73,313,226,141,485,247,492,473,290,835,594,54,215,278,562,1122,652,6240,781,110,222,500,48,128,558,377,103,997,2774,623,139,270,377,544,433,188,248,263,364,382,38,190,74,89,402,170,728,976,149,225,153,357,251,70,180,701,318,571,229,81,307,485,313,604,1034,116,1188,317,77,425,376,1799,790,639,798,401,139,822,83,1100,58,1164,296,12,534,751,382,176,101,244,80,33,486,756,248,85,93,1401,102,464,1658,460,900,187,989,188,683,242,76,498,72,297,469,1117,235,157,1028,321,670,165,111,618,599,3940,203,118,514,346,492,319,58,266,280,450,66,265,302,544,78,296,912,402,394,459,607,232,287,108,171,208,77,969,171,108,1303,514,734,426,326,151,217,587,165,805,95,1436,118,29,514,456,390,870,40,440,493,574,1272,35,607,322,55,58,1775,125,866,281,46,340,350,321,276,782,2379,344,138,162,37,159,119,48,211,201,110,2983,349,388,159,311,222,831,186,413,332,233,276,1400,56,380,1080,20,391,142,421,445,36,223,23,12,111,146,334,65,1251,163,98,417,307,426,84,228,325,652,127,351,3555,597,1018,172,645,1302,213,1739,317,223,346,645,560,102,185,902,149,219,233,248,203,223,298,417,579,404,147,233,113,73,226,96,273,253,210,378,330,1368,208,697,219,380,49,3828,159,111,74,483,652,929,59,167,146,69,26,448,159,1324,418,370,268,1681,0,372,607,1149,1408,893,77,224,344,319,76,198,86,73,115,1192,99,151,135,19,1265,167,373,422,279,196,94,105,657,29,291,123,455,45,250,603,151,237,919,583,167,185,139,269,163,804,54,331,285,157,271,303,667,538,305,513,13,390,744,282,805,193,673,125,7,200,29,1125,224,130,398,299,249,38,98,339,360,120,163,592,65,326,322,230,171,671,178,218,85,509,442,323,277,295,130,42,554,169,107,229,31,96,82,667,140,17,597,412,239,68,1985,421,86,540,576,237,401,54,402,197,619,568,128,261,195,137,100,77,334,390,488,230,282,309,498,204,363,278,70,236,495,573,3430,1012,247,265,34,860,463,167,14,632,201,307,156,930,103,311,182,256,150,457,978,594,162,215,140,137,143,304,52,198,646,226,354,247,702,101,1174,162,49,256,103,391,369,86,863,629,57,573,264,709,528,1125,180,296,242,295,142,191,435,55,293,156,370,151,74,295,195,1128,475,148,838,400,478,293,277,428,176,172,183,133,117,214,905,1472,235,369,375,1037,101,127,223,109,2703,1245,234,641,74,96,346,152,122,667,161,151,861,58,648,69,99,175,647,232,211,3185,1077,262,140,187,114,92,858,175,118,324,74,994,479,709,91,142,159,558,188,259,357,492,192,257,79,193,39,155,729,94,1113,608,133,567,268,206,448,680,738,242,514,769,265,348,172,1262,400,82,519,182,497,319,381,66,261,34,403,188,721,197,258,302,275,400,348,251,753,122,699,519,117,1194,135,85,264,492,413,168,2290,179,469,182,427,400,458,460,235,319,1038,143,348,116,854,771,533,4329,174,74,630,317,277,189,468,188,183,284,40,272,261,47,573,380,343,739,244,46,174,174,195,133,734,110,296,151,361,292,415,60,1036,169,404,1179,214,83,96,4934,85,1023,45,230,163,163,170,98,295,79,422,108,201,930,448,79,443,96,37,720,166,334,731,215,263,674,241,247,1567,135,452,190,538,87,279,1075,440,279,90,588,196,84,799,606,68,450,89,142,115,261,26,32,639,236,141,439,10,4323,359,102,431,226,18,283,309,1063,79,159,679,966,324,138,721,202,1215,1595,220,691,1201,242,34,446,623,144,200,52,102,306,322,113,186,349,796,29,479,127,100,92,239,424,638,122,517,29,154,196,61,400,44,248,453,307,300,192,735,64,35,129,274,300,229,357,410,19,202,139,193,249,146,150,251,191,482,478,2069,597,5637,925,698,288,826,587,210,519,212,677,908,594,376,746,351,151,504,256,742,207,562,218,142,223,411,362,223,149,74,76,593,79,4,104,222,1279,434,279,756,173,746,733,786,226,163,489,112,338,1666,302,146,128,253,2861,373,319,657,270,1332,258,250,314,336,405,1646,793,518,467,209,565,2543,389,244,50,555,429,1458,714,524,235,426,278,591,345,266,373,483,567,161,43,673,276,189,273,1082,198,46,196,170,89,995,450,30,318,719,745,82,639,133,613,402,617,257,539,131,456,109,368,289,507,365,246,148,107,408,719,171,62,155,224,52,551,540,270,120,85,262,326,571,175,306,123,185,1228,268,312,134,170,323,578,575,57,282,52,652,71,191,215,10,76,87,303,190,67,604,186,41,796,433,90,589,65,295,205,157,233,597,455,105,225,785,517,465,541,244,92,18,224,72,870,679,227,283,246,1218,371,313,163,930,780,381,813,142,198,283,137,54,134,288,1927,152,159,96,29,155,516,415,149,332,468,118,314,64,595,114,108,208,202,474,1295,1608,240,776,394,549,994,674,328,606,91,835,11,198,189,223,1518,635,0,792,392,276,608,622,616,27,131,504,80,251,1487,136,715,163,88,142,467,312,166,26,223,268,159,1688,493,111,6,1061,341,379,137,25,34,253,661,763,9,376,879,45,74,325,148,338,332,519,305,503,19,65,98,84,819,177,839,880,615,438,300,415,99,362,66,389,158,263,313,327,3307,164,597,235,318,623,446,63,1042,419,1282,1139,114,316,227,219,219,596,254,106,263,387,698,750,32,303,906,99,144,256,177,424,483,162,126,278,163,697,319,247,1308,88,186,502,454,675,185,26,1096,21,765,512,342,205,237,56,499,154,148,389,198,233,257,764,355,429,208,360,51,174,106,246,131,93,567,411,202,278,110,278,108,700,668,436,65,334,175,643,249,163,465,474,148,196,244,289,506,665,150,164,765,379,182,123,311,71,359,43,336,186,360,796,195,156,644,418,328,87,83,404,179,222,344,683,708,72,38,90,240,412,140,744,415,865,191,154,422,50,707,165,275,374,129,1284,286,458,130,193,456,361,1380,195,83,375,376,877,80,1108,29,239,414,573,173,633,485,97,360,292,282,537,274,307,121,49,246,127,52,147,33,198,97,907,1286,81,104,477,1207,317,936,638,404,263,157,230,542,243,4,591,454,496,254,85,131,20,452,237,562,142,664,246,272,298,804,347,196,290,1366,355,198,656,160,318,379,694,275,302,298,259,12,34,352,630,565,591,608,1178,199,1384,452,377,123,54,45,82,330,967,102,99,454,1370,81,1048,101,309,337,83,228,61,72,764,809,136,382,135,304,154,1352,403,177,107,49,232,929,83,307,134,2478,587,408,120,282,92,366,97,116,278,500,195,57,4059,362,1177,1321,363,23,322,1804,228,278,363,94,4,611,154,562,992,89,133,127,278,166,230,123,937,214,128,9,332,13,234,310,1221,343,690,214,977,846,421,174,175,1336,83,488,156,1193,1193,704,173,271,709,2603,605,77,266,443,301,171,990,179,1384,844,782,667,243,921,146,799,1057,38,276,114,815,1854,335,1873,1237,665,349,1101,191,38,3346,216,183,156,326,165,311,24,41,187,163,1132,136,369,666,77,1381,486,28,155,183,169,94,279,39,52,32,483,254,52,2391,987,114,273,664,331,361,414,295,185,411,731,1616,315,330,229,350,182,671,178,385,22,502,210,321,408,525,517,477,2398,18,235,926,211,165,11,790,834,123,313,141,290,550,318,757,538,227,702,112,866,162,51,163,126,349,590,393,659,149,764,449,192,1009,593,116,353,317,378,162,940,400,485,739,70,299,219,419,328,782,118,106,475,502,592,379,1001,988,317,195,131,125,443,240,239,199,135,48,462,50,190,379,1553,141,198,102,318,26,57,279,593,247,764,458,939,3395,123,238,491,431,443,343,2992,753,127,1502,593,140,519,386,444,300,299,215,944,676,109,23,292,305,274,146,286,157,271,467,248,254,770,334,757,94,306,143,302,113,73,478,61,98,630,575,197,278,291,716,235,67,383,67,67,108,226,316,504,56,14,691,1016,90,374,240,165,98,611,173,421,251,128,329,155,75,515,375,652,138,111,3416,143,362,586,353,1258,228,420,783,458,247,276,979,529,860,343,343,367,678,149,383,494,214,85,401,194,1310,285,804,62,389,180,358,308,2095,323,1253,474,501,280,393,31,206,894,43,424,49,66,433,691,1594,187,504,389,119,2206,299,607,761,155,582,633,89,622,163,143,2784,175,609,126,488,116,730,1254,306,116,233,183,166,916,517,956,284,96,236,565,17,410,46,84,162,154,303,271,593,76,137,140,164,134,71,53,300,49,204,1008,1403,51,978,100,71,238,1247,485,617,355,352,315,265,75,447,207,589,151,98,168,26,1685,1305,87,242,289,403,442,475,808,801,123,119,74,700,2063,37,71,7,451,98,1583,28,192,187,143,346,204,632,240,1057,666,181,1103,408,1136,80,46,390,69,398,313,277,317,328,152,411,685,265,866,429,128,558,1047,177,282,188,60,191,150,224,431,1168,273,543,252,206,641,516,291,6,269,1086,162,203,310,304,333,611,140,391,531,827,849,455,433,318,518,100,167,46,196,167,462,315,221,24,14,122,6478,63,208,151,93,91,9,99,145,343,61,78,619,395,113,339,247,1233,1236,551,288,441,762,3422,981,5188,343,39,365,223,549,835,223,41,185,362,688,800,253,82,210,76,194,747,637,3209,790,214,891,60,529,573,209,158,346,189,394,120,741,331,538,42,77,48,191,228,376,753,165,282,1129,376,265,577,958,306,371,98,434,286,283,213,39,351,28,17,277,444,162,451,345,25,711,152,234,62,578,161,339,687,594,271,107,251,274,493,308,595,2034,258,288,1007,371,519,208,298,403,210,256,717,523,85,157,335,178,27,169,1022,259,472,417,130,873,236,153,83,163,339,572,160,194,1239,38,274,421,152,1012,222,93,188,159,763,179,369,184,689,282,781,645,35,583,912,98,251,600,393,281,472,222,77,744,209,564,776,32,455,408,266,380,187,84,1019,1763,723,243,442,450,226,4837,653,259,74,154,225,1225,989,295,99,31,114,569,1707,94,306,337,1080,121,1386,399,341,214,750,198,320,145,208,667,219,412,106,113,426,230,26,3115,1240,495,168,171,417,66,0,347,617,147,1576,2495,2823,212,70,332,405,175,118,218,218,573,52,985,399,45,613,86,517,906,749,266,44,2651,476,649,44,429,300,344,389,444,705,745,88,402,398,1116,1020,501,519,263,159,45,286,93,294,86,232,443,462,531,1897,310,243,358,262,404,443,757,180,357,16,301,280,3325,277,230,116,318,132,191,279,99,69,149,314,479,564,329,413,104,259,449,364,1410,219,112,348,359,184,442,557,325,439,647,199,170,481,178,440,743,6,817,1790,123,67,475,377,243,84,636,59,128,204,416,229,399,101,642,75,63,157,323,251,457,32,111,726,219,283,195,168,154,244,313,151,256,269,154,429,170,605,260,172,372,205,15,111,208,543,531,39,110,188,462,280,639,98,759,291,47,318,1048,451,129,538,444,60,36,345,240,476,460,289,1274,804,271,1115,189,284,473,262,214,119,1169,509,209,219,150,219,1111,197,299,94,299,604,216,940,326,139,234,610,77,379,711,1349,731,299,136,514,174,434,70,374,497,433,66,744,253,89,98,319,486,88,353,626,49,305,521,961,481,679,1124,630,684,0,2894,150,1243,669,327,369,791,202,332,687,248,243,469,130,448,495,286,601,54,289,764,13,91,27,395,50,141,494,496,234,1266,1174,132,67,351,976,360,68,42,142,413,256,79,150,397,203,34,77,451,274,316,260,342,564,145,188,435,260,148,219,107,103,519,202,151,57,44,310,112,220,394,590,1120,288,1206,69,6,256,129,324,145,349,68,178,544,740,1095,371,618,191,832,52,309,286,763,406,47,289,103,154,579,191,315,242,303,196,163,102,41,285,647,190,399,455,1375,507,81,659,822,165,633,269,99,147,369,735,7,1226,398,37,83,550,171,362,533,82,96,465,269,120,953,249,111,465,1395,60,460,65,364,458,1064,244,832,542,301,320,367,425,651,1803,1218,50,432,149,717,36,1476,728,510,123,175,842,198,64,143,1289,635,330,624,98,80,59,254,175,634,1951,199,410,1115,146,34,1044,2046,609,265,223,64,276,183,201,476,306,192,86,176,502,496,181,71,116,939,593,152,620,478,209,243,598,214,396,130,267,29,534,112,226,145,2754,40,323,337,1014,1293,57,200,223,448,268,2860,277,655,446,263,151,441,893,468,249,19,250,510,563,252,32,79,213,322,271,313,216,183,2193,99,154,155,114,147,232,276,119,166,907,436,229,321,179,307,2259,207,133,44,87,37,207,224,603,217,303,1107,197,341,59,176,715,72,478,20,222,962,505,453,1334,477,54,677,416,226,96,253,100,293,163,331,263,336,579,272,551,265,375,6,121,872,199,169,401,450,395,134,478,287,239,542,185,524,162,418,241,29,310,242,461,56,725,40,504,313,248,311,306,566,331,125,553,259,414,293,392,42,152,1232,124,447,175,1489,76,533,226,466,67,783,109,989,53,175,212,33,1297,69,771,198,1017,128,34,350,410,709,222,173,103,274,75,189,164,474,1023,124,1736,542,381,800,160,1116,1028,525,547,121,684,162,673,434,319,325,215,78,181,396,192,168,407,505,255,2118,102,296,400,695,681,207,392,314,444,504,561,383,139,143,2774,561,246,1553,324,484,126,163,206,83,360,74,195,277,75,455,126,687,510,366,584,69,840,40,69,529,206,278,300,110,277,151,171,338,757,550,1662,137,308,31,1089,357,313,375,50,264,666,69,97,629,514,501,625,49,218,139,1443,285,436,17,555,540,147,424,151,362,937,111,564,88,186,436,141,784,355,579,453,1106,473,29,196,375,130,660,28,210,155,417,99,1415,469,66,163,151,102,1013,206,137,152,185,324,184,371,169,511,168,314,83,319,412,99,141,29,729,1148,74,43,175,208,309,744,511,152,719,751,989,487,301,573,764,431,352,133,233,250,119,130,503,119,298,154,207,714,360,752,268,261,845,282,357,331,66,101,293,609,165,649,675,171,150,1222,503,361,814,20,919,134,519,687,112,237,374,196,1302,1043,307,295,534,193,102,50,173,581,94,102,104,556,1048,376,448,1227,988,337,259,195,1007,60,252,178,82,203,114,300,61,475,419,61,151,147,249,189,311,249,170,105,138,2288,242,258,631,434,103,103,103,77,366,204,969,165,403,200,386,58,280,243,259,677,495,225,250,769,178,432,204,129,2122,104,1203,192,269,2503,174,1476,549,746,775,421,159,136,1653,32,219,122,245,171,721,637,45,155,347,233,121,441,546,268,173,875,401,294,348,196,780,132,278,1591,9,579,412,341,713,125,392,173,195,179,1080,518,1776,3216,182,171,885,583,595,42,36,166,24,477,280,140,784,187,183,387,216,163,115,432,955,468,184,37,194,143,148,207,80,325,189,334,107,152,329,264,229,246,117,97,363,802,419,487,60,34,55,652,146,369,599,860,1854,145,85,259,60,1267,1053,105,133,106,314,98,292,97,134,134,435,406,41,829,459,881,288,330,537,311,135,290,797,93,957,2357,986,139,157,322,245,84,734,170,113,590,350,311,227,54,574,804,233,582,720,257,528,917,115,269,721,356,589,296,881,623,0,83,161,152,791,117,1152,89,1190,176,75,358,549,36,118,192,306,1617,176,463,144,308,242,32,314,863,85,670,366,160,407,187,953,2418,369,19,19,683,308,731,810,163,404,51,166,156,469,113,250,46,106,126,189,245,399,486,13,311,538,1727,587,687,403,332,398,633,255,1282,209,374,740,687,622,186,123,415,173,1365,368,141,240,276,392,497,315,2616,396,125,136,603,171,504,75,376,144,956,76,242,539,85,112,1904,281,250,2425,295,291,468,226,301,1735,235,167,661,567,197,69,208,102,965,154,270,246,1001,92,73,91,126,829,314,313,422,64,106,188,391,596,330,143,148,496,367,200,82,697,19,364,207,157,401,313,227,65,81,337,634,43,569,333,699,13,377,402,648,2111,10,181,293,7,292,810,391,992,31,437,197,421,165,126,586,145,113,374,206,465,480,467,184,269,167,122,519,92,143,66,425,728,405,136,510,1021,150,222,116,375,54,149,122,41,2526,178,153,303,453,174,1179,369,286,3579,383,159,282,134,539,213,648,1585,292,433,116,105,151,343,195,34,391,298,389,95,1222,273,395,1238,279,146,307,89,73,223,457,258,131,261,72,1102,248,398,452,192,486,799,470,2142,332,103,510,394,202,56,524,689,684,82,109,101,400,313,375,337,391,35,64,16,999,89,63,536,333,672,184,226,85,364,702,514,139,105,105,323,580,151,262,262,70,423,674,158,227,373,107,182,421,454,109,284,410,111,51,1034,119,13,150,282,72,122,89,360,869,500,321,42,401,281,334,363,766,799,255,324,302,86,867,431,475,695,344,368,867,148,108,469,419,130,713,77,241,131,118,173,725,639,80,235,212,181,131,136,236,276,242,113,458,137,328,285,285,101,324,400,431,192,639,175,99,63,626,342,761,581,21,461,134,168,460,168,588,228,574,500,473,335,83,74,431,290,251,350,529,105,954,353,744,268,286,209,396,53,219,111,129,690,949,77,497,126,55,50,128,1180,130,325,171,369,296,250,376,306,288,829,284,883,206,762,54,120,219,87,2205,111,659,60,154,227,2548,462,178,599,307,216,583,260,9,143,831,142,665,660,414,2094,266,202,227,445,531,314,272,361,453,268,518,338,137,232,194,1824,215,281,417,370,617,1358,1774,219,103,71,61,369,210,206,505,164,218,71,261,260,398,141,278,798,73,478,135,296,805,239,289,222,336,362,162,732,296,257,710,323,224,171,153,193,1006,679,202,8,189,564,339,1304,88,3360,568,312,186,128,390,726,495,188,402,293,444,505,536,624,31,344,821,945,660,211,76,146,262,1031,157,238,616,393,161,206,1673,168,356,165,502,219,221,295,267,258,93,325,318,36,785,167,542,16,930,868,138,393,131,160,277,198,95,578,125,121,344,393,767,638,1051,92,193,218,120,121,1351,1036,197,262,7,263,268,299,784,215,259,167,119,391,1265,1151,877,81,327,435,150,694,72,1033,753,139,32,53,313,178,401,1003,71,49,41,1198,147,62,119,1048,907,63,449,150,214,274,991,70,833,270,951,166,806,124,375,284,184,663,343,177,385,249,865,190,311,302,87,222,188,581,580,1072,926,213,722,729,941,90,877,426,750,263,84,192,39,667,137,365,668,417,240,734,508,188,82,253,141,114,62,383,600,245,161,660,247,140,296,440,423,1191,139,133,311,41,119,512,892,161,178,1521,82,111,288,760,2145,258,407,668,333,377,128,54,1241,202,157,144,398,201,376,77,281,494,121,951,222,393,227,127,160,218,2259,332,413,161,392,540,698,305,39,677,52,283,314,1338,121,123,964,259,236,98,177,199,419,250,504,124,100,313,1277,186,273,497,288,1313,168,388,619,685,171,366,593,1205,632,36,776,97,704,517,50,611,118,49,114,1100,278,240,1166,517,91,89,136,609,609,262,548,160,483,736,422,625,487,323,262,676,413,206,654,296,203,170,54,514,171,243,375,536,2153,53,448,153,541,146,209,367,302,1736,169,462,418,1033,219,368,519,153,937,347,332,306,1003,9,46,157,696,12,94,245,200,2248,374,560,255,111,285,333,585,756,373,255,489,709,327,111,140,178,424,2711,117,395,158,67,58,91,457,1213,121,645,218,463,667,484,133,376,91,483,227,386,459,51,284,379,22,301,273,559,1363,1453,1362,1067,147,559,845,23,61,204,104,442,339,202,272,261,74,174,190,13,931,297,35,1095,301,465,388,253,410,63,250,52,289,1370,177,195,537,635,496,96,338,577,86,81,218,743,2040,205,185,263,308,326,159,635,542,979,403,330,748,824,14,417,131,157,235,402,941,316,112,8,1353,146,1178,229,369,513,779,237,603,726,350,210,124,184,391,771,268,130,237,1624,765,386,183,197,1470,895,87,31,1321,253,249,1039,1028,82,318,38,529,432,579,1055,40,144,225,149,172,2454,745,164,100,424,845,66,41,412,200,80,251,125,378,318,204,152,131,765,262,21,906,225,202,455,563,309,79,102,158,568,315,278,341,226,115,500,922,671,228,663,904,195,559,217,463,97,525,55,290,333,173,332,458,63,430,290,292,193,314,668,1191,69,203,153,85,90,50,710,233,538,731,391,130,337,355,83,1041,637,221,266,1229,271,1083,589,362,989,570,322,194,172,1229,768,74,244,33,366,370,205,124,124,283,20,418,385,704,399,37,1004,97,160,170,115,701,65,354,415,435,73,542,300,4,974,280,118,150,216,99,339,8,359,178,83,96,215,183,1226,215,211,180,555,613,310,3104,253,169,542,377,456,138,1536,202,354,119,651,250,361,80,578,543,396,189,247,242,386,280,846,320,133,531,92,1461,299,566,41,511,31,150,638,677,890,161,26,1011,268,74,2441,877,357,272,193,115,752,168,514,80,38,361,1034,363,1673,366,376,728,121,227,1075,654,106,120,184,681,412,301,205,68,1945,207,323,377,733,437,49,47,289,355,128,122,272,1487,219,537,527,120,153,138,683,2125,1258,411,597,82,465,64,292,362,1157,155,281,685,517,210,236,108,212,326,1650,186,260,155,85,177,463,916,179,30,364,185,452,199,197,847,83,79,152,485,334,383,221,520,435,133,824,62,391,655,374,179,153,48,122,574,345,646,925,446,50,115,107,188,320,373,332,550,475,225,398,184,1291,300,42,112,260,135,99,41,317,258,308,2416,493,35,293,182,275,64,214,209,60,837,637,807,438,321,252,554,1156,454,417,14,192,191,1159,266,441,24,310,150,360,211,91,113,217,385,394,141,731,198,567,47,244,620,534,265,122,126,115,70,459,136,1309,163,88,424,172,387,132,64,59,22,412,1468,310,50,318,963,431,499,289,149,261,92,62,1691,523,112,77,778,120,93,82,86,306,412,141,382,76,29,430,421,979,191,128,511,83,701,87,387,103,391,333,166,511,29,255,310,143,130,540,268,81,290,153,80,303,79,99,799,943,861,117,1845,118,774,90,85,109,272,245,1768,2770,152,499,940,72,195,66,0,864,116,6,491,217,49,388,189,485,126,504,112,200,601,381,130,417,315,489,36,71,256,1384,843,257,285,169,357,169,925,349,32,1304,381,215,170,77,814,618,224,750,353,410,66,191,149,441,626,1575,411,256,287,292,210,22,204,246,362,133,2501,601,23,580,271,121,215,149,299,2011,440,762,533,110,93,389,730,545,42,100,209,157,505,1037,23,129,456,350,204,2038,838,319,278,146,274,540,291,604,952,76,69,185,5624,125,38,585,186,263,1618,78,384,295,275,564,97,1354,196,180,932,392,73,566,905,237,484,1982,91,615,12,974,91,258,592,255,328,77,92,237,447,977,692,251,170,25,472,118,180,255,174,64,268,989,487,197,2013,421,83,1186,104,1523,87,354,102,99,72,106,197,149,336,838,1373,1429,304,113,207,422,1396,520,166,195,705,1413,466,150,159,199,147,375,127,140,135,153,223,192,156,220,146,75,375,333,1125,293,149,444,159,273,221,205,378,239,279,190,1086,117,228,196,151,290,224,338,121,116,13,347,429,110,6,174,15,431,124,494,307,15,287,29,79,278,206,58,130,2321,128,1592,316,176,94,536,165,326,398,383,320,81,476,506,142,552,115,1147,164,390,419,425,354,66,533,82,15,382,83,326,195,673,57,313,314,313,497,165,69,292,137,106,236,365,430,169,33,101,161,235,248,138,634,180,577,396,262,1116,1120,458,140,103,130,76,235,32,188,806,442,620,462,204,453,23,331,335,414,429,96,383,39,1137,464,36,29,136,656,1299,405,126,96,337,7012,505,1113,347,161,512,1641,41,458,664,60,1471,415,34,108,96,231,550,316,257,887,347,112,128,279,290,69,203,1039,94,93,29,148,29,169,540,97,1124,2642,169,540,681,23,422,242,160,2549,152,353,102,82,182,163,207,309,261,196,201,31,823,505,86,188,258,82,58,1027,56,47,266,489,445,250,601,139,318,361,411,563,342,1323,99,556,386,446,674,304,581,213,197,113,279,218,745,846,820,73,675,640,153,77,82,1223,90,282,247,652,971,831,717,1022,467,68,493,203,439,291,337,1191,509,347,216,436,20,317,498,152,219,423,277,382,558,3794,2481,387,281,360,672,739,734,148,237,657,613,357,110,102,2650,897,172,204,425,159,405,130,225,295,162,1125,87,1429,918,606,357,1013,179,633,71,1894,81,261,736,274,960,258,296,221,64,296,195,1262,767,91,374,214,356,42,809,2271,289,129,314,167,367,78,78,219,1408,1108,1709,456,86,133,212,338,3629,224,149,175,677,578,88,455,23,332,599,192,95,82,491,35,185,433,628,689,115,520,1089,185,315,452,329,435,43,174,144,769,683,406,657,317,2039,257,440,142,19,284,151,215,417,118,189,632,201,197,767,78,93,439,135,386,440,801,465,23,28,292,921,252,646,1227,107,381,49,105,246,76,211,166,212,41,288,151,102,461,1506,256,275,75,267,127,224,358,263,362,158,319,1472,64,108,59,335,103,242,304,320,300,9,1149,412,17,389,806,298,120,203,211,30,333,82,296,381,46,25,131,94,131,3104,245,197,117,39,67,237,228,273,963,316,230,74,90,1320,293,364,1353,140,60,455,1189,530,246,48,154,923,30,226,306,767,260,428,510,403,250,179,135,1941,331,181,71,907,333,106,64,87,710,404,502,64,584,2130,292,175,1274,452,958,50,111,83,64,298,482,38,152,58,684,109,59,643,656,386,906,2993,429,629,505,315,869,331,287,716,1300,173,268,258,99,288,53,79,270,40,1017,180,212,200,318,181,239,1399,263,358,195,307,113,264,158,1022,7848,452,286,107,353,290,1372,295,171,278,108,26,204,232,251,911,328,1536,1478,454,332,588,451,34,215,156,179,979,197,764,301,364,501,670,378,390,446,431,271,159,124,1659,131,556,1957,171,166,234,412,891,285,1051,785,480,133,1423,216,273,146,164,361,314,54,226,193,506,528,177,220,91,67,31,251,61,1181,360,482,353,288,75,1082,181,223,480,588,195,395,772,308,241,396,537,430,599,633,55,307,429,589,215,162,110,64,523,198,1339,136,549,302,135,225,299,23,910,331,701,400,101,208,42,319,154,95,221,38,448,380,35,327,66,895,109,78,163,233,532,538,350,305,360,538,321,866,1731,427,149,379,414,23,887,709,477,649,585,834,249,198,569,734,177,146,36,42,494,185,299,225,115,209,140,252,131,106,130,1025,317,701,176,280,351,157,203,194,462,36,129,107,296,65,1142,430,103,204,362,151,416,149,62,65,92,83,75,1226,573,100,1263,487,309,103,140,739,5,202,99,567,352,598,53,1056,368,181,335,113,206,1023,136,89,333,322,738,206,5,446,450,422,859,313,545,251,457,740,63,372,172,177,905,352,128,1038,8,631,477,87,38,211,833,246,55,80,243,684,187,657,758,447,420,1062,500,595,155,157,384,129,940,50,1030,273,1205,275,607,711,1232,210,773,889,331,206,123,285,912,1144,1065,319,1151,231,60,99,153,211,116,520,313,159,455,339,144,291,409,423,339,157,438,257,1191,324,294,138,825,673,58,54,344,100,311,33,558,163,1188,449,1228,129,99,85,381,148,308,136,892,284,1173,339,1198,1530,977,427,85,211,442,160,167,111,265,181,295,420,75,160,218,210,447,274,168,470,435,182,215,272,205,631,260,88,69,1294,287,272,134,270,64,571,786,22,540,1090,473,34,114,440,871,209,161,1038,489,159,24,314,203,331,257,1281,1186,1081,52,274,613,994,198,602,417,325,449,694,537,312,423,95,171,943,151,346,406,11,310,363,537,606,321,568,455,169,184,36,1297,264,51,201,309,346,102,116,264,33,78,936,605,298,499,80,63,1247,437,197,70,112,211,252,156,37,59,882,289,152,375,418,216,662,134,34,289,122,242,183,70,120,1156,590,345,217,144,69,208,105,79,207,145,259,32,1137,618,909,94,464,458,195,113,1146,1208,193,827,354,327,174,223,194,315,244,301,197,243,182,231,61,114,141,492,376,129,222,68,118,262,76,146,67,320,13,255,456,970,78,1117,36,128,80,168,937,765,283,810,456,152,94,1189,291,197,327,20,462,72,237,119,323,704,606,70,365,73,125,1021,1086,154,581,278,375,507,904,170,564,150,105,468,208,255,377,221,51,248,1068,395,135,109,303,61,13,235,1251,396,113,333,68,91,427,127,183,314,284,137,605,1168,503,665,1172,180,133,906,269,204,131,374,228,174,52,279,225,690,1078,202,136,226,184,123,326,375,122,265,1163,650,469,222,258,98,72,1165,77,221,738,966,887,848,130,586,428,398,53,473,626,136,295,478,294,1284,945,1055,143,403,202,334,94,221,335,232,527,115,559,713,950,316,1153,77,867,201,145,173,97,472,1202,132,359,103,386,386,81,145,218,622,529,967,331,621,152,513,198,938,403,152,271,87,45,1121,82,1233,266,673,218,36,264,798,841,463,353,307,81,692,267,372,1221,562,313,413,634,374,216,1162,164,181,202,289,313,535,149,253,535,621,475,588,343,132,195,122,95,836,616,276,216,338,122,100,104,1031,153,77,253,216,559,777,377,1134,43,469,72,223,724,442,564,383,35,540,243,173,493,83,49,266,379,1255,664,172,683,408,440,301,465,183,270,816,350,584,252,407,536,186,241,321,25,79,232,290,107,58,120,685,363,111,117,313,379,53,469,92,123,154,284,218,406,606,717,28,660,877,190,163,158,159,1201,174,1280,355,212,866,85,309,416,278,112,148,205,213,267,1058,565,336,1043,481,180,261,506,231,123,424,233,840,217,195,133,31,1145,111,215,89,784,163,348,199,317,202,127,125,150,1207,21,236,268,216,507,810,471,145,232,182,300,466,826,472,524,502,182,293,744,354,300,627,94,226,12,645,116,479,428,671,1012,13,281,1081,554,68,16,63,131,551,157,172,319,126,158,74,325,904,447,123,179,1330,105,156,756,664,136,576,488,440,1165,650,616,339,484,847,468,308,387,340,1082,77,280,172,82,3099,428,125,754,55,349,243,294,143,708,142,157,326,171,988,214,152,169,480,250,89,1114,46,242,58,62,117,801,125,448,211,291,459,371,116,275,251,760,651,669,1057,819,172,570,436,789,403,240,444,69,546,506,41,538,172,292,298,873,1253,173,57,615,209,55,369,923,269,706,261,278,373,141,457,238,12,282,284,992,1148,103,461,280,1014,590,771,1323,250,136,244,239,216,809,90,243,217,370,1113,129,56,290,862,695,198,274,316,281,212,248,148,1150,89,131,81,672,95,135,511,209,102,537,26,188,339,177,433,412,96,294,74,131,341,84,239,19,245,168,378,286,305,502,205,137,265,131,166,159,427,315,428,161,502,168,1149,554,332,599,225,56,115,425,98,106,536,27,119,473,198,524,602,368,384,358,156,879,1100,356,648,335,419,138,404,685,95,313,197,430,334,242,705,41,825,49,225,553,83,1003,586,264,230,235,334,1142,151,178,494,534,329,1030,58,177,404,138,61,306,270,280,237,373,259,50,219,1069,799,389,49,94,1240,72,433,94,189,952,500,255,330,395,481,357,343,911,21,181,66,42,453,170,642,239,284,294,434,428,51,822,96,828,410,58,696,400,491,39,262,145,364,362,218,136,438,252,583,252,299,282,227,508,1081,552,110,337,587,285,907,565,1344,265,663,99,34,829,445,405,134,138,1109,131,234,218,217,313,53,122,52,156,159,323,490,146,65,32,254,446,536,430,220,218,133,1025,311,739,465,84,309,266,704,129,118,1707,266,115,43,654,389,276,38,9,181,113,477,283,248,608,31,110,128,193,292,676,645,1215,1321,1250,447,133,8,111,534,33,48,679,615,264,1257,489,230,368,101,62,121,87,117,517,128,133,552,514,189,527,517,710,206,69,399,157,85,136,307,410,273,171,42,253,386,581,726,763,551,279,248,473,1488,45,568,720,443,28,818,174,4587,21,69,349,140,152,153,492,615,30,286,1376,64,1005,223,283,392,220,154,304,195,515,313,366,238,246,137,1366,336,232,646,922,163,209,88,208,1409,207,80,386,422,587,248,130,466,1041,168,121,390,245,276,175,165,785,297,491,278,81,1002,262,335,467,202,1235,390,825,396,375,345,136,160,157,399,122,991,165,177,676,138,138,666,530,52,233,743,140,208,119,293,43,900,359,230,1040,376,376,468,210,242,158,646,212,202,554,493,736,562,249,1110,137,65,54,617,963,19,218,228,278,785,126,895,199,56,3082,229,514,967,282,31,84,183,84,2145,178,385,108,211,351,148,277,95,187,399,46,1225,135,361,595,47,236,81,484,86,567,598,166,1291,51,632,259,321,78,900,178,490,635,459,703,1662,177,1179,589,234,91,161,278,768,184,80,122,172,63,124,2041,3060,265,237,234,192,220,116,543,365,365,526,248,160,333,273,245,245,452,204,127,224,429,86,679,262,600,104,516,425,131,160,106,332,400,139,63,535,246,68,466,223,1074,1587,166,622,238,71,215,282,256,169,220,240,69,181,635,126,90,613,387,535,1715,113,171,148,130,525,1281,120,959,426,475,1114,20,66,264,23,360,229,635,318,1283,264,569,1195,301,384,335,1183,258,78,172,150,317,201,107,360,369,404,311,1263,379,1094,70,398,285,146,383,121,154,104,168,833,54,209,902,285,175,1259,422,511,635,374,168,247,980,938,167,488,111,731,100,308,497,1263,288,122,163,268,587,222,276,585,376,568,222,91,183,486,239,38,396,341,133,931,722,830,395,89,542,150,90,513,1577,848,221,86,899,158,129,258,742,430,87,256,633,174,218,221,98,1123,325,295,413,85,281,481,370,851,63,64,1086,38,106,141,122,81,1041,152,76,88,294,120,155,151,231,755,234,418,13,181,271,431,564,58,249,264,87,486,411,17,1454,248,556,168,345,1564,60,166,890,558,620,111,166,862,264,3117,176,82,8220,138,167,186,302,168,61,556,422,538,191,149,1123,868,321,36,1415,499,188,527,881,246,241,225,1441,779,59,144,891,343,280,359,216,686,526,534,158,586,251,157,74,34,353,120,715,64,445,297,256,67,125,239,18,31,94,211,550,606,511,742,219,117,1236,52,231,61,302,36,91,169,28,266,447,222,119,130,124,190,659,154,317,551,1965,628,611,398,741,242,322,323,31,75,480,528,174,281,430,920,231,1271,414,912,205,57,409,163,230,686,935,147,690,726,77,373,744,112,549,331,426,420,186,1609,174,244,251,984,222,122,328,449,86,209,309,272,183,362,359,39,409,1049,441,59,238,214,81,270,494,377,943,291,449,881,528,1611,130,325,77,442,128,3468,28,237,719,310,280,445,478,341,488,239,276,154,135,700,80,1212,410,184,883,419,893,440,718,196,214,116,360,554,235,208,1197,77,273,1352,215,594,648,156,451,217,1730,466,2067,246,260,209,27,477,113,796,1189,358,1250,270,19,332,367,378,621,182,49,869,114,224,78,171,164,202,112,189,627,471,40,294,480,53,260,186,753,162,374,132,264,509,218,430,500,500,189,126,1080,155,113,450,126,199,155,406,324,277,82,361,105,106,357,170,294,548,380,314,48,1063,253,386,145,9,408,129,313,275,330,133,961,332,306,128,514,826,478,1770,594,61,662,92,126,508,590,868,349,236,840,214,1101,1436,168,523,593,192,541,565,191,33,96,133,10,493,239,63,498,130,29,609,336,288,487,507,225,622,343,997,82,405,102,546,27,23,179,1658,141,662,239,314,482,231,320,126,103,204,615,20,169,534,1728,109,546,317,113,555,154,295,301,241,240,427,210,37,48,824,10,399,18,308,200,559,329,573,157,71,289,329,188,317,160,302,197,147,506,37,1881,187,701,32,248,145,325,540,1389,114,825,26,100,534,23,698,363,127,305,415,109,158,567,133,185,221,683,427,375,225,1262,130,178,346,87,642,287,214,0,346,476,841,488,298,184,94,108,259,572,907,425,278,150,386,293,1450,900,232,384,43,309,218,909,217,203,277,86,71,1979,1019,233,639,363,270,241,613,104,296,193,176,401,560,58,181,624,466,413,833,231,635,271,378,111,211,259,179,552,1209,409,508,290,257,354,866,466,531,219,310,482,99,276,81,128,324,85,170,351,211,321,122,827,2790,84,121,550,123,24,583,65,385,68,330,291,666,162,876,2310,399,69,126,231,148,97,450,495,167,197,226,184,360,253,172,169,639,450,192,406,778,162,973,112,87,97,873,694,24,296,1466,184,64,145,134,195,130,117,246,258,289,220,5538,379,1342,79,298,686,1675,670,381,226,49,257,1558,387,120,146,52,887,210,549,35,68,655,1252,408,707,498,315,209,673,986,250,38,113,1285,112,431,42,245,570,510,1511,249,141,327,515,667,464,413,395,114,185,710,256,417,266,200,29,201,95,248,950,332,288,649,386,1370,273,735,784,124,928,310,2978,177,1192,239,413,485,274,286,167,379,1997,515,211,756,190,133,55,0,891,154,350,44,149,115,186,577,21,158,519,393,293,23,245,5353,104,260,343,483,207,165,397,512,109,234,1366,336,298,374,198,636,1623,243,190,204,374,192,631,85,415,374,243,784,464,69,823,113,119,144,510,921,235,141,752,566,138,641,583,31,641,285,801,393,142,118,25,531,195,201,353,365,221,121,145,250,175,29,413,533,416,553,225,76,394,246,299,327,438,63,185,157,2347,154,444,915,442,175,191,250,423,537,204,250,449,394,728,132,275,530,183,206,134,1525,143,356,236,332,285,796,302,192,297,305,675,181,104,215,151,280,758,229,509,355,580,583,83,370,561,33,247,413,83,378,181,172,294,2631,162,172,107,128,128,165,762,147,963,242,101,49,539,216,44,321,114,338,1090,554,63,372,1014,1170,202,164,903,1015,137,286,268,1501,73,245,170,369,1736,1377,110,182,865,204,337,212,169,2421,329,220,258,168,289,387,124,417,1352,193,326,50,351,164,545,446,486,381,394,147,279,30,174,1126,1057,89,26,278,645,127,127,214,661,378,61,79,248,752,131,14,599,449,95,1082,243,842,893,48,497,126,453,239,3093,522,304,1146,534,212,127,251,199,465,30,340,138,242,470,1376,579,197,106,151,486,89,192,179,35,151,465,375,544,790,145,107,78,566,106,94,226,147,132,649,55,365,143,231,103,529,171,449,58,745,173,450,112,83,251,206,446,328,149,331,274,177,407,327,638,549,256,341,80,212,295,781,11,389,112,279,100,173,196,895,85,237,81,904,1384,781,252,514,188,361,388,491,479,178,526,145,458,157,281,163,206,364,656,477,895,565,271,1086,207,153,416,251,55,149,93,1045,133,291,71,37,294,38,75,364,764,193,450,72,623,742,64,1177,398,216,70,1300,61,168,230,243,767,60,257,215,397,262,67,350,42,626,200,507,302,540,139,51,302,401,158,271,1039,560,195,699,593,28,464,29,380,247,284,404,722,2005,29,640,364,277,29,147,376,122,773,298,37,983,634,76,249,45,462,174,537,299,310,450,74,173,321,378,54,161,757,275,348,279,1031,74,142,923,443,259,582,117,501,163,101,378,237,1439,99,178,327,796,298,138,266,440,726,200,331,833,175,175,127,601,366,197,223,598,197,233,767,355,146,6,321,957,239,798,479,210,96,181,230,276,1006,144,278,159,29,287,65,145,422,498,124,378,1003,100,1622,267,272,65,790,159,474,417,586,185,429,175,1772,135,288,326,419,1787,230,345,18,488,995,823,273,308,331,163,216,984,155,264,252,254,62,191,797,129,317,530,151,274,1317,91,218,186,82,566,171,693,614,3,377,47,99,227,39,100,25,200,136,132,352,200,474,1103,52,40,385,220,49,96,43,107,250,691,315,346,41,143,1020,188,278,532,153,233,359,299,482,739,513,168,260,262,664,478,434,533,330,137,397,116,197,362,164,269,174,524,387,545,507,132,641,379,426,551,120,306,467,20,120,195,464,656,459,64,116,67,448,378,157,361,356,259,55,370,459,310,266,301,440,477,364,274,623,760,189,194,168,344,215,208,751,49,542,843,994,366,218,321,411,573,711,460,622,78,339,44,1618,127,310,328,114,250,205,104,517,639,727,417,17,129,496,70,265,638,210,489,266,603,243,656,1294,158,104,136,120,166,490,269,871,288,280,654,200,96,416,428,196,2742,1116,365,3083,417,574,269,1450,1130,87,167,676,478,787,352,440,348,371,76,2086,149,210,294,312,112,1438,389,117,717,114,254,39,185,232,413,314,192,187,253,563,33,347,360,417,307,26,226,522,234,174,104,443,314,579,50,583,347,445,995,360,70,9,225,942,202,295,389,450,95,406,1009,137,476,1127,149,84,154,401,59,2094,853,215,453,333,638,363,91,298,35,44,486,267,249,543,82,262,480,442,277,121,420,467,168,307,136,70,318,146,370,80,709,206,58,26,142,712,295,185,22,116,455,326,1396,557,436,617,682,5,130,196,69,733,299,396,150,265,88,396,688,415,91,219,582,66,541,24,1100,109,306,393,1067,79,209,87,103,173,128,1233,698,5,787,96,299,40,86,69,655,31,155,386,59,1579,310,857,305,227,34,602,147,52,359,753,671,179,46,334,441,119,341,81,216,175,175,373,577,636,33,651,478,415,258,497,396,974,261,546,1600,450,77,154,228,144,312,712,144,335,1381,622,55,296,370,629,332,397,167,394,1388,101,720,542,47,1183,327,398,772,521,699,886,302,422,818,77,149,198,190,124,501,40,291,128,259,427,228,1301,449,467,269,295,4336,86,107,600,236,516,414,75,505,109,45,224,1039,69,426,146,255,479,69,1297,306,713,763,493,489,1366,169,597,520,712,207,164,248,492,188,385,463,53,188,930,274,118,933,543,53,802,376,3113,386,772,338,298,271,395,1009,134,206,3210,102,294,249,718,437,672,514,1168,85,46,576,560,1239,1213,351,212,160,112,1035,325,515,175,713,342,218,459,87,25,75,165,402,486,20,223,933,91,115,916,66,851,77,1214,27,911,242,624,55,196,560,484,54,303,59,159,202,505,686,371,76,573,152,563,468,825,150,42,403,97,93,95,435,558,206,618,61,368,1036,104,881,368,339,135,307,131,446,595,23,332,329,50,349,874,23,1242,30,503,166,433,49,381,571,148,187,197,1274,227,137,274,265,98,533,385,144,64,219,147,244,206,28,1154,54,393,404,376,149,418,612,103,234,847,201,314,356,75,30,965,985,12,1205,168,1169,336,58,115,96,48,981,507,367,38,383,937,194,224,547,269,978,985,185,1046,101,320,323,501,44,461,75,277,920,338,301,209,648,797,109,349,133,287,657,122,352,1241,961,360,521,562,166,757,456,248,258,309,393,257,847,95,131,139,1020,370,132,322,342,213,309,435,90,373,709,148,530,140,853,298,93,220,46,121,468,442,357,110,485,390,230,422,155,521,175,94,1180,535,234,369,323,801,31,1178,173,469,151,198,658,339,249,368,791,814,53,262,1233,1005,115,47,93,159,858,144,1069,214,616,262,37,181,91,46,798,227,141,608,108,444,287,321,83,287,105,477,91,7,872,495,108,424,481,209,195,178,305,557,1055,20,582,302,249,1130,375,463,2103,199,153,413,298,460,871,164,178,239,623,373,230,587,588,478,561,56,606,699,589,3016,132,678,66,22,73,548,417,200,386,344,356,419,202,433,181,165,50,323,153,188,600,4,14,224,1413,461,225,920,533,346,289,301,1645,237,492,907,49,252,314,130,365,305,584,216,774,769,180,437,229,284,90,423,235,1348,242,285,413,79,551,297,117,100,238,326,356,156,1394,346,571,184,272,449,345,246,58,185,429,258,525,223,159,459,50,422,356,243,916,452,303,133,658,173,525,49,374,369,438,1987,434,868,238,267,94,425,1833,740,1151,145,307,1026,616,616,864,360,676,412,740,300,520,223,278,207,215,1336,167,249,1427,232,496,7,297,353,96,364,739,441,535,154,539,1332,129,454,512,977,195,269,91,1242,359,92,131,1059,120,724,1304,84,165,124,159,134,202,409,178,376,749,172,346,447,485,83,9,220,43,112,313,303,41,1286,201,116,129,169,1106,496,94,866,157,173,332,948,96,47,208,280,399,260,252,610,1063,365,932,1078,958,895,1336,305,237,176,824,35,253,44,400,203,208,132,157,248,470,60,406,122,583,1138,163,296,256,168,231,394,230,266,96,327,48,330,363,551,224,186,105,272,1925,169,226,471,2616,317,325,310,505,133,327,458,194,482,49,992,45,124,55,306,78,36,20,191,351,198,97,1589,147,226,130,372,417,245,117,69,279,260,940,959,261,243,264,642,371,596,1541,763,398,171,260,72,573,27,737,610,577,547,256,319,205,256,1024,420,193,616,280,271,281,192,324,388,376,45,432,1736,209,310,639,303,707,210,186,482,398,1161,186,633,26,253,579,16,68,96,392,509,66,1243,414,1287,232,142,827,292,79,291,276,594,123,289,244,216,75,511,38,624,167,958,583,164,4864,1007,613,336,116,48,734,120,42,393,118,359,426,933,1228,91,196,550,1123,1066,714,119,125,49,177,207,624,371,715,841,444,131,208,301,279,111,471,293,425,469,699,878,1296,88,374,165,180,156,1224,247,163,309,81,781,114,268,1308,91,778,132,627,155,584,151,1196,441,159,148,493,251,232,125,53,293,200,492,592,75,982,1150,503,124,353,211,66,298,434,432,213,1402,194,240,303,152,13,66,442,463,191,292,509,799,287,299,83,594,101,247,555,334,262,25,71,249,273,65,13,60,772,187,858,226,673,593,455,530,290,257,372,846,232,307,878,370,150,146,158,152,674,94,1534,434,279,601,859,296,291,754,39,351,610,373,285,857,63,984,817,305,660,301,252,758,254,311,528,12,117,120,599,414,434,297,22,225,199,647,889,1299,163,93,428,936,285,593,2286,116,111,84,323,207,133,620,286,72,441,828,937,258,309,1193,747,1967,59,542,166,138,394,82,229,467,353,556,53,269,33,995,323,386,83,225,57,751,53,565,111,429,517,168,371,496,187,109,102,820,400,207,48,233,600,61,116,559,993,347,49,1752,123,268,65,1039,979,57,298,1178,649,424,586,158,435,122,1148,827,1809,332,248,383,379,232,313,333,371,334,341,125,732,544,577,344,183,169,117,198,1647,168,124,229,548,367,345,235,344,235,276,242,649,579,449,836,980,230,290,83,1006,501,603,478,347,173,354,204,723,461,410,44,171,612,70,55,727,579,460,118,299,54,563,52,594,276,186,134,537,375,213,72,385,889,677,53,1401,168,162,531,25,180,124,486,730,279,98,1259,355,226,684,231,343,754,87,536,1346,165,2214,256,144,251,5,414,108,19,912,545,173,114,84,41,189,317,558,258,292,351,731,966,142,979,424,635,62,149,423,529,38,72,74,320,1024,76,634,464,231,72,1311,1125,1248,344,67,124,261,510,656,267,73,28,381,253,513,1893,365,408,265,357,152,451,427,144,2378,157,359,1057,213,555,141,772,198,1195,551,105,115,61,2106,193,334,65,756,413,659,120,138,507,61,248,509,582,287,433,612,299,264,100,20,97,53,123,592,453,591,457,84,169,539,230,34,359,669,350,221,165,58,154,208,132,289,111,593,453,296,385,331,368,471,280,305,233,63,1559,136,323,680,135,436,395,288,191,583,272,252,183,96,368,379,43,934,558,353,1032,490,58,26,284,108,848,684,392,53,282,352,546,116,281,1580,758,229,316,115,256,434,798,299,356,99,337,103,378,429,13,363,257,128,219,53,254,59,193,221,378,284,753,261,372,524,360,69,549,46,295,215,169,664,47,375,371,530,987,132,1824,431,1016,81,39,152,166,485,1249,1040,465,246,305,873,91,322,124,1274,104,192,692,190,244,74,534,370,282,191,184,59,371,496,390,696,291,462,423,53,395,129,591,277,196,336,324,181,482,412,266,122,831,263,242,132,159,1118,7190,196,613,298,110,327,751,454,75,172,510,174,190,326,52,122,167,67,193,83,43,438,242,931,377,71,100,1145,1305,184,359,99,112,598,538,216,761,511,441,198,730,332,95,166,667,275,889,782,621,81,91,109,338,219,480,272,583,145,984,609,118,138,126,210,964,1200,602,52,175,160,713,201,448,364,69,214,132,229,44,534,568,75,130,220,299,995,302,420,67,111,184,207,728,95,259,118,487,476,161,206,183,162,192,862,1263,211,22,461,93,60,452,449,56,558,114,234,248,80,96,30,725,915,89,274,143,739,125,159,179,204,239,123,1122,430,823,175,340,551,308,113,1072,811,72,309,578,387,123,96,626,796,590,87,237,1310,136,1219,737,24,439,467,68,203,396,331,39,357,209,309,150,756,334,282,1132,362,480,310,117,66,210,94,21,331,222,379,475,791,392,222,199,316,485,878,189,117,84,789,124,150,655,33,912,274,91,71,155,139,343,156,389,100,147,601,369,123,207,439,311,617,345,519,443,490,157,190,98,153,1090,528,247,893,309,348,477,664,117,294,183,912,564,243,569,390,254,29,115,116,230,1030,242,863,646,553,368,395,327,290,374,383,365,244,600,326,282,81,524,218,405,862,198,234,84,112,562,122,2882,919,208,400,550,650,276,715,32,296,373,48,255,1204,94,139,474,102,423,232,221,132,89,226,396,120,158,54,404,584,119,109,240,138,72,288,45,995,1171,1163,131,102,159,766,66,492,135,299,268,259,410,889,346,191,463,1053,192,152,75,130,77,621,905,964,215,105,223,229,495,320,6,1095,285,254,286,526,391,222,290,118,177,115,493,229,465,135,274,186,229,334,411,115,120,152,525,301,436,138,793,500,216,298,253,919,48,1261,150,767,216,56,1075,92,338,1078,79,260,88,163,63,1274,175,1100,875,270,511,423,156,27,1306,354,286,395,65,1145,1223,280,167,441,775,246,220,153,437,320,115,192,231,42,196,1085,1164,353,218,448,122,13,314,351,188,908,164,194,517,236,96,90,393,182,69,282,516,342,269,259,931,1317,1340,823,373,896,329,281,79,200,1053,177,331,579,163,144,756,65,34,635,613,356,306,191,147,58,210,122,256,102,475,337,815,536,611,658,311,998,164,218,298,300,493,473,32,308,152,367,1052,54,145,75,228,105,222,208,160,395,515,285,772,204,97,266,408,185,65,199,24,394,164,554,1164,255,207,185,227,307,403,54,1202,200,54,508,315,119,117,158,1217,150,345,541,24,76,329,1039,160,214,455,359,610,224,486,482,243,102,1362,277,51,294,461,322,1108,29,80,158,223,66,1266,613,241,179,152,311,208,57,37,673,434,463,808,1016,354,820,550,672,806,596,74,430,11,185,543,437,827,188,519,64,85,689,6,140,297,101,103,229,520,203,302,684,520,330,178,421,83,179,162,183,162,732,129,142,303,176,147,342,37,706,301,177,127,221,362,904,162,282,192,282,73,1004,53,1263,223,280,150,858,243,779,347,194,533,405,1138,169,46,93,226,207,253,91,84,357,660,53,66,818,328,391,447,259,341,481,203,454,665,377,1133,85,47,105,890,573,33,864,194,52,306,1009,629,298,492,85,84,226,99,1057,292,78,604,730,129,394,226,220,344,249,1080,232,1069,216,158,333,52,1329,263,399,1143,79,184,1008,451,128,236,327,155,308,47,264,562,94,1112,168,89,192,757,175,390,305,251,182,201,395,99,424,692,35,1001,162,188,326,477,756,97,472,606,137,1160,219,695,66,225,97,198,581,324,255,300,333,330,52,14,88,539,389,278,206,509,656,536,508,233,306,233,259,690,914,97,150,523,1270,1249,271,190,689,197,344,79,1214,512,490,127,198,1035,768,326,8,618,176,88,390,245,219,138,117,342,512,170,880,774,561,138,264,293,159,660,129,211,187,167,329,402,542,366,276,321,172,132,184,378,114,179,104,104,268,350,317,1053,31,55,140,311,125,494,79,155,141,896,208,191,163,197,117,1204,152,31,525,170,1218,70,348,790,243,215,390,930,82,722,267,593,125,103,543,532,1194,291,312,1325,1140,309,151,52,209,148,372,30,566,283,415,216,378,1097,463,206,73,1212,130,1048,905,75,336,505,899,77,671,889,816,789,574,219,325,358,114,97,136,619,611,113,202,172,448,1094,1229,897,951,154,334,296,164,231,21,92,155,614,192,151,347,107,382,227,786,588,230,340,283,291,483,848,715,210,244,316,1230,396,993,1017,356,338,892,638,115,375,214,97,210,82,312,1024,170,146,151,31,302,802,981,288,297,356,635,1314,106,237,580,130,530,335,1165,465,168,476,532,135,279,178,98,71,251,286,662,118,963,1116,694,215,103,96,53,501,195,690,563,156,167,110,184,420,353,894,124,414,119,115,328,766,116,336,290,585,432,11,91,559,171,104,297,210,658,362,166,184,459,295,147,263,578,402,234,1247,1143,25,683,449,345,41,133,33,26,365,456,254,170,182,1099,568,78,390,112,403,140,234,496,473,161,253,360,359,527,485,211,568,133,183,363,345,393,152,125,325,836,554,242,315,329,20,743,419,114,614,188,922,212,151,118,307,90,503,78,115,439,372,346,534,95,378,53,57,133,104,985,84,215,287,145,461,73,115,188,956,380,617,519,241,159,365,275,549,237,311,317,447,191,206,512,790,35,1212,52,106,236,141,419,165,413,109,166,914,182,544,637,401,232,520,207,1288,579,329,124,820,305,366,224,884,118,266,61,674,82,1028,434,628,172,431,1162,351,139,436,333,438,645,154,31,987,350,60,20,256,414,88,73,82,330,102,107,132,126,812,864,1059,50,1303,260,147,176,48,194,278,379,439,199,537,642,161,847,983,1117,288,242,349,344,628,66,168,249,347,560,459,546,334,226,91,109,689,144,682,262,34,608,1102,47,341,506,298,319,293,626,259,175,218,52,1107,467,550,201,658,199,400,379,131,365,83,1126,608,781,364,483,207,5,81,155,641,175,77,718,409,308,135,418,335,570,272,1268,30,72,562,335,352,445,931,448,35,329,6,155,907,203,13,132,613,26,60,189,477,201,417,218,1247,397,260,263,779,452,121,522,881,493,703,502,361,531,65,564,58,598,352,389,125,325,406,555,1511,236,45,103,736,325,190,417,93,84,239,271,364,281,298,244,272,21,175,176,207,617,224,250,5,5,457,1319,1123,106,921,39,34,309,625,163,83,134,247,117,322,170,80,140,347,360,55,498,279,718,127,875,867,214,120,144,83,1137,114,79,239,105,403,289,371,872,291,28,167,895,289,397,387,1142,193,374,155,339,585,185,168,228,1136,107,1576,326,888,452,191,78,766,437,1670,100,184,359,200,478,758,607,541,954,677,48,353,520,111,649,162,572,378,284,1577,255,515,234,221,239,1490,206,676,22,275,175,324,372,414,414,899,64,85,276,188,185,632,73,563,73,332,395,320,611,540,167,2597,782,223,180,36,53,36,1927,528,533,292,1054,162,248,130,519,2403,374,96,370,276,35,48,588,242,245,535,205,381,496,239,952,534,41,148,567,333,465,253,85,95,133,405,320,3733,352,325,430,42,160,198,68,240,144,715,38,245,98,62,304,605,55,170,71,150,325,282,126,2172,613,537,179,621,134,128,156,87,531,519,143,929,64,112,888,71,375,1292,697,244,1045,542,648,1121,286,250,385,31,372,991,283,476,685,709,296,996,347,327,246,125,327,119,172,460,329,978,134,114,558,69,609,65,485,494,549,395,709,61,604,392,207,1257,469,327,99,141,245,216,443,120,1112,483,224,784,192,122,86,479,229,212,189,95,90,392,556,80,254,87,312,104,127,246,151,567,1090,34,265,157,37,715,221,64,118,1682,90,242,741,216,55,902,123,85,147,308,334,1130,2461,197,31,124,179,22,477,477,11,223,88,166,931,267,402,130,251,24,436,1216,106,131,189,49,209,130,130,521,382,672,284,747,515,258,85,436,225,839,278,693,354,219,389,65,405,396,629,424,2399,337,161,196,915,253,6,263,347,685,102,71,426,782,632,98,67,75,186,265,139,477,151,269,60,3607,221,5595,489,242,164,413,240,390,1082,233,146,39,944,588,71,640,644,149,97,270,304,597,999,105,28,239,319,275,1216,196,324,49,214,147,52,279,209,496,710,543,505,442,834,596,354,1186,531,659,44,93,91,54,72,285,189,274,265,450,77,198,775,400,934,519,156,55,440,581,120,200,70,49,158,334,501,275,651,27,55,1358,998,200,303,170,465,97,564,497,291,422,713,257,254,671,599,581,334,500,277,1866,133,88,366,154,368,226,162,166,425,56,431,120,300,1186,95,349,104,34,23,262,995,152,324,411,177,18,120,427,824,370,733,335,163,481,351,669,142,120,4248,764,483,1392,1691,120,123,1055,58,463,203,318,194,1185,441,180,467,385,160,589,82,113,324,1114,276,707,1100,621,256,320,468,201,173,519,677,291,79,281,182,50,308,90,600,85,259,258,64,365,299,126,154,87,581,596,89,245,136,345,264,700,149,291,348,254,120,163,163,1492,994,21,110,51,9,173,1141,552,363,305,103,394,622,620,479,257,337,279,140,463,1128,442,1237,72,384,1517,129,426,353,181,60,124,273,226,102,144,244,292,176,1035,369,606,395,508,497,301,556,200,739,262,304,481,664,270,724,203,92,116,1142,139,456,188,785,93,344,85,367,151,178,208,470,242,409,73,172,202,143,338,532,76,513,347,108,240,1473,1615,392,122,1015,132,193,858,178,61,27,1009,113,815,247,440,595,687,272,500,279,319,313,92,338,126,102,145,475,293,550,153,7,191,308,2233,225,328,267,858,112,71,705,382,636,76,166,1030,109,129,639,92,615,386,262,500,407,419,36,34,78,311,160,26,223,108,847,505,97,209,1184,257,819,255,80,48,95,61,91,155,268,342,2387,190,170,343,990,337,53,10,498,153,1052,129,174,131,388,80,341,1683,48,267,174,2233,437,254,207,323,247,239,638,27,178,1061,152,95,4229,493,185,206,515,100,646,279,680,183,268,451,574,269,463,262,133,455,156,141,969,69,241,1351,10,166,373,256,330,223,1725,32,606,104,132,398,285,489,571,539,71,439,517,87,12,77,2256,1274,899,592,190,53,828,291,297,267,650,138,121,107,379,481,447,140,383,87,201,84,1030,57,163,479,534,461,756,222,149,577,532,283,416,245,290,1155,524,1137,285,25,1129,425,231,1049,1017,426,220,170,346,231,302,282,31,225,781,363,507,311,232,139,431,492,165,102,631,136,138,554,248,261,261,146,259,455,524,87,495,447,330,748,956,1055,143,78,25,52,1098,310,236,172,1237,926,143,355,236,214,310,202,271,161,357,1227,1220,1066,680,51,123,440,813,220,132,626,299,336,328,199,110,332,413,237,282,16,357,250,241,1215,224,203,138,252,367,485,219,232,110,514,308,377,271,794,727,144,111,215,397,343,494,103,410,151,1107,690,265,127,517,573,1277,440,346,964,430,590,144,470,731,934,411,936,40,312,312,136,149,171,587,373,181,266,36,274,146,549,426,241,107,333,451,47,87,628,150,572,185,875,682,106,899,632,142,544,280,36,749,118,563,46,98,121,297,935,971,102,36,90,155,301,159,411,48,127,370,132,70,666,378,332,165,459,175,16,81,134,241,172,132,307,217,208,502,369,376,813,418,505,235,303,4,203,284,424,247,382,375,117,520,820,366,54,631,497,337,729,77,228,1066,210,263,160,127,286,183,462,389,343,274,289,151,245,234,88,475,64,830,342,867,706,371,297,232,175,263,404,202,309,1184,82,470,132,149,67,805,235,589,296,498,131,647,295,128,136,274,322,324,493,918,194,116,97,221,156,612,343,232,283,624,284,808,308,354,430,221,190,14,86,1282,107,1266,38,255,206,1175,761,170,41,49,287,95,79,573,106,301,125,1119,614,146,933,107,343,146,185,203,949,447,631,215,1019,78,214,277,296,175,31,344,196,921,485,96,501,315,163,594,171,267,580,95,513,474,370,62,245,526,44,595,1014,183,291,342,374,524,105,548,209,555,63,333,112,199,239,365,82,177,318,85,24,732,361,141,1168,75,44,209,492,39,200,59,225,1360,823,291,125,648,168,118,361,337,46,293,14,7,92,870,1257,284,411,549,90,236,252,224,172,241,348,441,810,246,222,139,900,146,596,124,202,433,1357,45,291,294,424,175,761,282,324,171,883,252,16,132,57,137,1112,315,251,846,1220,401,112,297,635,105,107,130,144,552,229,168,431,239,839,660,89,1165,63,345,170,281,105,29,140,139,78,68,219,101,580,65,576,755,539,1144,215,518,159,961,824,291,638,156,447,117,255,377,262,113,442,379,504,710,109,219,320,112,517,203,1015,278,235,535,835,124,151,118,278,200,844,182,44,92,996,179,1369,1262,860,720,114,172,599,301,363,241,190,32,120,514,540,432,188,1141,121,110,176,94,205,183,254,970,565,212,298,600,202,292,153,189,339,214,1127,443,1051,117,206,112,194,420,540,501,335,337,480,553,101,127,173,73,385,447,272,431,354,149,125,335,261,621,163,668,113,543,91,122,73,138,104,230,346,449,377,494,552,172,499,149,175,270,78,165,107,280,224,297,637,292,609,240,149,545,165,1071,138,430,441,544,445,1096,54,617,452,333,413,355,460,268,671,352,193,116,191,556,185,383,39,151,132,516,129,200,625,226,316,78,229,718,199,183,298,299,381,51,425,354,102,238,209,308,103,306,165,1049,790,602,333,291,258,323,117,471,372,804,1113,337,265,14,306,206,95,60,108,219,206,733,208,38,694,274,297,528,248,224,95,61,275,293,67,200,334,439,16,1001,181,1254,219,10,217,268,634,185,273,56,459,303,170,581,148,162,247,170,378,345,185,394,362,182,755,793,321,112,721,426,517,490,465,631,194,942,59,225,289,689,483,185,66,649,117,507,200,410,96,858,1109,997,1052,1166,181,217,30,28,175,100,175,104,161,95,488,203,51,188,299,445,263,286,373,184,70,454,155,388,321,274,1172,158,116,285,147,568,92,495,321,64,1366,81,588,8,33,232,86,13,482,862,115,520,348,832,328,458,289,151,351,40,177,353,133,1021,197,608,1146,55,33,37,356,233,90,240,205,6,305,1303,102,598,606,1143,925,206,250,501,652,252,188,1293,522,70,858,457,431,105,46,113,520,571,179,387,282,148,177,515,411,127,478,88,450,173,508,677,333,106,1388,217,227,779,626,521,194,135,49,359,399,524,284,82,119,1210,531,704,512,400,238,92,460,245,730,235,160,928,168,11,126,504,241,23,830,378,405,253,178,84,217,513,740,517,1111,1020,1268,32,498,1043,303,413,352,293,458,101,134,121,401,286,159,147,1141,652,331,163,652,890,136,145,93,400,553,129,132,134,794,215,195,302,69,22,248,23,457,236,904,58,234,241,71,781,244,254,332,413,621,290,664,96,316,91,56,315,308,150,264,1584,512,339,418,938,879,217,114,4884,82,526,236,200,190,1232,312,165,90,1208,502,442,599,19,1110,684,1706,205,258,842,538,106,214,168,398,119,323,79,179,83,230,211,420,462,595,49,791,51,343,59,669,83,46,152,955,54,371,98,123,342,392,1258,436,174,416,244,122,871,262,293,262,953,687,987,237,524,1082,1159,658,85,943,72,44,232,346,301,137,134,327,447,341,610,791,89,167,51,320,420,407,209,170,382,851,931,921,282,146,454,142,637,252,643,264,342,966,142,682,1213,60,109,55,332,276,99,165,744,341,172,435,434,83,428,900,107,269,960,63,560,289,97,103,160,110,303,717,735,244,695,813,529,276,1102,143,188,197,414,310,392,617,144,201,124,166,97,417,36,868,179,219,633,354,404,169,703,204,163,774,96,63,155,307,437,1848,104,348,36,978,233,60,646,411,139,277,176,13,281,238,992,69,92,1176,176,324,118,706,134,24,59,384,403,255,167,278,821,88,444,429,880,1938,314,204,249,457,240,399,3215,187,177,70,55,215,359,466,145,152,175,2130,119,431,286,800,308,142,197,1834,237,115,1748,1021,138,371,244,302,113,244,1691,184,420,292,102,158,378,619,310,857,439,113,133,274,485,263,132,186,162,540,57,351,1152,282,159,1242,309,524,630,287,1500,58,273,89,1103,232,6,176,123,140,584,739,32,287,455,121,179,207,312,237,173,171,191,159,1122,524,494,185,255,61,319,201,348,121,184,443,139,147,447,711,1921,195,135,273,314,1078,365,46,146,147,204,375,212,168,196,385,117,270,170,265,209,208,60,255,362,47,323,620,150,201,227,352,272,104,156,831,417,630,391,297,26,19,655,305,79,1867,98,271,197,687,273,291,414,1126,162,295,579,713,570,97,247,194,265,516,342,204,111,280,74,752,158,2281,309,652,170,204,662,970,341,375,309,128,286,153,379,390,195,381,292,30,656,1121,143,115,675,2172,265,1054,412,1016,361,124,382,92,137,146,294,151,50,298,166,473,105,142,288,170,709,209,227,88,136,3983,380,2723,45,464,150,623,265,121,295,15,330,77,173,166,181,37,142,478,718,132,160,1061,956,449,364,489,1334,459,197,298,391,688,150,144,146,181,1228,114,1269,657,561,224,298,1463,215,68,895,195,1197,472,121,154,76,94,668,743,315,1639,126,191,182,102,329,124,458,23,2188,555,36,233,179,191,173,113,2098,352,1129,592,216,496,235,360,1662,592,42,399,26,31,811,133,497,116,27,960,830,39,39,219,2223,98,413,323,119,320,208,237,502,658,189,569,291,593,172,467,686,242,503,336,657,119,383,336,242,529,170,611,494,142,647,116,380,226,181,93,565,490,500,719,140,693,146,193,253,583,136,148,329,283,254,834,128,2503,183,374,50,110,78,75,308,77,283,698,122,1149,522,90,361,457,133,458,211,170,252,245,654,962,2451,1191,28,542,163,439,1109,880,443,601,323,280,76,144,946,137,220,127,56,331,514,970,511,119,1688,190,268,139,161,189,325,210,33,153,480,1271,86,932,293,177,199,307,724,333,961,295,35,843,851,1251,1854,419,658,75,146,407,499,152,142,600,183,332,220,326,182,170,347,1332,262,382,300,455,392,241,946,817,158,199,253,141,492,621,382,141,128,116,1047,949,1338,96,328,374,902,117,372,389,62,168,631,426,295,272,444,391,1091,190,996,883,527,252,621,64,115,1152,139,395,160,1009,379,77,361,136,724,541,758,186,170,1288,112,174,146,362,893,139,793,942,149,1025,328,360,937,41,385,1219,303,194,292,1307,125,63,130,394,362,25,464,649,20,386,871,174,73,303,178,64,305,330,1223,311,504,75,112,121,624,250,5,377,176,961,128,630,310,507,392,751,852,550,155,231,85,266,394,112,1047,803,445,691,1215,1018,219,776,792,60,205,269,360,95,49,286,76,555,223,250,313,136,61,403,506,294,211,164,805,398,207,81,55,761,316,370,320,198,22,97,420,12,532,576,416,83,431,199,1017,78,75,262,255,70,141,209,220,742,70,729,98,168,332,157,760,847,320,757,1068,121,720,244,282,501,825,786,1336,186,580,179,508,36,92,261,335,233,358,36,241,101,227,50,144,931,220,248,1031,48,467,95,425,378,191,753,496,770,236,228,489,524,581,124,407,392,292,229,531,165,602,166,853,360,1105,429,37,1124,46,220,1130,35,12,645,229,686,419,366,904,202,573,403,486,500,183,159,304,151,115,109,522,201,721,1035,146,185,331,1119,148,578,266,70,299,767,947,474,238,1367,1209,64,1191,223,522,62,258,245,200,302,160,298,849,207,66,171,410,998,493,69,550,659,432,785,811,718,678,130,715,1191,274,359,291,10,137,306,395,766,115,300,406,743,233,81,242,1145,700,170,761,280,339,214,141,231,70,68,32,133,337,532,122,709,164,495,341,267,297,433,232,613,368,186,451,83,292,372,1222,355,167,1211,318,752,225,714,150,243,340,639,204,116,517,175,1106,519,1059,1135,15,376,134,125,1335,255,414,657,147,298,1149,311,1147,1021,207,761,1177,379,218,259,106,665,620,47,51,82,356,93,405,145,23,43,471,221,1273,1010,224,95,215,144,230,240,49,215,272,283,92,484,484,352,360,117,278,564,276,483,176,105,221,139,862,418,870,679,166,719,438,25,301,870,123,45,156,101,1031,685,26,419,448,485,164,588,236,578,91,1320,571,20,939,86,38,15,508,489,66,803,27,249,139,248,208,71,378,510,144,133,138,16,186,412,231,889,926,408,198,32,254,390,31,297,888,159,205,58,758,415,281,153,395,343,256,429,20,84,405,96,328,175,52,109,768,205,260,407,53,128,123,225,329,355,242,468,94,1178,81,409,470,295,294,38,116,1015,208,676,179,201,434,246,518,487,368,1299,41,33,119,312,539,149,406,75,118,430,18,168,406,683,367,340,65,320,94,506,364,90,900,988,698,346,320,712,128,91,344,235,118,267,822,175,652,207,174,782,287,151,301,759,65,322,350,121,314,267,453,104,137,258,453,154,176,267,492,346,359,274,134,151,264,262,17,424,788,84,289,279,138,194,142,734,118,25,159,107,109,38,0,620,114,441,201,395,253,1232,72,429,173,137,585,465,82,176,528,270,82,477,196,633,449,429,1046,413,181,100,185,382,590,257,271,135,634,492,137,405,488,643,510,750,59,372,938,316,736,81,159,94,258,1230,178,98,109,1144,98,157,227,133,174,59,542,227,398,761,432,469,1014,290,1290,160,714,262,93,207,296,682,467,770,176,755,373,551,1097,269,230,287,147,970,414,539,37,221,132,181,1155,955,153,1239,174,177,333,734,542,128,299,269,245,65,257,136,1220,499,47,893,321,1147,196,176,542,634,220,348,148,508,1210,175,1030,89,361,601,361,393,22,51,78,262,448,140,383,707,137,760,409,1106,172,182,84,50,60,525,19,271,265,779,163,86,1214,335,676,262,75,721,416,474,330,779,199,118,2960,379,1676,769,1746,585,168,139,1414,2022,1208,237,216,239,290,688,575,613,419,557,304,1112,435,249,67,494,137,1223,821,148,422,543,88,481,99,184,379,93,282,413,264,46,487,56,235,274,418,416,679,1825,1290,6061,12,508,324,323,226,201,211,212,291,210,809,823,654,540,220,250,278,57,189,348,209,356,477,140,73,249,656,461,196,1273,166,198,281,346,288,122,149,369,1134,283,400,355,280,510,231,384,1052,460,421,230,281,264,463,357,364,648,269,183,755,915,205,54,293,314,654,134,1178,581,120,84,192,588,402,69,138,138,308,323,252,133,239,335,731,595,76,460,138,1147,459,284,96,654,114,1060,221,163,877,126,252,22,37,125,465,721,106,423,283,83,74,21,887,369,249,1142,462,932,339,257,123,324,304,169,50,424,24,73,259,973,877,987,402,1284,841,482,238,265,307,480,271,401,228,80,819,1104,26,343,52,58,150,304,122,740,179,52,135,37,148,160,236,331,121,119,762,314,486,151,306,324,159,759,77,211,53,692,1088,402,114,126,191,124,1096,69,110,22,256,331,135,346,273,126,207,429,228,159,38,144,94,426,89,576,148,502,180,185,251,480,256,59,62,308,456,648,618,1094,530,1265,31,28,101,305,337,104,120,365,962,171,732,783,251,1244,278,525,520,1023,232,145,379,206,560,242,428,77,845,509,784,425,637,731,176,33,361,547,113,296,344,1062,67,285,1108,189,130,152,468,137,483,273,285,185,165,641,590,194,306,515,370,93,760,133,70,118,343,4,208,1283,360,108,23,531,388,107,830,729,1181,207,487,495,146,77,414,228,220,345,1009,73,557,586,197,977,195,227,413,240,1134,220,527,70,673,349,146,323,237,421,121,132,963,407,536,348,17,424,35,129,249,745,61,154,231,585,88,833,310,305,93,721,265,255,579,282,294,1089,1188,97,318,60,495,216,142,376,33,726,190,1150,254,207,97,28,32,360,195,164,309,628,376,128,88,306,444,289,19,318,159,305,90,1030,878,1156,1220,399,86,1105,92,51,420,34,582,919,82,102,833,370,267,314,170,210,588,167,595,86,158,368,111,249,497,78,421,208,180,191,882,381,959,457,410,1077,79,33,124,5,320,371,106,273,59,427,101,316,243,68,822,622,87,70,696,409,62,420,1268,1101,101,111,854,579,451,61,1103,826,136,1261,286,181,606,263,60,146,1240,285,418,59,423,497,231,513,497,170,418,343,139,459,631,76,267,113,694,569,103,957,422,285,60,153,233,289,199,497,123,594,149,361,74,174,240,211,19,318,249,513,312,120,118,876,116,229,392,465,433,956,191,183,536,386,408,595,318,277,342,472,805,150,261,233,731,932,152,203,316,121,357,175,1003,663,267,51,255,216,140,904,193,175,227,555,638,228,224,99,433,469,167,98,263,1093,229,79,65,1070,444,546,126,1227,265,238,424,226,153,853,809,59,263,429,125,577,82,281,1062,160,1095,273,168,63,42,441,338,178,152,241,475,52,95,35,1119,271,13,271,249,120,1174,337,36,299,771,135,109,210,712,469,246,257,151,173,68,169,1030,299,374,642,666,414,65,133,506,610,398,274,345,857,53,48,553,49,335,1175,99,5,103,1084,162,975,217,252,286,408,630,156,51,610,967,266,27,149,315,422,283,302,322,342,1245,148,106,434,216,208,421,153,101,660,1039,834,31,60,150,269,56,319,108,285,360,66,99,779,595,239,83,202,86,215,383,246,91,470,133,739,167,233,397,120,263,374,236,770,406,111,258,723,23,84,1266,136,603,196,181,554,235,966,127,1058,276,127,193,271,80,60,140,14,262,210,285,131,217,66,180,943,367,312,89,341,45,751,101,621,85,132,913,838,229,254,1291,88,145,440,130,508,330,710,109,830,715,390,200,269,70,134,175,942,295,184,243,656,64,445,162,976,350,582,271,75,157,1256,502,542,38,317,163,312,937,48,48,802,457,458,376,317,456,373,796,369,553,540,316,577,255,208,584,67,412,390,194,1255,1213,166,241,791,1004,593,576,43,281,103,29,843,315,92,12,507,217,83,80,1087,103,90,462,224,482,179,448,221,128,865,221,81,413,812,118,611,172,5266,842,411,148,147,148,358,364,225,245,267,427,325,943,723,125,90,340,1301,107,252,63,202,609,1656,291,557,42,929,434,844,248,251,73,645,871,481,293,219,309,83,176,305,223,214,52,200,20,136,194,123,128,423,201,560,195,755,143,60,315,347,202,168,2046,301,13,133,151,572,318,622,268,134,1592,317,899,305,319,731,434,423,640,268,123,587,138,626,444,23,177,238,262,239,160,987,243,112,114,381,279,418,83,386,369,360,188,191,553,14,177,844,28,105,215,375,410,202,25,174,174,171,171,101,179,611,571,525,569,771,151,643,24,415,410,247,460,326,390,457,413,1091,110,47,149,381,539,70,352,360,411,112,445,171,23,533,413,1370,48,58,122,15,14,24,496,780,262,397,548,657,335,132,427,53,167,442,1072,387,129,466,112,550,391,99,423,127,53,251,37,225,864,150,542,127,205,167,362,8,83,518,686,660,300,758,138,134,205,907,218,255,335,200,371,826,60,158,606,285,454,519,277,100,234,154,470,375,512,133,260,280,162,58,994,162,760,79,254,204,134,267,477,485,763,292,128,489,351,125,48,593,14,137,220,284,466,87,696,620,964,385,223,41,345,183,689,375,46,424,76,1265,468,702,255,349,998,269,249,1151,142,424,178,665,523,574,248,2788,232,267,531,669,711,189,302,156,10,78,956,442,2880,264,155,137,192,28,94,629,37,334,252,332,298,308,188,72,333,129,346,343,692,6086,714,751,226,117,285,308,815,34,604,30,89,248,131,773,113,27,33,346,204,443,1296,113,1532,1187,389,739,212,176,1279,203,266,286,91,93,7,651,360,755,9,414,86,322,1694,4886,309,229,1646,373,387,516,495,6,275,116,265,116,358,525,949,473,961,337,74,148,398,267,224,238,66,215,187,427,279,391,595,1430,354,304,224,1101,482,410,85,212,27,232,104,65,1191,363,152,193,162,235,613,834,756,353,131,151,980,653,1152,270,641,148,642,445,424,39,75,44,310,134,259,49,236,156,87,307,23,267,340,110,23,1457,113,618,216,208,339,223,507,211,924,842,317,117,387,544,188,215,1681,352,265,1013,437,316,981,357,250,577,605,359,573,21,475,381,214,349,1600,281,51,744,1194,338,1799,283,1162,1171,135,621,1130,341,149,674,102,694,428,504,84,226,409,289,576,193,158,459,579,168,136,359,76,528,189,570,133,133,94,59,500,153,165,262,531,369,246,703,304,494,296,694,314,200,62,106,76,255,924,453,1394,514,482,346,44,586,298,150,471,263,238,1033,79,86,632,711,196,80,460,128,241,42,28,712,1962,11,57,288,288,332,139,750,579,284,192,241,1072,121,755,68,596,321,39,812,707,116,1145,1445,521,497,350,172,124,563,40,342,19,120,433,64,228,216,308,158,854,162,744,412,174,120,141,832,246,271,474,794,354,212,239,197,16,667,107,18,141,178,53,206,1141,2223,358,156,362,109,933,311,480,105,1149,534,1517,166,664,581,1100,482,135,295,179,405,56,770,198,361,131,653,330,2498,834,105,480,204,339,90,761,141,1256,175,524,374,425,72,87,907,341,114,213,624,429,226,462,167,158,1224,431,178,152,208,1189,799,429,543,1036,346,47,362,186,148,185,575,307,184,230,1658,171,2252,993,373,151,300,347,395,611,95,338,535,319,636,252,153,133,100,466,279,115,171,133,319,353,179,74,774,615,470,287,290,68,16,193,65,196,427,475,507,65,186,90,346,630,57,50,161,182,132,2394,316,260,867,56,172,80,198,59,56,488,712,458,200,92,597,154,141,56,202,554,290,139,190,155,91,1102,102,284,1008,718,216,59,446,370,18,104,133,269,704,441,137,774,600,69,356,925,1298,295,142,409,61,247,254,88,301,312,1156,194,166,339,457,349,369,398,53,152,564,223,152,30,160,720,189,1509,1085,343,383,433,91,718,65,548,151,255,264,175,86,597,120,255,80,664,1393,2032,275,359,409,68,1227,559,374,135,10,249,294,266,94,656,370,347,112,662,3197,38,542,260,1438,275,6078,830,214,153,134,260,501,566,684,1046,723,367,2366,404,416,223,766,279,364,23,623,296,343,113,1128,130,885,593,394,679,56,648,319,121,452,570,466,685,720,166,957,251,107,197,435,362,2571,388,216,135,549,29,227,546,722,1675,934,155,173,1515,365,115,655,174,141,355,991,367,331,367,14,510,413,190,509,111,186,81,834,155,1544,251,214,92,654,258,412,271,102,1016,244,489,649,20,315,674,53,730,572,650,122,53,414,793,69,16,379,1360,826,303,20,24,533,293,303,298,353,378,133,190,657,359,153,418,775,123,1660,576,373,193,379,916,822,74,71,234,302,555,555,472,591,264,62,306,296,461,373,93,108,336,127,598,1486,183,444,63,154,91,789,890,250,179,162,111,112,352,92,197,379,201,70,296,237,89,600,362,255,409,84,544,38,102,296,406,181,337,588,608,93,950,1561,365,368,737,1265,193,35,1529,670,256,1289,54,279,1818,168,479,357,406,371,722,658,83,493,125,1424,742,68,739,673,267,115,91,172,266,95,72,247,920,108,297,115,271,118,220,377,74,583,332,118,91,99,99,688,97,242,156,52,941,1348,210,140,77,534,191,254,241,200,109,678,418,186,2214,601,118,1194,301,716,1133,583,154,290,540,193,88,152,2370,71,1224,625,576,252,72,1103,365,13,460,336,252,204,416,395,168,963,140,985,315,181,585,186,258,38,694,169,133,531,159,232,293,252,1322,316,446,416,328,593,505,210,691,842,733,209],\"xaxis\":\"x\",\"yaxis\":\"y\",\"type\":\"histogram\"}],                        {\"template\":{\"data\":{\"bar\":[{\"error_x\":{\"color\":\"#2a3f5f\"},\"error_y\":{\"color\":\"#2a3f5f\"},\"marker\":{\"line\":{\"color\":\"#E5ECF6\",\"width\":0.5},\"pattern\":{\"fillmode\":\"overlay\",\"size\":10,\"solidity\":0.2}},\"type\":\"bar\"}],\"barpolar\":[{\"marker\":{\"line\":{\"color\":\"#E5ECF6\",\"width\":0.5},\"pattern\":{\"fillmode\":\"overlay\",\"size\":10,\"solidity\":0.2}},\"type\":\"barpolar\"}],\"carpet\":[{\"aaxis\":{\"endlinecolor\":\"#2a3f5f\",\"gridcolor\":\"white\",\"linecolor\":\"white\",\"minorgridcolor\":\"white\",\"startlinecolor\":\"#2a3f5f\"},\"baxis\":{\"endlinecolor\":\"#2a3f5f\",\"gridcolor\":\"white\",\"linecolor\":\"white\",\"minorgridcolor\":\"white\",\"startlinecolor\":\"#2a3f5f\"},\"type\":\"carpet\"}],\"choropleth\":[{\"colorbar\":{\"outlinewidth\":0,\"ticks\":\"\"},\"type\":\"choropleth\"}],\"contour\":[{\"colorbar\":{\"outlinewidth\":0,\"ticks\":\"\"},\"colorscale\":[[0.0,\"#0d0887\"],[0.1111111111111111,\"#46039f\"],[0.2222222222222222,\"#7201a8\"],[0.3333333333333333,\"#9c179e\"],[0.4444444444444444,\"#bd3786\"],[0.5555555555555556,\"#d8576b\"],[0.6666666666666666,\"#ed7953\"],[0.7777777777777778,\"#fb9f3a\"],[0.8888888888888888,\"#fdca26\"],[1.0,\"#f0f921\"]],\"type\":\"contour\"}],\"contourcarpet\":[{\"colorbar\":{\"outlinewidth\":0,\"ticks\":\"\"},\"type\":\"contourcarpet\"}],\"heatmap\":[{\"colorbar\":{\"outlinewidth\":0,\"ticks\":\"\"},\"colorscale\":[[0.0,\"#0d0887\"],[0.1111111111111111,\"#46039f\"],[0.2222222222222222,\"#7201a8\"],[0.3333333333333333,\"#9c179e\"],[0.4444444444444444,\"#bd3786\"],[0.5555555555555556,\"#d8576b\"],[0.6666666666666666,\"#ed7953\"],[0.7777777777777778,\"#fb9f3a\"],[0.8888888888888888,\"#fdca26\"],[1.0,\"#f0f921\"]],\"type\":\"heatmap\"}],\"heatmapgl\":[{\"colorbar\":{\"outlinewidth\":0,\"ticks\":\"\"},\"colorscale\":[[0.0,\"#0d0887\"],[0.1111111111111111,\"#46039f\"],[0.2222222222222222,\"#7201a8\"],[0.3333333333333333,\"#9c179e\"],[0.4444444444444444,\"#bd3786\"],[0.5555555555555556,\"#d8576b\"],[0.6666666666666666,\"#ed7953\"],[0.7777777777777778,\"#fb9f3a\"],[0.8888888888888888,\"#fdca26\"],[1.0,\"#f0f921\"]],\"type\":\"heatmapgl\"}],\"histogram\":[{\"marker\":{\"pattern\":{\"fillmode\":\"overlay\",\"size\":10,\"solidity\":0.2}},\"type\":\"histogram\"}],\"histogram2d\":[{\"colorbar\":{\"outlinewidth\":0,\"ticks\":\"\"},\"colorscale\":[[0.0,\"#0d0887\"],[0.1111111111111111,\"#46039f\"],[0.2222222222222222,\"#7201a8\"],[0.3333333333333333,\"#9c179e\"],[0.4444444444444444,\"#bd3786\"],[0.5555555555555556,\"#d8576b\"],[0.6666666666666666,\"#ed7953\"],[0.7777777777777778,\"#fb9f3a\"],[0.8888888888888888,\"#fdca26\"],[1.0,\"#f0f921\"]],\"type\":\"histogram2d\"}],\"histogram2dcontour\":[{\"colorbar\":{\"outlinewidth\":0,\"ticks\":\"\"},\"colorscale\":[[0.0,\"#0d0887\"],[0.1111111111111111,\"#46039f\"],[0.2222222222222222,\"#7201a8\"],[0.3333333333333333,\"#9c179e\"],[0.4444444444444444,\"#bd3786\"],[0.5555555555555556,\"#d8576b\"],[0.6666666666666666,\"#ed7953\"],[0.7777777777777778,\"#fb9f3a\"],[0.8888888888888888,\"#fdca26\"],[1.0,\"#f0f921\"]],\"type\":\"histogram2dcontour\"}],\"mesh3d\":[{\"colorbar\":{\"outlinewidth\":0,\"ticks\":\"\"},\"type\":\"mesh3d\"}],\"parcoords\":[{\"line\":{\"colorbar\":{\"outlinewidth\":0,\"ticks\":\"\"}},\"type\":\"parcoords\"}],\"pie\":[{\"automargin\":true,\"type\":\"pie\"}],\"scatter\":[{\"marker\":{\"colorbar\":{\"outlinewidth\":0,\"ticks\":\"\"}},\"type\":\"scatter\"}],\"scatter3d\":[{\"line\":{\"colorbar\":{\"outlinewidth\":0,\"ticks\":\"\"}},\"marker\":{\"colorbar\":{\"outlinewidth\":0,\"ticks\":\"\"}},\"type\":\"scatter3d\"}],\"scattercarpet\":[{\"marker\":{\"colorbar\":{\"outlinewidth\":0,\"ticks\":\"\"}},\"type\":\"scattercarpet\"}],\"scattergeo\":[{\"marker\":{\"colorbar\":{\"outlinewidth\":0,\"ticks\":\"\"}},\"type\":\"scattergeo\"}],\"scattergl\":[{\"marker\":{\"colorbar\":{\"outlinewidth\":0,\"ticks\":\"\"}},\"type\":\"scattergl\"}],\"scattermapbox\":[{\"marker\":{\"colorbar\":{\"outlinewidth\":0,\"ticks\":\"\"}},\"type\":\"scattermapbox\"}],\"scatterpolar\":[{\"marker\":{\"colorbar\":{\"outlinewidth\":0,\"ticks\":\"\"}},\"type\":\"scatterpolar\"}],\"scatterpolargl\":[{\"marker\":{\"colorbar\":{\"outlinewidth\":0,\"ticks\":\"\"}},\"type\":\"scatterpolargl\"}],\"scatterternary\":[{\"marker\":{\"colorbar\":{\"outlinewidth\":0,\"ticks\":\"\"}},\"type\":\"scatterternary\"}],\"surface\":[{\"colorbar\":{\"outlinewidth\":0,\"ticks\":\"\"},\"colorscale\":[[0.0,\"#0d0887\"],[0.1111111111111111,\"#46039f\"],[0.2222222222222222,\"#7201a8\"],[0.3333333333333333,\"#9c179e\"],[0.4444444444444444,\"#bd3786\"],[0.5555555555555556,\"#d8576b\"],[0.6666666666666666,\"#ed7953\"],[0.7777777777777778,\"#fb9f3a\"],[0.8888888888888888,\"#fdca26\"],[1.0,\"#f0f921\"]],\"type\":\"surface\"}],\"table\":[{\"cells\":{\"fill\":{\"color\":\"#EBF0F8\"},\"line\":{\"color\":\"white\"}},\"header\":{\"fill\":{\"color\":\"#C8D4E3\"},\"line\":{\"color\":\"white\"}},\"type\":\"table\"}]},\"layout\":{\"annotationdefaults\":{\"arrowcolor\":\"#2a3f5f\",\"arrowhead\":0,\"arrowwidth\":1},\"autotypenumbers\":\"strict\",\"coloraxis\":{\"colorbar\":{\"outlinewidth\":0,\"ticks\":\"\"}},\"colorscale\":{\"diverging\":[[0,\"#8e0152\"],[0.1,\"#c51b7d\"],[0.2,\"#de77ae\"],[0.3,\"#f1b6da\"],[0.4,\"#fde0ef\"],[0.5,\"#f7f7f7\"],[0.6,\"#e6f5d0\"],[0.7,\"#b8e186\"],[0.8,\"#7fbc41\"],[0.9,\"#4d9221\"],[1,\"#276419\"]],\"sequential\":[[0.0,\"#0d0887\"],[0.1111111111111111,\"#46039f\"],[0.2222222222222222,\"#7201a8\"],[0.3333333333333333,\"#9c179e\"],[0.4444444444444444,\"#bd3786\"],[0.5555555555555556,\"#d8576b\"],[0.6666666666666666,\"#ed7953\"],[0.7777777777777778,\"#fb9f3a\"],[0.8888888888888888,\"#fdca26\"],[1.0,\"#f0f921\"]],\"sequentialminus\":[[0.0,\"#0d0887\"],[0.1111111111111111,\"#46039f\"],[0.2222222222222222,\"#7201a8\"],[0.3333333333333333,\"#9c179e\"],[0.4444444444444444,\"#bd3786\"],[0.5555555555555556,\"#d8576b\"],[0.6666666666666666,\"#ed7953\"],[0.7777777777777778,\"#fb9f3a\"],[0.8888888888888888,\"#fdca26\"],[1.0,\"#f0f921\"]]},\"colorway\":[\"#636efa\",\"#EF553B\",\"#00cc96\",\"#ab63fa\",\"#FFA15A\",\"#19d3f3\",\"#FF6692\",\"#B6E880\",\"#FF97FF\",\"#FECB52\"],\"font\":{\"color\":\"#2a3f5f\"},\"geo\":{\"bgcolor\":\"white\",\"lakecolor\":\"white\",\"landcolor\":\"#E5ECF6\",\"showlakes\":true,\"showland\":true,\"subunitcolor\":\"white\"},\"hoverlabel\":{\"align\":\"left\"},\"hovermode\":\"closest\",\"mapbox\":{\"style\":\"light\"},\"paper_bgcolor\":\"white\",\"plot_bgcolor\":\"#E5ECF6\",\"polar\":{\"angularaxis\":{\"gridcolor\":\"white\",\"linecolor\":\"white\",\"ticks\":\"\"},\"bgcolor\":\"#E5ECF6\",\"radialaxis\":{\"gridcolor\":\"white\",\"linecolor\":\"white\",\"ticks\":\"\"}},\"scene\":{\"xaxis\":{\"backgroundcolor\":\"#E5ECF6\",\"gridcolor\":\"white\",\"gridwidth\":2,\"linecolor\":\"white\",\"showbackground\":true,\"ticks\":\"\",\"zerolinecolor\":\"white\"},\"yaxis\":{\"backgroundcolor\":\"#E5ECF6\",\"gridcolor\":\"white\",\"gridwidth\":2,\"linecolor\":\"white\",\"showbackground\":true,\"ticks\":\"\",\"zerolinecolor\":\"white\"},\"zaxis\":{\"backgroundcolor\":\"#E5ECF6\",\"gridcolor\":\"white\",\"gridwidth\":2,\"linecolor\":\"white\",\"showbackground\":true,\"ticks\":\"\",\"zerolinecolor\":\"white\"}},\"shapedefaults\":{\"line\":{\"color\":\"#2a3f5f\"}},\"ternary\":{\"aaxis\":{\"gridcolor\":\"white\",\"linecolor\":\"white\",\"ticks\":\"\"},\"baxis\":{\"gridcolor\":\"white\",\"linecolor\":\"white\",\"ticks\":\"\"},\"bgcolor\":\"#E5ECF6\",\"caxis\":{\"gridcolor\":\"white\",\"linecolor\":\"white\",\"ticks\":\"\"}},\"title\":{\"x\":0.05},\"xaxis\":{\"automargin\":true,\"gridcolor\":\"white\",\"linecolor\":\"white\",\"ticks\":\"\",\"title\":{\"standoff\":15},\"zerolinecolor\":\"white\",\"zerolinewidth\":2},\"yaxis\":{\"automargin\":true,\"gridcolor\":\"white\",\"linecolor\":\"white\",\"ticks\":\"\",\"title\":{\"standoff\":15},\"zerolinecolor\":\"white\",\"zerolinewidth\":2}}},\"xaxis\":{\"anchor\":\"y\",\"domain\":[0.0,1.0],\"title\":{\"text\":\"complaint_len\"}},\"yaxis\":{\"anchor\":\"x\",\"domain\":[0.0,1.0],\"title\":{\"text\":\"count\"}},\"legend\":{\"tracegroupgap\":0},\"title\":{\"text\":\"Complaint length histogram\"},\"barmode\":\"relative\"},                        {\"responsive\": true}                    ).then(function(){\n",
              "                            \n",
              "var gd = document.getElementById('4e7ed276-6894-4516-86df-4cf3beb82c56');\n",
              "var x = new MutationObserver(function (mutations, observer) {{\n",
              "        var display = window.getComputedStyle(gd).display;\n",
              "        if (!display || display === 'none') {{\n",
              "            console.log([gd, 'removed!']);\n",
              "            Plotly.purge(gd);\n",
              "            observer.disconnect();\n",
              "        }}\n",
              "}});\n",
              "\n",
              "// Listen for the removal of the full notebook cells\n",
              "var notebookContainer = gd.closest('#notebook-container');\n",
              "if (notebookContainer) {{\n",
              "    x.observe(notebookContainer, {childList: true});\n",
              "}}\n",
              "\n",
              "// Listen for the clearing of the current output cell\n",
              "var outputEl = gd.closest('.output');\n",
              "if (outputEl) {{\n",
              "    x.observe(outputEl, {childList: true});\n",
              "}}\n",
              "\n",
              "                        })                };                            </script>        </div>\n",
              "</body>\n",
              "</html>"
            ]
          },
          "metadata": {}
        }
      ],
      "source": [
        "# Write your code here to visualise the data according to the 'Complaint' character length\n",
        "df_clean['complaint_len'] = df_clean['complaint_POS_removed'].str.len()\n",
        "fig = px.histogram(df_clean, x=\"complaint_len\",title='Complaint length histogram')\n",
        "fig.show()\n"
      ]
    },
    {
      "cell_type": "markdown",
      "metadata": {
        "id": "T9jD_6SeJrF3"
      },
      "source": [
        "#### Find the top 40 words by frequency among all the articles after processing the text."
      ]
    },
    {
      "cell_type": "code",
      "execution_count": null,
      "metadata": {
        "colab": {
          "base_uri": "https://localhost:8080/",
          "height": 319
        },
        "id": "QcfdvtfZJrF3",
        "outputId": "b3aef85f-84bb-40d3-e1ed-70ba3cb4360d"
      },
      "outputs": [
        {
          "output_type": "display_data",
          "data": {
            "text/plain": [
              "<Figure size 576x576 with 1 Axes>"
            ],
            "image/png": "[encoded data removed]"
          },
          "metadata": {
            "needs_background": "light"
          }
        }
      ],
      "source": [
        "#Using a word cloud find the top 40 words by frequency among all the articles after processing the text\n",
        "corpus = [sent for sent in df_clean['lemmetized_complaint']]\n",
        "corpus = ' '.join(corpus)\n",
        "\n",
        "word_cloud = WordCloud(max_words=40,background_color='white').generate(corpus)\n",
        "plt.figure(figsize=(8,8))\n",
        "plt.imshow(word_cloud)\n",
        "plt.axis('off')\n",
        "plt.tight_layout(pad = 0)\n",
        "plt.show()"
      ]
    },
    {
      "cell_type": "code",
      "execution_count": null,
      "metadata": {
        "id": "OkSmc3UaJrF4"
      },
      "outputs": [],
      "source": [
        "#Removing -PRON- from the text corpus\n",
        "df_clean['Complaint_clean'] = df_clean['lemmetized_complaint'].str.replace('-PRON-', '')"
      ]
    },
    {
      "cell_type": "markdown",
      "metadata": {
        "id": "5DfCSbbmJrF4"
      },
      "source": [
        "#### Find the top unigrams,bigrams and trigrams by frequency among all the complaints after processing the text."
      ]
    },
    {
      "cell_type": "code",
      "execution_count": null,
      "metadata": {
        "id": "5mbk5DS5JrF4"
      },
      "outputs": [],
      "source": [
        "#Write your code here to find the top 30 unigram frequency among the complaints in the cleaned datafram(df_clean). \n",
        "\n",
        "def word_frequency_unigram(sent):\n",
        "  tokens = word_tokenize(sent)\n",
        "  unigrams = Counter(tokens)\n",
        "  return sorted(unigrams.items(), key = lambda x:x[1],reverse=True)[:30]\n",
        "\n",
        "\n",
        "from nltk.util import ngrams\n",
        "from collections import Counter\n",
        "corpus = [sent for sent in df_clean['Complaint_clean']]\n",
        "corpus = ' '.join(corpus)\n",
        "\n",
        "unigram_freq = word_frequency_unigram(corpus)"
      ]
    },
    {
      "cell_type": "code",
      "execution_count": null,
      "metadata": {
        "colab": {
          "base_uri": "https://localhost:8080/"
        },
        "id": "YX7fedm1JrF8",
        "outputId": "80e04d26-2256-4aab-91ea-aa6ddb7e957d"
      },
      "outputs": [
        {
          "output_type": "execute_result",
          "data": {
            "text/plain": [
              "[('chase', 80559),\n",
              " ('account', 48628),\n",
              " ('credit', 33100),\n",
              " ('card', 30535),\n",
              " ('bank', 28245),\n",
              " ('payment', 21182),\n",
              " ('would', 20318),\n",
              " ('told', 16378),\n",
              " ('time', 16048),\n",
              " ('called', 13409)]"
            ]
          },
          "metadata": {},
          "execution_count": 24
        }
      ],
      "source": [
        "#Print the top 10 words in the unigram frequency\n",
        "unigram_freq[:10]"
      ]
    },
    {
      "cell_type": "code",
      "execution_count": null,
      "metadata": {
        "id": "aV7kD7w8JrF8"
      },
      "outputs": [],
      "source": [
        "#Write your code here to find the top 30 bigram frequency among the complaints in the cleaned datafram(df_clean). \n",
        "def word_frequency_bigram(sent):\n",
        "  tokens = word_tokenize(sent)\n",
        "  unigrams = Counter(ngrams(tokens,2))\n",
        "  return sorted(unigrams.items(), key = lambda x:x[1],reverse=True)[:30]\n",
        "\n",
        "bigram_freq = word_frequency_bigram(corpus)"
      ]
    },
    {
      "cell_type": "code",
      "execution_count": null,
      "metadata": {
        "colab": {
          "base_uri": "https://localhost:8080/"
        },
        "id": "NPnMNIpyJrF9",
        "outputId": "6c5afaf4-8a18-403b-c608-09f30c1ce2ee"
      },
      "outputs": [
        {
          "output_type": "execute_result",
          "data": {
            "text/plain": [
              "[(('chase', 'bank'), 12802),\n",
              " (('credit', 'card'), 12791),\n",
              " (('credit', 'report'), 3869),\n",
              " (('checking', 'account'), 3747),\n",
              " (('called', 'chase'), 3717),\n",
              " (('customer', 'service'), 3067),\n",
              " (('jp', 'morgan'), 2887),\n",
              " (('chase', 'credit'), 2527),\n",
              " (('morgan', 'chase'), 2478),\n",
              " (('account', 'chase'), 2455)]"
            ]
          },
          "metadata": {},
          "execution_count": 26
        }
      ],
      "source": [
        "#Print the top 10 words in the bigram frequency\n",
        "bigram_freq[:10]"
      ]
    },
    {
      "cell_type": "code",
      "execution_count": null,
      "metadata": {
        "id": "Xkh7vtbtJrF-"
      },
      "outputs": [],
      "source": [
        "#Write your code here to find the top 30 trigram frequency among the complaints in the cleaned datafram(df_clean). \n",
        "def word_frequency_trigram(sent):\n",
        "  tokens = word_tokenize(sent)\n",
        "  unigrams = Counter(ngrams(tokens,3))\n",
        "  return sorted(unigrams.items(), key = lambda x:x[1],reverse=True)[:30]\n",
        "\n",
        "trigram_freq = word_frequency_trigram(corpus)"
      ]
    },
    {
      "cell_type": "code",
      "execution_count": null,
      "metadata": {
        "colab": {
          "base_uri": "https://localhost:8080/"
        },
        "id": "REcVxNfvJrF-",
        "outputId": "df23058e-b1ba-42fd-d316-1c2202cfef83"
      },
      "outputs": [
        {
          "output_type": "execute_result",
          "data": {
            "text/plain": [
              "[(('jp', 'morgan', 'chase'), 2366),\n",
              " (('chase', 'credit', 'card'), 2248),\n",
              " (('credit', 'card', 'account'), 968),\n",
              " (('credit', 'card', 'company'), 955),\n",
              " (('credit', 'card', 'chase'), 727),\n",
              " (('morgan', 'chase', 'bank'), 677),\n",
              " (('account', 'chase', 'bank'), 663),\n",
              " (('chase', 'customer', 'service'), 581),\n",
              " (('received', 'letter', 'chase'), 477),\n",
              " (('chase', 'checking', 'account'), 446)]"
            ]
          },
          "metadata": {},
          "execution_count": 28
        }
      ],
      "source": [
        "#Print the top 10 words in the trigram frequency\n",
        "trigram_freq[:10]"
      ]
    },
    {
      "cell_type": "markdown",
      "metadata": {
        "id": "yUXzFji0JrF_"
      },
      "source": [
        "## The personal details of customer has been masked in the dataset with xxxx. Let's remove the masked text as this will be of no use for our analysis"
      ]
    },
    {
      "cell_type": "code",
      "execution_count": null,
      "metadata": {
        "id": "wKda-a_IJrF_"
      },
      "outputs": [],
      "source": [
        "# masked data has already been cleaned before\n",
        "# df_clean['Complaint_clean'] = df_clean['Complaint_clean'].str.replace('xxxx','')"
      ]
    },
    {
      "cell_type": "code",
      "execution_count": null,
      "metadata": {
        "colab": {
          "base_uri": "https://localhost:8080/",
          "height": 693
        },
        "id": "9UIFk8fQJrF_",
        "outputId": "5e840676-ec73-433f-d711-332d6e0cd29d"
      },
      "outputs": [
        {
          "output_type": "execute_result",
          "data": {
            "text/plain": [
              "                                         complaint_clean  \\\n",
              "0      good morning name appreciate could help put st...   \n",
              "1      upgraded card told agent upgrade anniversary d...   \n",
              "2      chase card reported however fraudulent applica...   \n",
              "3      trying book ticket came across offer applied t...   \n",
              "4      grand son give check deposit chase account fun...   \n",
              "...                                                  ...   \n",
              "21067  chase card customer well decade offered multip...   \n",
              "21068  wednesday called chas visa credit card provide...   \n",
              "21069  familiar pay understand great risk provides co...   \n",
              "21070  flawless credit yrs ive chase credit cards cha...   \n",
              "21071  roughly years ago closed accounts jp morgan ch...   \n",
              "\n",
              "                                    lemmetized_complaint  \\\n",
              "0      good morning name appreciate could help put st...   \n",
              "1      upgraded card told agent upgrade anniversary d...   \n",
              "2      chase card reported however fraudulent applica...   \n",
              "3      trying book ticket came across offer applied t...   \n",
              "4      grand son give check deposit chase account fun...   \n",
              "...                                                  ...   \n",
              "21067  chase card customer well decade offered multip...   \n",
              "21068  wednesday called chas visa credit card provide...   \n",
              "21069  familiar pay understand great risk provides co...   \n",
              "21070  flawless credit yr ive chase credit card chase...   \n",
              "21071  roughly year ago closed account jp morgan chas...   \n",
              "\n",
              "                                   complaint_POS_removed  complaint_len  \\\n",
              "0      good could help put stop wrote chase asking se...            130   \n",
              "1      upgraded told upgrade anniversary would change...            111   \n",
              "2      reported however fraudulent submitted without ...             90   \n",
              "3      trying came across applied towards applied rew...            511   \n",
              "4      grand give clear closed never paid said need s...            100   \n",
              "...                                                  ...            ...   \n",
              "21067  well offered multiple acquiring new mile appro...            210   \n",
              "21068  called asked make purchased three high old tra...            691   \n",
              "21069  familiar understand great provides believed sa...            842   \n",
              "21070  yr ive specifically since ever ive done many p...            733   \n",
              "21071  roughly ago closed morgan chase close unsecure...            209   \n",
              "\n",
              "                                         Complaint_clean  \n",
              "0      good morning name appreciate could help put st...  \n",
              "1      upgraded card told agent upgrade anniversary d...  \n",
              "2      chase card reported however fraudulent applica...  \n",
              "3      trying book ticket came across offer applied t...  \n",
              "4      grand son give check deposit chase account fun...  \n",
              "...                                                  ...  \n",
              "21067  chase card customer well decade offered multip...  \n",
              "21068  wednesday called chas visa credit card provide...  \n",
              "21069  familiar pay understand great risk provides co...  \n",
              "21070  flawless credit yr ive chase credit card chase...  \n",
              "21071  roughly year ago closed account jp morgan chas...  \n",
              "\n",
              "[21072 rows x 5 columns]"
            ],
            "text/html": [
              "\n",
              "  <div id=\"df-ac9b98b2-d1da-4c90-a928-06a85f3d35a8\">\n",
              "    <div class=\"colab-df-container\">\n",
              "      <div>\n",
              "<style scoped>\n",
              "    .dataframe tbody tr th:only-of-type {\n",
              "        vertical-align: middle;\n",
              "    }\n",
              "\n",
              "    .dataframe tbody tr th {\n",
              "        vertical-align: top;\n",
              "    }\n",
              "\n",
              "    .dataframe thead th {\n",
              "        text-align: right;\n",
              "    }\n",
              "</style>\n",
              "<table border=\"1\" class=\"dataframe\">\n",
              "  <thead>\n",
              "    <tr style=\"text-align: right;\">\n",
              "      <th></th>\n",
              "      <th>complaint_clean</th>\n",
              "      <th>lemmetized_complaint</th>\n",
              "      <th>complaint_POS_removed</th>\n",
              "      <th>complaint_len</th>\n",
              "      <th>Complaint_clean</th>\n",
              "    </tr>\n",
              "  </thead>\n",
              "  <tbody>\n",
              "    <tr>\n",
              "      <th>0</th>\n",
              "      <td>good morning name appreciate could help put st...</td>\n",
              "      <td>good morning name appreciate could help put st...</td>\n",
              "      <td>good could help put stop wrote chase asking se...</td>\n",
              "      <td>130</td>\n",
              "      <td>good morning name appreciate could help put st...</td>\n",
              "    </tr>\n",
              "    <tr>\n",
              "      <th>1</th>\n",
              "      <td>upgraded card told agent upgrade anniversary d...</td>\n",
              "      <td>upgraded card told agent upgrade anniversary d...</td>\n",
              "      <td>upgraded told upgrade anniversary would change...</td>\n",
              "      <td>111</td>\n",
              "      <td>upgraded card told agent upgrade anniversary d...</td>\n",
              "    </tr>\n",
              "    <tr>\n",
              "      <th>2</th>\n",
              "      <td>chase card reported however fraudulent applica...</td>\n",
              "      <td>chase card reported however fraudulent applica...</td>\n",
              "      <td>reported however fraudulent submitted without ...</td>\n",
              "      <td>90</td>\n",
              "      <td>chase card reported however fraudulent applica...</td>\n",
              "    </tr>\n",
              "    <tr>\n",
              "      <th>3</th>\n",
              "      <td>trying book ticket came across offer applied t...</td>\n",
              "      <td>trying book ticket came across offer applied t...</td>\n",
              "      <td>trying came across applied towards applied rew...</td>\n",
              "      <td>511</td>\n",
              "      <td>trying book ticket came across offer applied t...</td>\n",
              "    </tr>\n",
              "    <tr>\n",
              "      <th>4</th>\n",
              "      <td>grand son give check deposit chase account fun...</td>\n",
              "      <td>grand son give check deposit chase account fun...</td>\n",
              "      <td>grand give clear closed never paid said need s...</td>\n",
              "      <td>100</td>\n",
              "      <td>grand son give check deposit chase account fun...</td>\n",
              "    </tr>\n",
              "    <tr>\n",
              "      <th>...</th>\n",
              "      <td>...</td>\n",
              "      <td>...</td>\n",
              "      <td>...</td>\n",
              "      <td>...</td>\n",
              "      <td>...</td>\n",
              "    </tr>\n",
              "    <tr>\n",
              "      <th>21067</th>\n",
              "      <td>chase card customer well decade offered multip...</td>\n",
              "      <td>chase card customer well decade offered multip...</td>\n",
              "      <td>well offered multiple acquiring new mile appro...</td>\n",
              "      <td>210</td>\n",
              "      <td>chase card customer well decade offered multip...</td>\n",
              "    </tr>\n",
              "    <tr>\n",
              "      <th>21068</th>\n",
              "      <td>wednesday called chas visa credit card provide...</td>\n",
              "      <td>wednesday called chas visa credit card provide...</td>\n",
              "      <td>called asked make purchased three high old tra...</td>\n",
              "      <td>691</td>\n",
              "      <td>wednesday called chas visa credit card provide...</td>\n",
              "    </tr>\n",
              "    <tr>\n",
              "      <th>21069</th>\n",
              "      <td>familiar pay understand great risk provides co...</td>\n",
              "      <td>familiar pay understand great risk provides co...</td>\n",
              "      <td>familiar understand great provides believed sa...</td>\n",
              "      <td>842</td>\n",
              "      <td>familiar pay understand great risk provides co...</td>\n",
              "    </tr>\n",
              "    <tr>\n",
              "      <th>21070</th>\n",
              "      <td>flawless credit yrs ive chase credit cards cha...</td>\n",
              "      <td>flawless credit yr ive chase credit card chase...</td>\n",
              "      <td>yr ive specifically since ever ive done many p...</td>\n",
              "      <td>733</td>\n",
              "      <td>flawless credit yr ive chase credit card chase...</td>\n",
              "    </tr>\n",
              "    <tr>\n",
              "      <th>21071</th>\n",
              "      <td>roughly years ago closed accounts jp morgan ch...</td>\n",
              "      <td>roughly year ago closed account jp morgan chas...</td>\n",
              "      <td>roughly ago closed morgan chase close unsecure...</td>\n",
              "      <td>209</td>\n",
              "      <td>roughly year ago closed account jp morgan chas...</td>\n",
              "    </tr>\n",
              "  </tbody>\n",
              "</table>\n",
              "<p>21072 rows × 5 columns</p>\n",
              "</div>\n",
              "      <button class=\"colab-df-convert\" onclick=\"convertToInteractive('df-ac9b98b2-d1da-4c90-a928-06a85f3d35a8')\"\n",
              "              title=\"Convert this dataframe to an interactive table.\"\n",
              "              style=\"display:none;\">\n",
              "        \n",
              "  <svg xmlns=\"http://www.w3.org/2000/svg\" height=\"24px\"viewBox=\"0 0 24 24\"\n",
              "       width=\"24px\">\n",
              "    <path d=\"M0 0h24v24H0V0z\" fill=\"none\"/>\n",
              "    <path d=\"M18.56 5.44l.94 2.06.94-2.06 2.06-.94-2.06-.94-.94-2.06-.94 2.06-2.06.94zm-11 1L8.5 8.5l.94-2.06 2.06-.94-2.06-.94L8.5 2.5l-.94 2.06-2.06.94zm10 10l.94 2.06.94-2.06 2.06-.94-2.06-.94-.94-2.06-.94 2.06-2.06.94z\"/><path d=\"M17.41 7.96l-1.37-1.37c-.4-.4-.92-.59-1.43-.59-.52 0-1.04.2-1.43.59L10.3 9.45l-7.72 7.72c-.78.78-.78 2.05 0 2.83L4 21.41c.39.39.9.59 1.41.59.51 0 1.02-.2 1.41-.59l7.78-7.78 2.81-2.81c.8-.78.8-2.07 0-2.86zM5.41 20L4 18.59l7.72-7.72 1.47 1.35L5.41 20z\"/>\n",
              "  </svg>\n",
              "      </button>\n",
              "      \n",
              "  <style>\n",
              "    .colab-df-container {\n",
              "      display:flex;\n",
              "      flex-wrap:wrap;\n",
              "      gap: 12px;\n",
              "    }\n",
              "\n",
              "    .colab-df-convert {\n",
              "      background-color: #E8F0FE;\n",
              "      border: none;\n",
              "      border-radius: 50%;\n",
              "      cursor: pointer;\n",
              "      display: none;\n",
              "      fill: #1967D2;\n",
              "      height: 32px;\n",
              "      padding: 0 0 0 0;\n",
              "      width: 32px;\n",
              "    }\n",
              "\n",
              "    .colab-df-convert:hover {\n",
              "      background-color: #E2EBFA;\n",
              "      box-shadow: 0px 1px 2px rgba(60, 64, 67, 0.3), 0px 1px 3px 1px rgba(60, 64, 67, 0.15);\n",
              "      fill: #174EA6;\n",
              "    }\n",
              "\n",
              "    [theme=dark] .colab-df-convert {\n",
              "      background-color: #3B4455;\n",
              "      fill: #D2E3FC;\n",
              "    }\n",
              "\n",
              "    [theme=dark] .colab-df-convert:hover {\n",
              "      background-color: #434B5C;\n",
              "      box-shadow: 0px 1px 3px 1px rgba(0, 0, 0, 0.15);\n",
              "      filter: drop-shadow(0px 1px 2px rgba(0, 0, 0, 0.3));\n",
              "      fill: #FFFFFF;\n",
              "    }\n",
              "  </style>\n",
              "\n",
              "      <script>\n",
              "        const buttonEl =\n",
              "          document.querySelector('#df-ac9b98b2-d1da-4c90-a928-06a85f3d35a8 button.colab-df-convert');\n",
              "        buttonEl.style.display =\n",
              "          google.colab.kernel.accessAllowed ? 'block' : 'none';\n",
              "\n",
              "        async function convertToInteractive(key) {\n",
              "          const element = document.querySelector('#df-ac9b98b2-d1da-4c90-a928-06a85f3d35a8');\n",
              "          const dataTable =\n",
              "            await google.colab.kernel.invokeFunction('convertToInteractive',\n",
              "                                                     [key], {});\n",
              "          if (!dataTable) return;\n",
              "\n",
              "          const docLinkHtml = 'Like what you see? Visit the ' +\n",
              "            '<a target=\"_blank\" href=https://colab.research.google.com/notebooks/data_table.ipynb>data table notebook</a>'\n",
              "            + ' to learn more about interactive tables.';\n",
              "          element.innerHTML = '';\n",
              "          dataTable['output_type'] = 'display_data';\n",
              "          await google.colab.output.renderOutput(dataTable, element);\n",
              "          const docLink = document.createElement('div');\n",
              "          docLink.innerHTML = docLinkHtml;\n",
              "          element.appendChild(docLink);\n",
              "        }\n",
              "      </script>\n",
              "    </div>\n",
              "  </div>\n",
              "  "
            ]
          },
          "metadata": {},
          "execution_count": 30
        }
      ],
      "source": [
        "#All masked texts has been removed\n",
        "df_clean"
      ]
    },
    {
      "cell_type": "markdown",
      "metadata": {
        "id": "k-I0k0QtJrGA"
      },
      "source": [
        "## Feature Extraction\n",
        "Convert the raw texts to a matrix of TF-IDF features\n",
        "\n",
        "**max_df** is used for removing terms that appear too frequently, also known as \"corpus-specific stop words\"\n",
        "max_df = 0.95 means \"ignore terms that appear in more than 95% of the complaints\"\n",
        "\n",
        "**min_df** is used for removing terms that appear too infrequently\n",
        "min_df = 2 means \"ignore terms that appear in less than 2 complaints\""
      ]
    },
    {
      "cell_type": "code",
      "execution_count": null,
      "metadata": {
        "id": "Y8fGwaCPJrGA"
      },
      "outputs": [],
      "source": [
        "#Write your code here to initialise the TfidfVectorizer \n",
        "from sklearn.feature_extraction.text import TfidfVectorizer\n",
        "tfidf = TfidfVectorizer(max_df = 0.95,min_df=2)\n"
      ]
    },
    {
      "cell_type": "markdown",
      "metadata": {
        "id": "yYzD85nTJrGA"
      },
      "source": [
        "#### Create a document term matrix using fit_transform\n",
        "\n",
        "The contents of a document term matrix are tuples of (complaint_id,token_id) tf-idf score:\n",
        "The tuples that are not there have a tf-idf score of 0"
      ]
    },
    {
      "cell_type": "code",
      "execution_count": null,
      "metadata": {
        "id": "ffzdDpp_JrGB"
      },
      "outputs": [],
      "source": [
        "#Write your code here to create the Document Term Matrix by transforming the complaints column present in df_clean.\n",
        "\n",
        "dtm = tfidf.fit_transform(df_clean['Complaint_clean'])"
      ]
    },
    {
      "cell_type": "markdown",
      "metadata": {
        "id": "7Q9lwvNEJrGB"
      },
      "source": [
        "## Topic Modelling using NMF\n",
        "\n",
        "Non-Negative Matrix Factorization (NMF) is an unsupervised technique so there are no labeling of topics that the model will be trained on. The way it works is that, NMF decomposes (or factorizes) high-dimensional vectors into a lower-dimensional representation. These lower-dimensional vectors are non-negative which also means their coefficients are non-negative.\n",
        "\n",
        "In this task you have to perform the following:\n",
        "\n",
        "* Find the best number of clusters \n",
        "* Apply the best number to create word clusters\n",
        "* Inspect & validate the correction of each cluster wrt the complaints \n",
        "* Correct the labels if needed \n",
        "* Map the clusters to topics/cluster names"
      ]
    },
    {
      "cell_type": "code",
      "execution_count": null,
      "metadata": {
        "id": "amLT4omWJrGB"
      },
      "outputs": [],
      "source": [
        "from sklearn.decomposition import NMF"
      ]
    },
    {
      "cell_type": "markdown",
      "metadata": {
        "id": "0wYR1xUTJrGD"
      },
      "source": [
        "## Manual Topic Modeling\n",
        "You need to do take the trial & error approach to find the best num of topics for your NMF model.\n",
        "\n",
        "The only parameter that is required is the number of components i.e. the number of topics we want. This is the most crucial step in the whole topic modeling process and will greatly affect how good your final topics are."
      ]
    },
    {
      "cell_type": "code",
      "execution_count": null,
      "metadata": {
        "id": "sgd2A6bhJrGD"
      },
      "outputs": [],
      "source": [
        "#Load your nmf_model with the n_components i.e 5\n",
        "num_topics = 5\n",
        "\n",
        "#keep the random_state =40\n",
        "nmf_model = NMF(n_components = num_topics,random_state=40)"
      ]
    },
    {
      "cell_type": "code",
      "execution_count": null,
      "metadata": {
        "colab": {
          "base_uri": "https://localhost:8080/"
        },
        "id": "VPMDYbt_JrGE",
        "outputId": "864bbf74-eebd-4979-cb5d-70632ef8f932"
      },
      "outputs": [
        {
          "output_type": "stream",
          "name": "stderr",
          "text": [
            "/usr/local/lib/python3.7/dist-packages/sklearn/decomposition/_nmf.py:294: FutureWarning:\n",
            "\n",
            "The 'init' value, when 'init=None' and n_components is less than n_samples and n_features, will be changed from 'nndsvd' to 'nndsvda' in 1.1 (renaming of 0.26).\n",
            "\n"
          ]
        },
        {
          "output_type": "execute_result",
          "data": {
            "text/plain": [
              "14183"
            ]
          },
          "metadata": {},
          "execution_count": 35
        }
      ],
      "source": [
        "nmf_model.fit(dtm)\n",
        "len(tfidf.get_feature_names_out())"
      ]
    },
    {
      "cell_type": "code",
      "execution_count": null,
      "metadata": {
        "colab": {
          "base_uri": "https://localhost:8080/"
        },
        "id": "16kRfat5JrGE",
        "outputId": "dc30dcbe-ca26-48b6-f27d-ab17fe2c8419"
      },
      "outputs": [
        {
          "output_type": "stream",
          "name": "stdout",
          "text": [
            "For Topic-0 top 15 words:\n",
            "['charge' 'card' 'chase' 'dispute' 'transaction' 'claim' 'fraud'\n",
            " 'merchant' 'called' 'purchase' 'call' 'received' 'told' 'would' 'service']\n",
            "****************************************************************************************************\n",
            "For Topic-1 top 15 words:\n",
            "['credit' 'card' 'report' 'inquiry' 'chase' 'hard' 'account' 'reporting'\n",
            " 'score' 'bureau' 'company' 'removed' 'debt' 'closed' 'limit']\n",
            "****************************************************************************************************\n",
            "For Topic-2 top 15 words:\n",
            "['loan' 'mortgage' 'chase' 'home' 'modification' 'property' 'year'\n",
            " 'foreclosure' 'letter' 'document' 'bank' 'time' 'house' 'sale' 'rate']\n",
            "****************************************************************************************************\n",
            "For Topic-3 top 15 words:\n",
            "['account' 'check' 'bank' 'chase' 'money' 'fund' 'checking' 'closed'\n",
            " 'deposit' 'branch' 'told' 'day' 'would' 'deposited' 'said']\n",
            "****************************************************************************************************\n",
            "For Topic-4 top 15 words:\n",
            "['payment' 'late' 'balance' 'fee' 'interest' 'paid' 'due' 'month' 'pay'\n",
            " 'statement' 'made' 'monthly' 'amount' 'chase' 'make']\n",
            "****************************************************************************************************\n"
          ]
        }
      ],
      "source": [
        "#Print the Top15 words for each of the topics\n",
        "W = nmf_model.transform(dtm)\n",
        "H = nmf_model.components_\n",
        "for i in range(5):\n",
        "  top_15_words = tfidf.get_feature_names_out()[list(np.argsort(H[i])[::-1][:15])]\n",
        "  print('For Topic-'+str(i)+' top 15 words:')\n",
        "  print(top_15_words)\n",
        "  print('*'*100)"
      ]
    },
    {
      "cell_type": "code",
      "execution_count": null,
      "metadata": {
        "id": "0OIT7LmFJrGF"
      },
      "outputs": [],
      "source": [
        "#Create the best topic for each complaint in terms of integer value 0,1,2,3 & 4\n",
        "topic_labels = {0:'Theft/Dispute reporting',1:'Credit card/Prepaid card',2:'Mortgage/loans',3:'Bank account services',4:'Other'}\n"
      ]
    },
    {
      "cell_type": "code",
      "execution_count": null,
      "metadata": {
        "id": "peyYv-ORJrGF"
      },
      "outputs": [],
      "source": [
        "#Assign the best topic to each of the cmplaints in Topic Column\n",
        "\n",
        "df_clean['Topic'] = np.argmax(W,axis=1) #write your code to assign topics to each rows."
      ]
    },
    {
      "cell_type": "code",
      "execution_count": null,
      "metadata": {
        "colab": {
          "base_uri": "https://localhost:8080/",
          "height": 389
        },
        "id": "fLh_Gf3nJrGF",
        "outputId": "a55a1b5f-19d5-4531-d39a-2c0fa99283d7"
      },
      "outputs": [
        {
          "output_type": "execute_result",
          "data": {
            "text/plain": [
              "                                     complaint_clean  \\\n",
              "0  good morning name appreciate could help put st...   \n",
              "1  upgraded card told agent upgrade anniversary d...   \n",
              "2  chase card reported however fraudulent applica...   \n",
              "3  trying book ticket came across offer applied t...   \n",
              "4  grand son give check deposit chase account fun...   \n",
              "\n",
              "                                lemmetized_complaint  \\\n",
              "0  good morning name appreciate could help put st...   \n",
              "1  upgraded card told agent upgrade anniversary d...   \n",
              "2  chase card reported however fraudulent applica...   \n",
              "3  trying book ticket came across offer applied t...   \n",
              "4  grand son give check deposit chase account fun...   \n",
              "\n",
              "                               complaint_POS_removed  complaint_len  \\\n",
              "0  good could help put stop wrote chase asking se...            130   \n",
              "1  upgraded told upgrade anniversary would change...            111   \n",
              "2  reported however fraudulent submitted without ...             90   \n",
              "3  trying came across applied towards applied rew...            511   \n",
              "4  grand give clear closed never paid said need s...            100   \n",
              "\n",
              "                                     Complaint_clean  Topic  \n",
              "0  good morning name appreciate could help put st...      2  \n",
              "1  upgraded card told agent upgrade anniversary d...      0  \n",
              "2  chase card reported however fraudulent applica...      1  \n",
              "3  trying book ticket came across offer applied t...      1  \n",
              "4  grand son give check deposit chase account fun...      3  "
            ],
            "text/html": [
              "\n",
              "  <div id=\"df-d99ed6f9-60e4-4cfd-9e43-258287c2f346\">\n",
              "    <div class=\"colab-df-container\">\n",
              "      <div>\n",
              "<style scoped>\n",
              "    .dataframe tbody tr th:only-of-type {\n",
              "        vertical-align: middle;\n",
              "    }\n",
              "\n",
              "    .dataframe tbody tr th {\n",
              "        vertical-align: top;\n",
              "    }\n",
              "\n",
              "    .dataframe thead th {\n",
              "        text-align: right;\n",
              "    }\n",
              "</style>\n",
              "<table border=\"1\" class=\"dataframe\">\n",
              "  <thead>\n",
              "    <tr style=\"text-align: right;\">\n",
              "      <th></th>\n",
              "      <th>complaint_clean</th>\n",
              "      <th>lemmetized_complaint</th>\n",
              "      <th>complaint_POS_removed</th>\n",
              "      <th>complaint_len</th>\n",
              "      <th>Complaint_clean</th>\n",
              "      <th>Topic</th>\n",
              "    </tr>\n",
              "  </thead>\n",
              "  <tbody>\n",
              "    <tr>\n",
              "      <th>0</th>\n",
              "      <td>good morning name appreciate could help put st...</td>\n",
              "      <td>good morning name appreciate could help put st...</td>\n",
              "      <td>good could help put stop wrote chase asking se...</td>\n",
              "      <td>130</td>\n",
              "      <td>good morning name appreciate could help put st...</td>\n",
              "      <td>2</td>\n",
              "    </tr>\n",
              "    <tr>\n",
              "      <th>1</th>\n",
              "      <td>upgraded card told agent upgrade anniversary d...</td>\n",
              "      <td>upgraded card told agent upgrade anniversary d...</td>\n",
              "      <td>upgraded told upgrade anniversary would change...</td>\n",
              "      <td>111</td>\n",
              "      <td>upgraded card told agent upgrade anniversary d...</td>\n",
              "      <td>0</td>\n",
              "    </tr>\n",
              "    <tr>\n",
              "      <th>2</th>\n",
              "      <td>chase card reported however fraudulent applica...</td>\n",
              "      <td>chase card reported however fraudulent applica...</td>\n",
              "      <td>reported however fraudulent submitted without ...</td>\n",
              "      <td>90</td>\n",
              "      <td>chase card reported however fraudulent applica...</td>\n",
              "      <td>1</td>\n",
              "    </tr>\n",
              "    <tr>\n",
              "      <th>3</th>\n",
              "      <td>trying book ticket came across offer applied t...</td>\n",
              "      <td>trying book ticket came across offer applied t...</td>\n",
              "      <td>trying came across applied towards applied rew...</td>\n",
              "      <td>511</td>\n",
              "      <td>trying book ticket came across offer applied t...</td>\n",
              "      <td>1</td>\n",
              "    </tr>\n",
              "    <tr>\n",
              "      <th>4</th>\n",
              "      <td>grand son give check deposit chase account fun...</td>\n",
              "      <td>grand son give check deposit chase account fun...</td>\n",
              "      <td>grand give clear closed never paid said need s...</td>\n",
              "      <td>100</td>\n",
              "      <td>grand son give check deposit chase account fun...</td>\n",
              "      <td>3</td>\n",
              "    </tr>\n",
              "  </tbody>\n",
              "</table>\n",
              "</div>\n",
              "      <button class=\"colab-df-convert\" onclick=\"convertToInteractive('df-d99ed6f9-60e4-4cfd-9e43-258287c2f346')\"\n",
              "              title=\"Convert this dataframe to an interactive table.\"\n",
              "              style=\"display:none;\">\n",
              "        \n",
              "  <svg xmlns=\"http://www.w3.org/2000/svg\" height=\"24px\"viewBox=\"0 0 24 24\"\n",
              "       width=\"24px\">\n",
              "    <path d=\"M0 0h24v24H0V0z\" fill=\"none\"/>\n",
              "    <path d=\"M18.56 5.44l.94 2.06.94-2.06 2.06-.94-2.06-.94-.94-2.06-.94 2.06-2.06.94zm-11 1L8.5 8.5l.94-2.06 2.06-.94-2.06-.94L8.5 2.5l-.94 2.06-2.06.94zm10 10l.94 2.06.94-2.06 2.06-.94-2.06-.94-.94-2.06-.94 2.06-2.06.94z\"/><path d=\"M17.41 7.96l-1.37-1.37c-.4-.4-.92-.59-1.43-.59-.52 0-1.04.2-1.43.59L10.3 9.45l-7.72 7.72c-.78.78-.78 2.05 0 2.83L4 21.41c.39.39.9.59 1.41.59.51 0 1.02-.2 1.41-.59l7.78-7.78 2.81-2.81c.8-.78.8-2.07 0-2.86zM5.41 20L4 18.59l7.72-7.72 1.47 1.35L5.41 20z\"/>\n",
              "  </svg>\n",
              "      </button>\n",
              "      \n",
              "  <style>\n",
              "    .colab-df-container {\n",
              "      display:flex;\n",
              "      flex-wrap:wrap;\n",
              "      gap: 12px;\n",
              "    }\n",
              "\n",
              "    .colab-df-convert {\n",
              "      background-color: #E8F0FE;\n",
              "      border: none;\n",
              "      border-radius: 50%;\n",
              "      cursor: pointer;\n",
              "      display: none;\n",
              "      fill: #1967D2;\n",
              "      height: 32px;\n",
              "      padding: 0 0 0 0;\n",
              "      width: 32px;\n",
              "    }\n",
              "\n",
              "    .colab-df-convert:hover {\n",
              "      background-color: #E2EBFA;\n",
              "      box-shadow: 0px 1px 2px rgba(60, 64, 67, 0.3), 0px 1px 3px 1px rgba(60, 64, 67, 0.15);\n",
              "      fill: #174EA6;\n",
              "    }\n",
              "\n",
              "    [theme=dark] .colab-df-convert {\n",
              "      background-color: #3B4455;\n",
              "      fill: #D2E3FC;\n",
              "    }\n",
              "\n",
              "    [theme=dark] .colab-df-convert:hover {\n",
              "      background-color: #434B5C;\n",
              "      box-shadow: 0px 1px 3px 1px rgba(0, 0, 0, 0.15);\n",
              "      filter: drop-shadow(0px 1px 2px rgba(0, 0, 0, 0.3));\n",
              "      fill: #FFFFFF;\n",
              "    }\n",
              "  </style>\n",
              "\n",
              "      <script>\n",
              "        const buttonEl =\n",
              "          document.querySelector('#df-d99ed6f9-60e4-4cfd-9e43-258287c2f346 button.colab-df-convert');\n",
              "        buttonEl.style.display =\n",
              "          google.colab.kernel.accessAllowed ? 'block' : 'none';\n",
              "\n",
              "        async function convertToInteractive(key) {\n",
              "          const element = document.querySelector('#df-d99ed6f9-60e4-4cfd-9e43-258287c2f346');\n",
              "          const dataTable =\n",
              "            await google.colab.kernel.invokeFunction('convertToInteractive',\n",
              "                                                     [key], {});\n",
              "          if (!dataTable) return;\n",
              "\n",
              "          const docLinkHtml = 'Like what you see? Visit the ' +\n",
              "            '<a target=\"_blank\" href=https://colab.research.google.com/notebooks/data_table.ipynb>data table notebook</a>'\n",
              "            + ' to learn more about interactive tables.';\n",
              "          element.innerHTML = '';\n",
              "          dataTable['output_type'] = 'display_data';\n",
              "          await google.colab.output.renderOutput(dataTable, element);\n",
              "          const docLink = document.createElement('div');\n",
              "          docLink.innerHTML = docLinkHtml;\n",
              "          element.appendChild(docLink);\n",
              "        }\n",
              "      </script>\n",
              "    </div>\n",
              "  </div>\n",
              "  "
            ]
          },
          "metadata": {},
          "execution_count": 39
        }
      ],
      "source": [
        "df_clean.head()"
      ]
    },
    {
      "cell_type": "code",
      "execution_count": null,
      "metadata": {
        "colab": {
          "base_uri": "https://localhost:8080/",
          "height": 833
        },
        "id": "aQKpufSPJrGG",
        "outputId": "ac14df96-2003-4eb7-8b59-2e396aeef7e5"
      },
      "outputs": [
        {
          "output_type": "execute_result",
          "data": {
            "text/plain": [
              "                                      complaint_clean  Topic\n",
              "1   upgraded card told agent upgrade anniversary d...      0\n",
              "8   made payment online retailer using chase quick...      0\n",
              "19  made purchase amount charged twice transaction...      0\n",
              "16  sofa love seat table chairs never delivered de...      0\n",
              "14  chase amazon card declined catering order plac...      0\n",
              "2   chase card reported however fraudulent applica...      1\n",
              "3   trying book ticket came across offer applied t...      1\n",
              "5                               please remove inquiry      1\n",
              "9   chase credit card incorrectly reporting data c...      1\n",
              "11  reached several times attempt fraudulent inqui...      1\n",
              "0   good morning name appreciate could help put st...      2\n",
              "30  wired one chase branches exact reinstatement a...      2\n",
              "23  trying loan modification chase give runaround ...      2\n",
              "7   summer months experience decline income due em...      2\n",
              "18  chase sent email today innocuous title importa...      2\n",
              "12  opened account chase bank used code bonus call...      3\n",
              "10                     mishandling account chase auto      3\n",
              "6   notice jp morgan chase restricted account debi...      3\n",
              "4   grand son give check deposit chase account fun...      3\n",
              "15  opened saving account bonus supposed received ...      3\n",
              "13  may concern chase bank charged wrongly overdra...      4\n",
              "57  action taken company dates individual group in...      4\n",
              "24  made purchase made payments minimum payment cl...      4\n",
              "33  recently called ask chase bank reported credit...      4\n",
              "73  double payment chase debt cart chase credit ca...      4"
            ],
            "text/html": [
              "\n",
              "  <div id=\"df-438422e0-8a54-4b49-8b34-8edbeec35cba\">\n",
              "    <div class=\"colab-df-container\">\n",
              "      <div>\n",
              "<style scoped>\n",
              "    .dataframe tbody tr th:only-of-type {\n",
              "        vertical-align: middle;\n",
              "    }\n",
              "\n",
              "    .dataframe tbody tr th {\n",
              "        vertical-align: top;\n",
              "    }\n",
              "\n",
              "    .dataframe thead th {\n",
              "        text-align: right;\n",
              "    }\n",
              "</style>\n",
              "<table border=\"1\" class=\"dataframe\">\n",
              "  <thead>\n",
              "    <tr style=\"text-align: right;\">\n",
              "      <th></th>\n",
              "      <th>complaint_clean</th>\n",
              "      <th>Topic</th>\n",
              "    </tr>\n",
              "  </thead>\n",
              "  <tbody>\n",
              "    <tr>\n",
              "      <th>1</th>\n",
              "      <td>upgraded card told agent upgrade anniversary d...</td>\n",
              "      <td>0</td>\n",
              "    </tr>\n",
              "    <tr>\n",
              "      <th>8</th>\n",
              "      <td>made payment online retailer using chase quick...</td>\n",
              "      <td>0</td>\n",
              "    </tr>\n",
              "    <tr>\n",
              "      <th>19</th>\n",
              "      <td>made purchase amount charged twice transaction...</td>\n",
              "      <td>0</td>\n",
              "    </tr>\n",
              "    <tr>\n",
              "      <th>16</th>\n",
              "      <td>sofa love seat table chairs never delivered de...</td>\n",
              "      <td>0</td>\n",
              "    </tr>\n",
              "    <tr>\n",
              "      <th>14</th>\n",
              "      <td>chase amazon card declined catering order plac...</td>\n",
              "      <td>0</td>\n",
              "    </tr>\n",
              "    <tr>\n",
              "      <th>2</th>\n",
              "      <td>chase card reported however fraudulent applica...</td>\n",
              "      <td>1</td>\n",
              "    </tr>\n",
              "    <tr>\n",
              "      <th>3</th>\n",
              "      <td>trying book ticket came across offer applied t...</td>\n",
              "      <td>1</td>\n",
              "    </tr>\n",
              "    <tr>\n",
              "      <th>5</th>\n",
              "      <td>please remove inquiry</td>\n",
              "      <td>1</td>\n",
              "    </tr>\n",
              "    <tr>\n",
              "      <th>9</th>\n",
              "      <td>chase credit card incorrectly reporting data c...</td>\n",
              "      <td>1</td>\n",
              "    </tr>\n",
              "    <tr>\n",
              "      <th>11</th>\n",
              "      <td>reached several times attempt fraudulent inqui...</td>\n",
              "      <td>1</td>\n",
              "    </tr>\n",
              "    <tr>\n",
              "      <th>0</th>\n",
              "      <td>good morning name appreciate could help put st...</td>\n",
              "      <td>2</td>\n",
              "    </tr>\n",
              "    <tr>\n",
              "      <th>30</th>\n",
              "      <td>wired one chase branches exact reinstatement a...</td>\n",
              "      <td>2</td>\n",
              "    </tr>\n",
              "    <tr>\n",
              "      <th>23</th>\n",
              "      <td>trying loan modification chase give runaround ...</td>\n",
              "      <td>2</td>\n",
              "    </tr>\n",
              "    <tr>\n",
              "      <th>7</th>\n",
              "      <td>summer months experience decline income due em...</td>\n",
              "      <td>2</td>\n",
              "    </tr>\n",
              "    <tr>\n",
              "      <th>18</th>\n",
              "      <td>chase sent email today innocuous title importa...</td>\n",
              "      <td>2</td>\n",
              "    </tr>\n",
              "    <tr>\n",
              "      <th>12</th>\n",
              "      <td>opened account chase bank used code bonus call...</td>\n",
              "      <td>3</td>\n",
              "    </tr>\n",
              "    <tr>\n",
              "      <th>10</th>\n",
              "      <td>mishandling account chase auto</td>\n",
              "      <td>3</td>\n",
              "    </tr>\n",
              "    <tr>\n",
              "      <th>6</th>\n",
              "      <td>notice jp morgan chase restricted account debi...</td>\n",
              "      <td>3</td>\n",
              "    </tr>\n",
              "    <tr>\n",
              "      <th>4</th>\n",
              "      <td>grand son give check deposit chase account fun...</td>\n",
              "      <td>3</td>\n",
              "    </tr>\n",
              "    <tr>\n",
              "      <th>15</th>\n",
              "      <td>opened saving account bonus supposed received ...</td>\n",
              "      <td>3</td>\n",
              "    </tr>\n",
              "    <tr>\n",
              "      <th>13</th>\n",
              "      <td>may concern chase bank charged wrongly overdra...</td>\n",
              "      <td>4</td>\n",
              "    </tr>\n",
              "    <tr>\n",
              "      <th>57</th>\n",
              "      <td>action taken company dates individual group in...</td>\n",
              "      <td>4</td>\n",
              "    </tr>\n",
              "    <tr>\n",
              "      <th>24</th>\n",
              "      <td>made purchase made payments minimum payment cl...</td>\n",
              "      <td>4</td>\n",
              "    </tr>\n",
              "    <tr>\n",
              "      <th>33</th>\n",
              "      <td>recently called ask chase bank reported credit...</td>\n",
              "      <td>4</td>\n",
              "    </tr>\n",
              "    <tr>\n",
              "      <th>73</th>\n",
              "      <td>double payment chase debt cart chase credit ca...</td>\n",
              "      <td>4</td>\n",
              "    </tr>\n",
              "  </tbody>\n",
              "</table>\n",
              "</div>\n",
              "      <button class=\"colab-df-convert\" onclick=\"convertToInteractive('df-438422e0-8a54-4b49-8b34-8edbeec35cba')\"\n",
              "              title=\"Convert this dataframe to an interactive table.\"\n",
              "              style=\"display:none;\">\n",
              "        \n",
              "  <svg xmlns=\"http://www.w3.org/2000/svg\" height=\"24px\"viewBox=\"0 0 24 24\"\n",
              "       width=\"24px\">\n",
              "    <path d=\"M0 0h24v24H0V0z\" fill=\"none\"/>\n",
              "    <path d=\"M18.56 5.44l.94 2.06.94-2.06 2.06-.94-2.06-.94-.94-2.06-.94 2.06-2.06.94zm-11 1L8.5 8.5l.94-2.06 2.06-.94-2.06-.94L8.5 2.5l-.94 2.06-2.06.94zm10 10l.94 2.06.94-2.06 2.06-.94-2.06-.94-.94-2.06-.94 2.06-2.06.94z\"/><path d=\"M17.41 7.96l-1.37-1.37c-.4-.4-.92-.59-1.43-.59-.52 0-1.04.2-1.43.59L10.3 9.45l-7.72 7.72c-.78.78-.78 2.05 0 2.83L4 21.41c.39.39.9.59 1.41.59.51 0 1.02-.2 1.41-.59l7.78-7.78 2.81-2.81c.8-.78.8-2.07 0-2.86zM5.41 20L4 18.59l7.72-7.72 1.47 1.35L5.41 20z\"/>\n",
              "  </svg>\n",
              "      </button>\n",
              "      \n",
              "  <style>\n",
              "    .colab-df-container {\n",
              "      display:flex;\n",
              "      flex-wrap:wrap;\n",
              "      gap: 12px;\n",
              "    }\n",
              "\n",
              "    .colab-df-convert {\n",
              "      background-color: #E8F0FE;\n",
              "      border: none;\n",
              "      border-radius: 50%;\n",
              "      cursor: pointer;\n",
              "      display: none;\n",
              "      fill: #1967D2;\n",
              "      height: 32px;\n",
              "      padding: 0 0 0 0;\n",
              "      width: 32px;\n",
              "    }\n",
              "\n",
              "    .colab-df-convert:hover {\n",
              "      background-color: #E2EBFA;\n",
              "      box-shadow: 0px 1px 2px rgba(60, 64, 67, 0.3), 0px 1px 3px 1px rgba(60, 64, 67, 0.15);\n",
              "      fill: #174EA6;\n",
              "    }\n",
              "\n",
              "    [theme=dark] .colab-df-convert {\n",
              "      background-color: #3B4455;\n",
              "      fill: #D2E3FC;\n",
              "    }\n",
              "\n",
              "    [theme=dark] .colab-df-convert:hover {\n",
              "      background-color: #434B5C;\n",
              "      box-shadow: 0px 1px 3px 1px rgba(0, 0, 0, 0.15);\n",
              "      filter: drop-shadow(0px 1px 2px rgba(0, 0, 0, 0.3));\n",
              "      fill: #FFFFFF;\n",
              "    }\n",
              "  </style>\n",
              "\n",
              "      <script>\n",
              "        const buttonEl =\n",
              "          document.querySelector('#df-438422e0-8a54-4b49-8b34-8edbeec35cba button.colab-df-convert');\n",
              "        buttonEl.style.display =\n",
              "          google.colab.kernel.accessAllowed ? 'block' : 'none';\n",
              "\n",
              "        async function convertToInteractive(key) {\n",
              "          const element = document.querySelector('#df-438422e0-8a54-4b49-8b34-8edbeec35cba');\n",
              "          const dataTable =\n",
              "            await google.colab.kernel.invokeFunction('convertToInteractive',\n",
              "                                                     [key], {});\n",
              "          if (!dataTable) return;\n",
              "\n",
              "          const docLinkHtml = 'Like what you see? Visit the ' +\n",
              "            '<a target=\"_blank\" href=https://colab.research.google.com/notebooks/data_table.ipynb>data table notebook</a>'\n",
              "            + ' to learn more about interactive tables.';\n",
              "          element.innerHTML = '';\n",
              "          dataTable['output_type'] = 'display_data';\n",
              "          await google.colab.output.renderOutput(dataTable, element);\n",
              "          const docLink = document.createElement('div');\n",
              "          docLink.innerHTML = docLinkHtml;\n",
              "          element.appendChild(docLink);\n",
              "        }\n",
              "      </script>\n",
              "    </div>\n",
              "  </div>\n",
              "  "
            ]
          },
          "metadata": {},
          "execution_count": 40
        }
      ],
      "source": [
        "#Print the first 5 Complaint for each of the Topics\n",
        "df_clean_new=df_clean.groupby('Topic').head(5)\n",
        "df_clean_new.sort_values('Topic')[['complaint_clean','Topic']]"
      ]
    },
    {
      "cell_type": "markdown",
      "metadata": {
        "id": "piyLxzj6v07j"
      },
      "source": [
        "#### After evaluating the mapping, if the topics assigned are correct then assign these names to the relevant topic:\n",
        "* Bank Account services\n",
        "* Credit card or prepaid card\n",
        "* Theft/Dispute Reporting\n",
        "* Mortgage/Loan\n",
        "* Others"
      ]
    },
    {
      "cell_type": "code",
      "execution_count": null,
      "metadata": {
        "id": "TWpwDG4RJrGG"
      },
      "outputs": [],
      "source": [
        "#Create the dictionary of Topic names and Topics\n",
        "\n",
        "Topic_names = {0:'Theft/Dispute reporting',1:'Credit card/Prepaid card',2:'Mortgage/loans',3:'Bank account services',4:'Other'}\n",
        "Topic_names_ind = {'Theft/Dispute reporting':0,'Credit card/Prepaid card':1,'Mortgage/loans':2,'Bank account services':3,'Other':4}\n",
        "#Replace Topics with Topic Names\n",
        "df_clean['Topic'] = df_clean['Topic'].map(Topic_names)"
      ]
    },
    {
      "cell_type": "code",
      "execution_count": null,
      "metadata": {
        "colab": {
          "base_uri": "https://localhost:8080/",
          "height": 815
        },
        "id": "-2ULY5K6JrGG",
        "outputId": "73f758a0-ecb1-4172-80af-ff647dbf879a"
      },
      "outputs": [
        {
          "output_type": "execute_result",
          "data": {
            "text/plain": [
              "                                         complaint_clean  \\\n",
              "0      good morning name appreciate could help put st...   \n",
              "1      upgraded card told agent upgrade anniversary d...   \n",
              "2      chase card reported however fraudulent applica...   \n",
              "3      trying book ticket came across offer applied t...   \n",
              "4      grand son give check deposit chase account fun...   \n",
              "...                                                  ...   \n",
              "21067  chase card customer well decade offered multip...   \n",
              "21068  wednesday called chas visa credit card provide...   \n",
              "21069  familiar pay understand great risk provides co...   \n",
              "21070  flawless credit yrs ive chase credit cards cha...   \n",
              "21071  roughly years ago closed accounts jp morgan ch...   \n",
              "\n",
              "                                    lemmetized_complaint  \\\n",
              "0      good morning name appreciate could help put st...   \n",
              "1      upgraded card told agent upgrade anniversary d...   \n",
              "2      chase card reported however fraudulent applica...   \n",
              "3      trying book ticket came across offer applied t...   \n",
              "4      grand son give check deposit chase account fun...   \n",
              "...                                                  ...   \n",
              "21067  chase card customer well decade offered multip...   \n",
              "21068  wednesday called chas visa credit card provide...   \n",
              "21069  familiar pay understand great risk provides co...   \n",
              "21070  flawless credit yr ive chase credit card chase...   \n",
              "21071  roughly year ago closed account jp morgan chas...   \n",
              "\n",
              "                                   complaint_POS_removed  complaint_len  \\\n",
              "0      good could help put stop wrote chase asking se...            130   \n",
              "1      upgraded told upgrade anniversary would change...            111   \n",
              "2      reported however fraudulent submitted without ...             90   \n",
              "3      trying came across applied towards applied rew...            511   \n",
              "4      grand give clear closed never paid said need s...            100   \n",
              "...                                                  ...            ...   \n",
              "21067  well offered multiple acquiring new mile appro...            210   \n",
              "21068  called asked make purchased three high old tra...            691   \n",
              "21069  familiar understand great provides believed sa...            842   \n",
              "21070  yr ive specifically since ever ive done many p...            733   \n",
              "21071  roughly ago closed morgan chase close unsecure...            209   \n",
              "\n",
              "                                         Complaint_clean  \\\n",
              "0      good morning name appreciate could help put st...   \n",
              "1      upgraded card told agent upgrade anniversary d...   \n",
              "2      chase card reported however fraudulent applica...   \n",
              "3      trying book ticket came across offer applied t...   \n",
              "4      grand son give check deposit chase account fun...   \n",
              "...                                                  ...   \n",
              "21067  chase card customer well decade offered multip...   \n",
              "21068  wednesday called chas visa credit card provide...   \n",
              "21069  familiar pay understand great risk provides co...   \n",
              "21070  flawless credit yr ive chase credit card chase...   \n",
              "21071  roughly year ago closed account jp morgan chas...   \n",
              "\n",
              "                          Topic  \n",
              "0                Mortgage/loans  \n",
              "1       Theft/Dispute reporting  \n",
              "2      Credit card/Prepaid card  \n",
              "3      Credit card/Prepaid card  \n",
              "4         Bank account services  \n",
              "...                         ...  \n",
              "21067  Credit card/Prepaid card  \n",
              "21068   Theft/Dispute reporting  \n",
              "21069   Theft/Dispute reporting  \n",
              "21070                     Other  \n",
              "21071                     Other  \n",
              "\n",
              "[21072 rows x 6 columns]"
            ],
            "text/html": [
              "\n",
              "  <div id=\"df-6103334e-110f-4e72-b73b-ab48cb975038\">\n",
              "    <div class=\"colab-df-container\">\n",
              "      <div>\n",
              "<style scoped>\n",
              "    .dataframe tbody tr th:only-of-type {\n",
              "        vertical-align: middle;\n",
              "    }\n",
              "\n",
              "    .dataframe tbody tr th {\n",
              "        vertical-align: top;\n",
              "    }\n",
              "\n",
              "    .dataframe thead th {\n",
              "        text-align: right;\n",
              "    }\n",
              "</style>\n",
              "<table border=\"1\" class=\"dataframe\">\n",
              "  <thead>\n",
              "    <tr style=\"text-align: right;\">\n",
              "      <th></th>\n",
              "      <th>complaint_clean</th>\n",
              "      <th>lemmetized_complaint</th>\n",
              "      <th>complaint_POS_removed</th>\n",
              "      <th>complaint_len</th>\n",
              "      <th>Complaint_clean</th>\n",
              "      <th>Topic</th>\n",
              "    </tr>\n",
              "  </thead>\n",
              "  <tbody>\n",
              "    <tr>\n",
              "      <th>0</th>\n",
              "      <td>good morning name appreciate could help put st...</td>\n",
              "      <td>good morning name appreciate could help put st...</td>\n",
              "      <td>good could help put stop wrote chase asking se...</td>\n",
              "      <td>130</td>\n",
              "      <td>good morning name appreciate could help put st...</td>\n",
              "      <td>Mortgage/loans</td>\n",
              "    </tr>\n",
              "    <tr>\n",
              "      <th>1</th>\n",
              "      <td>upgraded card told agent upgrade anniversary d...</td>\n",
              "      <td>upgraded card told agent upgrade anniversary d...</td>\n",
              "      <td>upgraded told upgrade anniversary would change...</td>\n",
              "      <td>111</td>\n",
              "      <td>upgraded card told agent upgrade anniversary d...</td>\n",
              "      <td>Theft/Dispute reporting</td>\n",
              "    </tr>\n",
              "    <tr>\n",
              "      <th>2</th>\n",
              "      <td>chase card reported however fraudulent applica...</td>\n",
              "      <td>chase card reported however fraudulent applica...</td>\n",
              "      <td>reported however fraudulent submitted without ...</td>\n",
              "      <td>90</td>\n",
              "      <td>chase card reported however fraudulent applica...</td>\n",
              "      <td>Credit card/Prepaid card</td>\n",
              "    </tr>\n",
              "    <tr>\n",
              "      <th>3</th>\n",
              "      <td>trying book ticket came across offer applied t...</td>\n",
              "      <td>trying book ticket came across offer applied t...</td>\n",
              "      <td>trying came across applied towards applied rew...</td>\n",
              "      <td>511</td>\n",
              "      <td>trying book ticket came across offer applied t...</td>\n",
              "      <td>Credit card/Prepaid card</td>\n",
              "    </tr>\n",
              "    <tr>\n",
              "      <th>4</th>\n",
              "      <td>grand son give check deposit chase account fun...</td>\n",
              "      <td>grand son give check deposit chase account fun...</td>\n",
              "      <td>grand give clear closed never paid said need s...</td>\n",
              "      <td>100</td>\n",
              "      <td>grand son give check deposit chase account fun...</td>\n",
              "      <td>Bank account services</td>\n",
              "    </tr>\n",
              "    <tr>\n",
              "      <th>...</th>\n",
              "      <td>...</td>\n",
              "      <td>...</td>\n",
              "      <td>...</td>\n",
              "      <td>...</td>\n",
              "      <td>...</td>\n",
              "      <td>...</td>\n",
              "    </tr>\n",
              "    <tr>\n",
              "      <th>21067</th>\n",
              "      <td>chase card customer well decade offered multip...</td>\n",
              "      <td>chase card customer well decade offered multip...</td>\n",
              "      <td>well offered multiple acquiring new mile appro...</td>\n",
              "      <td>210</td>\n",
              "      <td>chase card customer well decade offered multip...</td>\n",
              "      <td>Credit card/Prepaid card</td>\n",
              "    </tr>\n",
              "    <tr>\n",
              "      <th>21068</th>\n",
              "      <td>wednesday called chas visa credit card provide...</td>\n",
              "      <td>wednesday called chas visa credit card provide...</td>\n",
              "      <td>called asked make purchased three high old tra...</td>\n",
              "      <td>691</td>\n",
              "      <td>wednesday called chas visa credit card provide...</td>\n",
              "      <td>Theft/Dispute reporting</td>\n",
              "    </tr>\n",
              "    <tr>\n",
              "      <th>21069</th>\n",
              "      <td>familiar pay understand great risk provides co...</td>\n",
              "      <td>familiar pay understand great risk provides co...</td>\n",
              "      <td>familiar understand great provides believed sa...</td>\n",
              "      <td>842</td>\n",
              "      <td>familiar pay understand great risk provides co...</td>\n",
              "      <td>Theft/Dispute reporting</td>\n",
              "    </tr>\n",
              "    <tr>\n",
              "      <th>21070</th>\n",
              "      <td>flawless credit yrs ive chase credit cards cha...</td>\n",
              "      <td>flawless credit yr ive chase credit card chase...</td>\n",
              "      <td>yr ive specifically since ever ive done many p...</td>\n",
              "      <td>733</td>\n",
              "      <td>flawless credit yr ive chase credit card chase...</td>\n",
              "      <td>Other</td>\n",
              "    </tr>\n",
              "    <tr>\n",
              "      <th>21071</th>\n",
              "      <td>roughly years ago closed accounts jp morgan ch...</td>\n",
              "      <td>roughly year ago closed account jp morgan chas...</td>\n",
              "      <td>roughly ago closed morgan chase close unsecure...</td>\n",
              "      <td>209</td>\n",
              "      <td>roughly year ago closed account jp morgan chas...</td>\n",
              "      <td>Other</td>\n",
              "    </tr>\n",
              "  </tbody>\n",
              "</table>\n",
              "<p>21072 rows × 6 columns</p>\n",
              "</div>\n",
              "      <button class=\"colab-df-convert\" onclick=\"convertToInteractive('df-6103334e-110f-4e72-b73b-ab48cb975038')\"\n",
              "              title=\"Convert this dataframe to an interactive table.\"\n",
              "              style=\"display:none;\">\n",
              "        \n",
              "  <svg xmlns=\"http://www.w3.org/2000/svg\" height=\"24px\"viewBox=\"0 0 24 24\"\n",
              "       width=\"24px\">\n",
              "    <path d=\"M0 0h24v24H0V0z\" fill=\"none\"/>\n",
              "    <path d=\"M18.56 5.44l.94 2.06.94-2.06 2.06-.94-2.06-.94-.94-2.06-.94 2.06-2.06.94zm-11 1L8.5 8.5l.94-2.06 2.06-.94-2.06-.94L8.5 2.5l-.94 2.06-2.06.94zm10 10l.94 2.06.94-2.06 2.06-.94-2.06-.94-.94-2.06-.94 2.06-2.06.94z\"/><path d=\"M17.41 7.96l-1.37-1.37c-.4-.4-.92-.59-1.43-.59-.52 0-1.04.2-1.43.59L10.3 9.45l-7.72 7.72c-.78.78-.78 2.05 0 2.83L4 21.41c.39.39.9.59 1.41.59.51 0 1.02-.2 1.41-.59l7.78-7.78 2.81-2.81c.8-.78.8-2.07 0-2.86zM5.41 20L4 18.59l7.72-7.72 1.47 1.35L5.41 20z\"/>\n",
              "  </svg>\n",
              "      </button>\n",
              "      \n",
              "  <style>\n",
              "    .colab-df-container {\n",
              "      display:flex;\n",
              "      flex-wrap:wrap;\n",
              "      gap: 12px;\n",
              "    }\n",
              "\n",
              "    .colab-df-convert {\n",
              "      background-color: #E8F0FE;\n",
              "      border: none;\n",
              "      border-radius: 50%;\n",
              "      cursor: pointer;\n",
              "      display: none;\n",
              "      fill: #1967D2;\n",
              "      height: 32px;\n",
              "      padding: 0 0 0 0;\n",
              "      width: 32px;\n",
              "    }\n",
              "\n",
              "    .colab-df-convert:hover {\n",
              "      background-color: #E2EBFA;\n",
              "      box-shadow: 0px 1px 2px rgba(60, 64, 67, 0.3), 0px 1px 3px 1px rgba(60, 64, 67, 0.15);\n",
              "      fill: #174EA6;\n",
              "    }\n",
              "\n",
              "    [theme=dark] .colab-df-convert {\n",
              "      background-color: #3B4455;\n",
              "      fill: #D2E3FC;\n",
              "    }\n",
              "\n",
              "    [theme=dark] .colab-df-convert:hover {\n",
              "      background-color: #434B5C;\n",
              "      box-shadow: 0px 1px 3px 1px rgba(0, 0, 0, 0.15);\n",
              "      filter: drop-shadow(0px 1px 2px rgba(0, 0, 0, 0.3));\n",
              "      fill: #FFFFFF;\n",
              "    }\n",
              "  </style>\n",
              "\n",
              "      <script>\n",
              "        const buttonEl =\n",
              "          document.querySelector('#df-6103334e-110f-4e72-b73b-ab48cb975038 button.colab-df-convert');\n",
              "        buttonEl.style.display =\n",
              "          google.colab.kernel.accessAllowed ? 'block' : 'none';\n",
              "\n",
              "        async function convertToInteractive(key) {\n",
              "          const element = document.querySelector('#df-6103334e-110f-4e72-b73b-ab48cb975038');\n",
              "          const dataTable =\n",
              "            await google.colab.kernel.invokeFunction('convertToInteractive',\n",
              "                                                     [key], {});\n",
              "          if (!dataTable) return;\n",
              "\n",
              "          const docLinkHtml = 'Like what you see? Visit the ' +\n",
              "            '<a target=\"_blank\" href=https://colab.research.google.com/notebooks/data_table.ipynb>data table notebook</a>'\n",
              "            + ' to learn more about interactive tables.';\n",
              "          element.innerHTML = '';\n",
              "          dataTable['output_type'] = 'display_data';\n",
              "          await google.colab.output.renderOutput(dataTable, element);\n",
              "          const docLink = document.createElement('div');\n",
              "          docLink.innerHTML = docLinkHtml;\n",
              "          element.appendChild(docLink);\n",
              "        }\n",
              "      </script>\n",
              "    </div>\n",
              "  </div>\n",
              "  "
            ]
          },
          "metadata": {},
          "execution_count": 42
        }
      ],
      "source": [
        "df_clean"
      ]
    },
    {
      "cell_type": "markdown",
      "metadata": {
        "id": "7Mu0QBOcJrGH"
      },
      "source": [
        "## Supervised model to predict any new complaints to the relevant Topics.\n",
        "\n",
        "You have now build the model to create the topics for each complaints.Now in the below section you will use them to classify any new complaints.\n",
        "\n",
        "Since you will be using supervised learning technique we have to convert the topic names to numbers(numpy arrays only understand numbers)"
      ]
    },
    {
      "cell_type": "code",
      "execution_count": null,
      "metadata": {
        "id": "_U8J3J8wJrGH"
      },
      "outputs": [],
      "source": [
        "#Replace Topic names with Topic indexes\n",
        "df_clean['Topic'] = df_clean['Topic'].map(Topic_names_ind)"
      ]
    },
    {
      "cell_type": "code",
      "execution_count": null,
      "metadata": {
        "colab": {
          "base_uri": "https://localhost:8080/",
          "height": 745
        },
        "id": "BWIgJUkQJrGH",
        "outputId": "0099fb76-8ce4-40a6-9311-c1153f2f122e"
      },
      "outputs": [
        {
          "output_type": "execute_result",
          "data": {
            "text/plain": [
              "                                         complaint_clean  \\\n",
              "0      good morning name appreciate could help put st...   \n",
              "1      upgraded card told agent upgrade anniversary d...   \n",
              "2      chase card reported however fraudulent applica...   \n",
              "3      trying book ticket came across offer applied t...   \n",
              "4      grand son give check deposit chase account fun...   \n",
              "...                                                  ...   \n",
              "21067  chase card customer well decade offered multip...   \n",
              "21068  wednesday called chas visa credit card provide...   \n",
              "21069  familiar pay understand great risk provides co...   \n",
              "21070  flawless credit yrs ive chase credit cards cha...   \n",
              "21071  roughly years ago closed accounts jp morgan ch...   \n",
              "\n",
              "                                    lemmetized_complaint  \\\n",
              "0      good morning name appreciate could help put st...   \n",
              "1      upgraded card told agent upgrade anniversary d...   \n",
              "2      chase card reported however fraudulent applica...   \n",
              "3      trying book ticket came across offer applied t...   \n",
              "4      grand son give check deposit chase account fun...   \n",
              "...                                                  ...   \n",
              "21067  chase card customer well decade offered multip...   \n",
              "21068  wednesday called chas visa credit card provide...   \n",
              "21069  familiar pay understand great risk provides co...   \n",
              "21070  flawless credit yr ive chase credit card chase...   \n",
              "21071  roughly year ago closed account jp morgan chas...   \n",
              "\n",
              "                                   complaint_POS_removed  complaint_len  \\\n",
              "0      good could help put stop wrote chase asking se...            130   \n",
              "1      upgraded told upgrade anniversary would change...            111   \n",
              "2      reported however fraudulent submitted without ...             90   \n",
              "3      trying came across applied towards applied rew...            511   \n",
              "4      grand give clear closed never paid said need s...            100   \n",
              "...                                                  ...            ...   \n",
              "21067  well offered multiple acquiring new mile appro...            210   \n",
              "21068  called asked make purchased three high old tra...            691   \n",
              "21069  familiar understand great provides believed sa...            842   \n",
              "21070  yr ive specifically since ever ive done many p...            733   \n",
              "21071  roughly ago closed morgan chase close unsecure...            209   \n",
              "\n",
              "                                         Complaint_clean  Topic  \n",
              "0      good morning name appreciate could help put st...      2  \n",
              "1      upgraded card told agent upgrade anniversary d...      0  \n",
              "2      chase card reported however fraudulent applica...      1  \n",
              "3      trying book ticket came across offer applied t...      1  \n",
              "4      grand son give check deposit chase account fun...      3  \n",
              "...                                                  ...    ...  \n",
              "21067  chase card customer well decade offered multip...      1  \n",
              "21068  wednesday called chas visa credit card provide...      0  \n",
              "21069  familiar pay understand great risk provides co...      0  \n",
              "21070  flawless credit yr ive chase credit card chase...      4  \n",
              "21071  roughly year ago closed account jp morgan chas...      4  \n",
              "\n",
              "[21072 rows x 6 columns]"
            ],
            "text/html": [
              "\n",
              "  <div id=\"df-1bab5362-fc92-409b-9fae-2a1eeb160775\">\n",
              "    <div class=\"colab-df-container\">\n",
              "      <div>\n",
              "<style scoped>\n",
              "    .dataframe tbody tr th:only-of-type {\n",
              "        vertical-align: middle;\n",
              "    }\n",
              "\n",
              "    .dataframe tbody tr th {\n",
              "        vertical-align: top;\n",
              "    }\n",
              "\n",
              "    .dataframe thead th {\n",
              "        text-align: right;\n",
              "    }\n",
              "</style>\n",
              "<table border=\"1\" class=\"dataframe\">\n",
              "  <thead>\n",
              "    <tr style=\"text-align: right;\">\n",
              "      <th></th>\n",
              "      <th>complaint_clean</th>\n",
              "      <th>lemmetized_complaint</th>\n",
              "      <th>complaint_POS_removed</th>\n",
              "      <th>complaint_len</th>\n",
              "      <th>Complaint_clean</th>\n",
              "      <th>Topic</th>\n",
              "    </tr>\n",
              "  </thead>\n",
              "  <tbody>\n",
              "    <tr>\n",
              "      <th>0</th>\n",
              "      <td>good morning name appreciate could help put st...</td>\n",
              "      <td>good morning name appreciate could help put st...</td>\n",
              "      <td>good could help put stop wrote chase asking se...</td>\n",
              "      <td>130</td>\n",
              "      <td>good morning name appreciate could help put st...</td>\n",
              "      <td>2</td>\n",
              "    </tr>\n",
              "    <tr>\n",
              "      <th>1</th>\n",
              "      <td>upgraded card told agent upgrade anniversary d...</td>\n",
              "      <td>upgraded card told agent upgrade anniversary d...</td>\n",
              "      <td>upgraded told upgrade anniversary would change...</td>\n",
              "      <td>111</td>\n",
              "      <td>upgraded card told agent upgrade anniversary d...</td>\n",
              "      <td>0</td>\n",
              "    </tr>\n",
              "    <tr>\n",
              "      <th>2</th>\n",
              "      <td>chase card reported however fraudulent applica...</td>\n",
              "      <td>chase card reported however fraudulent applica...</td>\n",
              "      <td>reported however fraudulent submitted without ...</td>\n",
              "      <td>90</td>\n",
              "      <td>chase card reported however fraudulent applica...</td>\n",
              "      <td>1</td>\n",
              "    </tr>\n",
              "    <tr>\n",
              "      <th>3</th>\n",
              "      <td>trying book ticket came across offer applied t...</td>\n",
              "      <td>trying book ticket came across offer applied t...</td>\n",
              "      <td>trying came across applied towards applied rew...</td>\n",
              "      <td>511</td>\n",
              "      <td>trying book ticket came across offer applied t...</td>\n",
              "      <td>1</td>\n",
              "    </tr>\n",
              "    <tr>\n",
              "      <th>4</th>\n",
              "      <td>grand son give check deposit chase account fun...</td>\n",
              "      <td>grand son give check deposit chase account fun...</td>\n",
              "      <td>grand give clear closed never paid said need s...</td>\n",
              "      <td>100</td>\n",
              "      <td>grand son give check deposit chase account fun...</td>\n",
              "      <td>3</td>\n",
              "    </tr>\n",
              "    <tr>\n",
              "      <th>...</th>\n",
              "      <td>...</td>\n",
              "      <td>...</td>\n",
              "      <td>...</td>\n",
              "      <td>...</td>\n",
              "      <td>...</td>\n",
              "      <td>...</td>\n",
              "    </tr>\n",
              "    <tr>\n",
              "      <th>21067</th>\n",
              "      <td>chase card customer well decade offered multip...</td>\n",
              "      <td>chase card customer well decade offered multip...</td>\n",
              "      <td>well offered multiple acquiring new mile appro...</td>\n",
              "      <td>210</td>\n",
              "      <td>chase card customer well decade offered multip...</td>\n",
              "      <td>1</td>\n",
              "    </tr>\n",
              "    <tr>\n",
              "      <th>21068</th>\n",
              "      <td>wednesday called chas visa credit card provide...</td>\n",
              "      <td>wednesday called chas visa credit card provide...</td>\n",
              "      <td>called asked make purchased three high old tra...</td>\n",
              "      <td>691</td>\n",
              "      <td>wednesday called chas visa credit card provide...</td>\n",
              "      <td>0</td>\n",
              "    </tr>\n",
              "    <tr>\n",
              "      <th>21069</th>\n",
              "      <td>familiar pay understand great risk provides co...</td>\n",
              "      <td>familiar pay understand great risk provides co...</td>\n",
              "      <td>familiar understand great provides believed sa...</td>\n",
              "      <td>842</td>\n",
              "      <td>familiar pay understand great risk provides co...</td>\n",
              "      <td>0</td>\n",
              "    </tr>\n",
              "    <tr>\n",
              "      <th>21070</th>\n",
              "      <td>flawless credit yrs ive chase credit cards cha...</td>\n",
              "      <td>flawless credit yr ive chase credit card chase...</td>\n",
              "      <td>yr ive specifically since ever ive done many p...</td>\n",
              "      <td>733</td>\n",
              "      <td>flawless credit yr ive chase credit card chase...</td>\n",
              "      <td>4</td>\n",
              "    </tr>\n",
              "    <tr>\n",
              "      <th>21071</th>\n",
              "      <td>roughly years ago closed accounts jp morgan ch...</td>\n",
              "      <td>roughly year ago closed account jp morgan chas...</td>\n",
              "      <td>roughly ago closed morgan chase close unsecure...</td>\n",
              "      <td>209</td>\n",
              "      <td>roughly year ago closed account jp morgan chas...</td>\n",
              "      <td>4</td>\n",
              "    </tr>\n",
              "  </tbody>\n",
              "</table>\n",
              "<p>21072 rows × 6 columns</p>\n",
              "</div>\n",
              "      <button class=\"colab-df-convert\" onclick=\"convertToInteractive('df-1bab5362-fc92-409b-9fae-2a1eeb160775')\"\n",
              "              title=\"Convert this dataframe to an interactive table.\"\n",
              "              style=\"display:none;\">\n",
              "        \n",
              "  <svg xmlns=\"http://www.w3.org/2000/svg\" height=\"24px\"viewBox=\"0 0 24 24\"\n",
              "       width=\"24px\">\n",
              "    <path d=\"M0 0h24v24H0V0z\" fill=\"none\"/>\n",
              "    <path d=\"M18.56 5.44l.94 2.06.94-2.06 2.06-.94-2.06-.94-.94-2.06-.94 2.06-2.06.94zm-11 1L8.5 8.5l.94-2.06 2.06-.94-2.06-.94L8.5 2.5l-.94 2.06-2.06.94zm10 10l.94 2.06.94-2.06 2.06-.94-2.06-.94-.94-2.06-.94 2.06-2.06.94z\"/><path d=\"M17.41 7.96l-1.37-1.37c-.4-.4-.92-.59-1.43-.59-.52 0-1.04.2-1.43.59L10.3 9.45l-7.72 7.72c-.78.78-.78 2.05 0 2.83L4 21.41c.39.39.9.59 1.41.59.51 0 1.02-.2 1.41-.59l7.78-7.78 2.81-2.81c.8-.78.8-2.07 0-2.86zM5.41 20L4 18.59l7.72-7.72 1.47 1.35L5.41 20z\"/>\n",
              "  </svg>\n",
              "      </button>\n",
              "      \n",
              "  <style>\n",
              "    .colab-df-container {\n",
              "      display:flex;\n",
              "      flex-wrap:wrap;\n",
              "      gap: 12px;\n",
              "    }\n",
              "\n",
              "    .colab-df-convert {\n",
              "      background-color: #E8F0FE;\n",
              "      border: none;\n",
              "      border-radius: 50%;\n",
              "      cursor: pointer;\n",
              "      display: none;\n",
              "      fill: #1967D2;\n",
              "      height: 32px;\n",
              "      padding: 0 0 0 0;\n",
              "      width: 32px;\n",
              "    }\n",
              "\n",
              "    .colab-df-convert:hover {\n",
              "      background-color: #E2EBFA;\n",
              "      box-shadow: 0px 1px 2px rgba(60, 64, 67, 0.3), 0px 1px 3px 1px rgba(60, 64, 67, 0.15);\n",
              "      fill: #174EA6;\n",
              "    }\n",
              "\n",
              "    [theme=dark] .colab-df-convert {\n",
              "      background-color: #3B4455;\n",
              "      fill: #D2E3FC;\n",
              "    }\n",
              "\n",
              "    [theme=dark] .colab-df-convert:hover {\n",
              "      background-color: #434B5C;\n",
              "      box-shadow: 0px 1px 3px 1px rgba(0, 0, 0, 0.15);\n",
              "      filter: drop-shadow(0px 1px 2px rgba(0, 0, 0, 0.3));\n",
              "      fill: #FFFFFF;\n",
              "    }\n",
              "  </style>\n",
              "\n",
              "      <script>\n",
              "        const buttonEl =\n",
              "          document.querySelector('#df-1bab5362-fc92-409b-9fae-2a1eeb160775 button.colab-df-convert');\n",
              "        buttonEl.style.display =\n",
              "          google.colab.kernel.accessAllowed ? 'block' : 'none';\n",
              "\n",
              "        async function convertToInteractive(key) {\n",
              "          const element = document.querySelector('#df-1bab5362-fc92-409b-9fae-2a1eeb160775');\n",
              "          const dataTable =\n",
              "            await google.colab.kernel.invokeFunction('convertToInteractive',\n",
              "                                                     [key], {});\n",
              "          if (!dataTable) return;\n",
              "\n",
              "          const docLinkHtml = 'Like what you see? Visit the ' +\n",
              "            '<a target=\"_blank\" href=https://colab.research.google.com/notebooks/data_table.ipynb>data table notebook</a>'\n",
              "            + ' to learn more about interactive tables.';\n",
              "          element.innerHTML = '';\n",
              "          dataTable['output_type'] = 'display_data';\n",
              "          await google.colab.output.renderOutput(dataTable, element);\n",
              "          const docLink = document.createElement('div');\n",
              "          docLink.innerHTML = docLinkHtml;\n",
              "          element.appendChild(docLink);\n",
              "        }\n",
              "      </script>\n",
              "    </div>\n",
              "  </div>\n",
              "  "
            ]
          },
          "metadata": {},
          "execution_count": 44
        }
      ],
      "source": [
        "df_clean"
      ]
    },
    {
      "cell_type": "code",
      "execution_count": null,
      "metadata": {
        "id": "Xx-FrbkWJrGH"
      },
      "outputs": [],
      "source": [
        "#Keep the columns\"complaint_what_happened\" & \"Topic\" only in the new dataframe --> training_data\n",
        "training_data = pd.DataFrame()\n",
        "training_data['complaint'] = df_new['complaint'].apply(clean_text_data)\n",
        "training_data['topic'] = df_clean['Topic']"
      ]
    },
    {
      "cell_type": "code",
      "execution_count": null,
      "metadata": {
        "colab": {
          "base_uri": "https://localhost:8080/",
          "height": 424
        },
        "id": "lVg2pa12JrGI",
        "outputId": "2e6b8bfb-1e7e-496e-aef9-6959ff31ea49"
      },
      "outputs": [
        {
          "output_type": "execute_result",
          "data": {
            "text/plain": [
              "                                               complaint  topic\n",
              "0      good morning name appreciate could help put st...      2\n",
              "1      upgraded card told agent upgrade anniversary d...      0\n",
              "2      chase card reported however fraudulent applica...      1\n",
              "3      trying book ticket came across offer applied t...      1\n",
              "4      grand son give check deposit chase account fun...      3\n",
              "...                                                  ...    ...\n",
              "21067  chase card customer well decade offered multip...      1\n",
              "21068  wednesday called chas visa credit card provide...      0\n",
              "21069  familiar pay understand great risk provides co...      0\n",
              "21070  flawless credit yrs ive chase credit cards cha...      4\n",
              "21071  roughly years ago closed accounts jp morgan ch...      4\n",
              "\n",
              "[21072 rows x 2 columns]"
            ],
            "text/html": [
              "\n",
              "  <div id=\"df-cce5cdf1-a4d3-4d4c-a15d-a59a57506cab\">\n",
              "    <div class=\"colab-df-container\">\n",
              "      <div>\n",
              "<style scoped>\n",
              "    .dataframe tbody tr th:only-of-type {\n",
              "        vertical-align: middle;\n",
              "    }\n",
              "\n",
              "    .dataframe tbody tr th {\n",
              "        vertical-align: top;\n",
              "    }\n",
              "\n",
              "    .dataframe thead th {\n",
              "        text-align: right;\n",
              "    }\n",
              "</style>\n",
              "<table border=\"1\" class=\"dataframe\">\n",
              "  <thead>\n",
              "    <tr style=\"text-align: right;\">\n",
              "      <th></th>\n",
              "      <th>complaint</th>\n",
              "      <th>topic</th>\n",
              "    </tr>\n",
              "  </thead>\n",
              "  <tbody>\n",
              "    <tr>\n",
              "      <th>0</th>\n",
              "      <td>good morning name appreciate could help put st...</td>\n",
              "      <td>2</td>\n",
              "    </tr>\n",
              "    <tr>\n",
              "      <th>1</th>\n",
              "      <td>upgraded card told agent upgrade anniversary d...</td>\n",
              "      <td>0</td>\n",
              "    </tr>\n",
              "    <tr>\n",
              "      <th>2</th>\n",
              "      <td>chase card reported however fraudulent applica...</td>\n",
              "      <td>1</td>\n",
              "    </tr>\n",
              "    <tr>\n",
              "      <th>3</th>\n",
              "      <td>trying book ticket came across offer applied t...</td>\n",
              "      <td>1</td>\n",
              "    </tr>\n",
              "    <tr>\n",
              "      <th>4</th>\n",
              "      <td>grand son give check deposit chase account fun...</td>\n",
              "      <td>3</td>\n",
              "    </tr>\n",
              "    <tr>\n",
              "      <th>...</th>\n",
              "      <td>...</td>\n",
              "      <td>...</td>\n",
              "    </tr>\n",
              "    <tr>\n",
              "      <th>21067</th>\n",
              "      <td>chase card customer well decade offered multip...</td>\n",
              "      <td>1</td>\n",
              "    </tr>\n",
              "    <tr>\n",
              "      <th>21068</th>\n",
              "      <td>wednesday called chas visa credit card provide...</td>\n",
              "      <td>0</td>\n",
              "    </tr>\n",
              "    <tr>\n",
              "      <th>21069</th>\n",
              "      <td>familiar pay understand great risk provides co...</td>\n",
              "      <td>0</td>\n",
              "    </tr>\n",
              "    <tr>\n",
              "      <th>21070</th>\n",
              "      <td>flawless credit yrs ive chase credit cards cha...</td>\n",
              "      <td>4</td>\n",
              "    </tr>\n",
              "    <tr>\n",
              "      <th>21071</th>\n",
              "      <td>roughly years ago closed accounts jp morgan ch...</td>\n",
              "      <td>4</td>\n",
              "    </tr>\n",
              "  </tbody>\n",
              "</table>\n",
              "<p>21072 rows × 2 columns</p>\n",
              "</div>\n",
              "      <button class=\"colab-df-convert\" onclick=\"convertToInteractive('df-cce5cdf1-a4d3-4d4c-a15d-a59a57506cab')\"\n",
              "              title=\"Convert this dataframe to an interactive table.\"\n",
              "              style=\"display:none;\">\n",
              "        \n",
              "  <svg xmlns=\"http://www.w3.org/2000/svg\" height=\"24px\"viewBox=\"0 0 24 24\"\n",
              "       width=\"24px\">\n",
              "    <path d=\"M0 0h24v24H0V0z\" fill=\"none\"/>\n",
              "    <path d=\"M18.56 5.44l.94 2.06.94-2.06 2.06-.94-2.06-.94-.94-2.06-.94 2.06-2.06.94zm-11 1L8.5 8.5l.94-2.06 2.06-.94-2.06-.94L8.5 2.5l-.94 2.06-2.06.94zm10 10l.94 2.06.94-2.06 2.06-.94-2.06-.94-.94-2.06-.94 2.06-2.06.94z\"/><path d=\"M17.41 7.96l-1.37-1.37c-.4-.4-.92-.59-1.43-.59-.52 0-1.04.2-1.43.59L10.3 9.45l-7.72 7.72c-.78.78-.78 2.05 0 2.83L4 21.41c.39.39.9.59 1.41.59.51 0 1.02-.2 1.41-.59l7.78-7.78 2.81-2.81c.8-.78.8-2.07 0-2.86zM5.41 20L4 18.59l7.72-7.72 1.47 1.35L5.41 20z\"/>\n",
              "  </svg>\n",
              "      </button>\n",
              "      \n",
              "  <style>\n",
              "    .colab-df-container {\n",
              "      display:flex;\n",
              "      flex-wrap:wrap;\n",
              "      gap: 12px;\n",
              "    }\n",
              "\n",
              "    .colab-df-convert {\n",
              "      background-color: #E8F0FE;\n",
              "      border: none;\n",
              "      border-radius: 50%;\n",
              "      cursor: pointer;\n",
              "      display: none;\n",
              "      fill: #1967D2;\n",
              "      height: 32px;\n",
              "      padding: 0 0 0 0;\n",
              "      width: 32px;\n",
              "    }\n",
              "\n",
              "    .colab-df-convert:hover {\n",
              "      background-color: #E2EBFA;\n",
              "      box-shadow: 0px 1px 2px rgba(60, 64, 67, 0.3), 0px 1px 3px 1px rgba(60, 64, 67, 0.15);\n",
              "      fill: #174EA6;\n",
              "    }\n",
              "\n",
              "    [theme=dark] .colab-df-convert {\n",
              "      background-color: #3B4455;\n",
              "      fill: #D2E3FC;\n",
              "    }\n",
              "\n",
              "    [theme=dark] .colab-df-convert:hover {\n",
              "      background-color: #434B5C;\n",
              "      box-shadow: 0px 1px 3px 1px rgba(0, 0, 0, 0.15);\n",
              "      filter: drop-shadow(0px 1px 2px rgba(0, 0, 0, 0.3));\n",
              "      fill: #FFFFFF;\n",
              "    }\n",
              "  </style>\n",
              "\n",
              "      <script>\n",
              "        const buttonEl =\n",
              "          document.querySelector('#df-cce5cdf1-a4d3-4d4c-a15d-a59a57506cab button.colab-df-convert');\n",
              "        buttonEl.style.display =\n",
              "          google.colab.kernel.accessAllowed ? 'block' : 'none';\n",
              "\n",
              "        async function convertToInteractive(key) {\n",
              "          const element = document.querySelector('#df-cce5cdf1-a4d3-4d4c-a15d-a59a57506cab');\n",
              "          const dataTable =\n",
              "            await google.colab.kernel.invokeFunction('convertToInteractive',\n",
              "                                                     [key], {});\n",
              "          if (!dataTable) return;\n",
              "\n",
              "          const docLinkHtml = 'Like what you see? Visit the ' +\n",
              "            '<a target=\"_blank\" href=https://colab.research.google.com/notebooks/data_table.ipynb>data table notebook</a>'\n",
              "            + ' to learn more about interactive tables.';\n",
              "          element.innerHTML = '';\n",
              "          dataTable['output_type'] = 'display_data';\n",
              "          await google.colab.output.renderOutput(dataTable, element);\n",
              "          const docLink = document.createElement('div');\n",
              "          docLink.innerHTML = docLinkHtml;\n",
              "          element.appendChild(docLink);\n",
              "        }\n",
              "      </script>\n",
              "    </div>\n",
              "  </div>\n",
              "  "
            ]
          },
          "metadata": {},
          "execution_count": 46
        }
      ],
      "source": [
        "training_data"
      ]
    },
    {
      "cell_type": "markdown",
      "metadata": {
        "id": "280Vbqk-7a8M"
      },
      "source": [
        "####Apply the supervised models on the training data created. In this process, you have to do the following:\n",
        "* Create the vector counts using Count Vectoriser\n",
        "* Transform the word vecotr to tf-idf\n",
        "* Create the train & test data using the train_test_split on the tf-idf & topics\n"
      ]
    },
    {
      "cell_type": "markdown",
      "metadata": {
        "id": "94vdMUz0DO1X"
      },
      "source": [
        "#### Splitting the dataset into train and test"
      ]
    },
    {
      "cell_type": "code",
      "source": [
        "X = training_data['complaint']\n",
        "y = training_data['topic']\n",
        "\n",
        "# Splitting the dataset into train and test dataset\n",
        "X_train, X_test, y_train, y_test = train_test_split(X,y,test_size=0.3,random_state=100)"
      ],
      "metadata": {
        "id": "8QuBP1vTCNBx"
      },
      "execution_count": null,
      "outputs": []
    },
    {
      "cell_type": "markdown",
      "metadata": {
        "id": "S_abgdaJIwlS"
      },
      "source": [
        "### Using TFIDF "
      ]
    },
    {
      "cell_type": "code",
      "execution_count": null,
      "metadata": {
        "colab": {
          "base_uri": "https://localhost:8080/"
        },
        "id": "oUlQpgkzJrGI",
        "outputId": "21f40c49-e626-4fde-926c-8f526e97b26e"
      },
      "outputs": [
        {
          "output_type": "stream",
          "name": "stdout",
          "text": [
            "Shape of train data (14750, 5000)\n",
            "Shape of test data (6322, 5000)\n"
          ]
        }
      ],
      "source": [
        "# training tfidfvectorizer on the train dataset\n",
        "tfidf_vec = TfidfVectorizer(max_features=5000)\n",
        "X_train_vec = tfidf_vec.fit_transform(X_train)\n",
        "X_test_vec = tfidf_vec.transform(X_test)\n",
        "\n",
        "# X_train_vec = preprocessing.normalize(X_train_vec)\n",
        "# normalizer = MinMaxScaler()\n",
        "# X_train_vec = normalizer.fit_transform(X_train_vec)\n",
        "# X_test_vec = normalizer.transform(X_test_vec)\n",
        "\n",
        "print(f'Shape of train data {X_train_vec.shape}')\n",
        "print(f'Shape of test data {X_test_vec.shape}')"
      ]
    },
    {
      "cell_type": "markdown",
      "metadata": {
        "id": "uMU3vj6w-wqL"
      },
      "source": [
        "You have to try atleast 3 models on the train & test data from these options:\n",
        "* Logistic regression\n",
        "* Decision Tree\n",
        "* Random Forest\n",
        "* Naive Bayes (optional)\n",
        "\n",
        "**Using the required evaluation metrics judge the tried models and select the ones performing the best**"
      ]
    },
    {
      "cell_type": "markdown",
      "metadata": {
        "id": "De_9hdBmI6oB"
      },
      "source": [
        "#### Applying Logistic regression"
      ]
    },
    {
      "cell_type": "code",
      "execution_count": null,
      "metadata": {
        "colab": {
          "base_uri": "https://localhost:8080/"
        },
        "id": "udLHpPsZJrGI",
        "outputId": "1d0c58af-8651-41be-e2c6-48665ae68425"
      },
      "outputs": [
        {
          "output_type": "execute_result",
          "data": {
            "text/plain": [
              "LogisticRegression(max_iter=200)"
            ]
          },
          "metadata": {},
          "execution_count": 80
        }
      ],
      "source": [
        "# Training the Logistic regression model\n",
        "lr_model_tfidf = LogisticRegression(max_iter=200)\n",
        "lr_model_tfidf.fit(X_train_vec,y_train)\n",
        "\n"
      ]
    },
    {
      "cell_type": "markdown",
      "metadata": {
        "id": "XCjFcMBfOE7w"
      },
      "source": [
        "##### Prediction on the test dataset"
      ]
    },
    {
      "cell_type": "code",
      "execution_count": null,
      "metadata": {
        "colab": {
          "base_uri": "https://localhost:8080/"
        },
        "id": "OrN8VeyKOEYO",
        "outputId": "e982730d-e2d1-4031-a8c8-5422474a18ab"
      },
      "outputs": [
        {
          "output_type": "stream",
          "name": "stdout",
          "text": [
            "Logistic regression model accuracy on test dataset : 0.95\n",
            "Logistic regression model accuracy on train dataset : 1.0\n"
          ]
        }
      ],
      "source": [
        "test_pred = lr_model_tfidf.predict(X_test_vec)\n",
        "print(f'Logistic regression model accuracy on test dataset : {round(accuracy_score(test_pred,y_test),2)}')\n",
        "train_pred = lr_model_tfidf.predict(X_train_vec)\n",
        "print(f'Logistic regression model accuracy on train dataset : {round(accuracy_score(train_pred,y_train),2)}')"
      ]
    },
    {
      "cell_type": "code",
      "execution_count": null,
      "metadata": {
        "colab": {
          "base_uri": "https://localhost:8080/"
        },
        "id": "5eDUyTOoOh24",
        "outputId": "b994a59e-ac1b-462b-8f38-41cec7997470"
      },
      "outputs": [
        {
          "output_type": "stream",
          "name": "stdout",
          "text": [
            "              precision    recall  f1-score   support\n",
            "\n",
            "           0       0.96      0.93      0.95      1453\n",
            "           1       0.94      0.95      0.95      1175\n",
            "           2       0.93      0.97      0.95      1177\n",
            "           3       0.97      0.94      0.96      1758\n",
            "           4       0.91      0.97      0.94       759\n",
            "\n",
            "    accuracy                           0.95      6322\n",
            "   macro avg       0.94      0.95      0.95      6322\n",
            "weighted avg       0.95      0.95      0.95      6322\n",
            "\n"
          ]
        }
      ],
      "source": [
        "print(classification_report(test_pred,y_test))"
      ]
    },
    {
      "cell_type": "markdown",
      "metadata": {
        "id": "S45KwfncOyXT"
      },
      "source": [
        "#### Applying Decision Tree"
      ]
    },
    {
      "cell_type": "code",
      "execution_count": null,
      "metadata": {
        "colab": {
          "base_uri": "https://localhost:8080/"
        },
        "id": "mP-1spgNOxby",
        "outputId": "8b1d7254-87e3-420c-adf4-623bd59c707d"
      },
      "outputs": [
        {
          "output_type": "execute_result",
          "data": {
            "text/plain": [
              "DecisionTreeClassifier()"
            ]
          },
          "metadata": {},
          "execution_count": 52
        }
      ],
      "source": [
        "dt_model  = DecisionTreeClassifier()\n",
        "dt_model.fit(X_train_vec,y_train)"
      ]
    },
    {
      "cell_type": "code",
      "execution_count": null,
      "metadata": {
        "colab": {
          "base_uri": "https://localhost:8080/"
        },
        "id": "E56_E1moQ46X",
        "outputId": "cc290ab8-1d48-4b0b-ee45-18a730987487"
      },
      "outputs": [
        {
          "output_type": "stream",
          "name": "stdout",
          "text": [
            "Decision Tree model accuracy on test dataset : 0.76\n",
            "Decision Tree model accuracy on train dataset : 1.0\n"
          ]
        }
      ],
      "source": [
        "test_pred = dt_model.predict(X_test_vec)\n",
        "print(f'Decision Tree model accuracy on test dataset : {round(accuracy_score(test_pred,y_test),2)}')\n",
        "train_pred = dt_model.predict(X_train_vec)\n",
        "print(f'Decision Tree model accuracy on train dataset : {round(accuracy_score(train_pred,y_train),2)}')"
      ]
    },
    {
      "cell_type": "code",
      "execution_count": null,
      "metadata": {
        "colab": {
          "base_uri": "https://localhost:8080/"
        },
        "id": "fi021JrmRZc0",
        "outputId": "df0cf3aa-55a9-4bbc-db9f-e08fdb1a0355"
      },
      "outputs": [
        {
          "output_type": "stream",
          "name": "stdout",
          "text": [
            "Fitting 4 folds for each of 10 candidates, totalling 40 fits\n"
          ]
        },
        {
          "output_type": "execute_result",
          "data": {
            "text/plain": [
              "GridSearchCV(cv=4, estimator=DecisionTreeClassifier(max_depth=20), n_jobs=-1,\n",
              "             param_grid={'criterion': ['gini', 'entropy'],\n",
              "                         'min_samples_leaf': [5, 10, 20, 50, 100]},\n",
              "             scoring='accuracy', verbose=1)"
            ]
          },
          "metadata": {},
          "execution_count": 54
        }
      ],
      "source": [
        "# Applying hyperparam tuning steps on the decision tree\n",
        "dt_model  = DecisionTreeClassifier(max_depth = 20)\n",
        "params = {\n",
        "    'min_samples_leaf': [5, 10, 20, 50, 100],\n",
        "    'criterion': [\"gini\", \"entropy\"]\n",
        "}\n",
        "\n",
        "dt_gcv = GridSearchCV(estimator = dt_model,param_grid=params , cv=4, n_jobs = -1,verbose = 1, scoring = 'accuracy')\n",
        "dt_gcv.fit(X_train_vec,y_train)"
      ]
    },
    {
      "cell_type": "code",
      "execution_count": null,
      "metadata": {
        "id": "QbeIgH-lTEym"
      },
      "outputs": [],
      "source": [
        "best_dt = dt_gcv.best_estimator_"
      ]
    },
    {
      "cell_type": "code",
      "execution_count": null,
      "metadata": {
        "colab": {
          "base_uri": "https://localhost:8080/"
        },
        "id": "RaauPI-6Vod1",
        "outputId": "db840888-02cd-4611-d7c5-beb8a515355c"
      },
      "outputs": [
        {
          "output_type": "stream",
          "name": "stdout",
          "text": [
            "Optimised Decision Tree model accuracy on test dataset : 0.78\n",
            "Optimised Decision Tree model accuracy on train dataset : 0.85\n"
          ]
        }
      ],
      "source": [
        "test_pred = best_dt.predict(X_test_vec)\n",
        "print(f'Optimised Decision Tree model accuracy on test dataset : {round(accuracy_score(test_pred,y_test),2)}')\n",
        "train_pred = best_dt.predict(X_train_vec)\n",
        "print(f'Optimised Decision Tree model accuracy on train dataset : {round(accuracy_score(train_pred,y_train),2)}')"
      ]
    },
    {
      "cell_type": "markdown",
      "metadata": {
        "id": "YDddYoowihyn"
      },
      "source": [
        "#### Applying Naive Bayes theorem"
      ]
    },
    {
      "cell_type": "code",
      "execution_count": null,
      "metadata": {
        "colab": {
          "base_uri": "https://localhost:8080/"
        },
        "id": "TlpDyFumil7-",
        "outputId": "c2ac3f77-4938-4285-adbf-7b19419a9d50"
      },
      "outputs": [
        {
          "output_type": "execute_result",
          "data": {
            "text/plain": [
              "MultinomialNB()"
            ]
          },
          "metadata": {},
          "execution_count": 57
        }
      ],
      "source": [
        "nb_model = MultinomialNB()\n",
        "nb_model.fit(X_train_vec,y_train)"
      ]
    },
    {
      "cell_type": "code",
      "execution_count": null,
      "metadata": {
        "colab": {
          "base_uri": "https://localhost:8080/"
        },
        "id": "A8r0ixDZmfpT",
        "outputId": "76af9c2b-1fe6-4cb7-8ae4-ca2088dc7993"
      },
      "outputs": [
        {
          "output_type": "stream",
          "name": "stdout",
          "text": [
            "Naive Bayes model accuracy on test dataset : 0.83\n",
            "Naive Bayes model accuracy on train dataset : 0.85\n"
          ]
        }
      ],
      "source": [
        "test_pred = nb_model.predict(X_test_vec)\n",
        "print(f'Naive Bayes model accuracy on test dataset : {round(accuracy_score(test_pred,y_test),2)}')\n",
        "train_pred = nb_model.predict(X_train_vec)\n",
        "print(f'Naive Bayes model accuracy on train dataset : {round(accuracy_score(train_pred,y_train),2)}')"
      ]
    },
    {
      "cell_type": "code",
      "execution_count": null,
      "metadata": {
        "colab": {
          "base_uri": "https://localhost:8080/"
        },
        "id": "HX71opAQmqCC",
        "outputId": "d2102ae2-c0b7-4de4-adf7-c5dd5b5acad8"
      },
      "outputs": [
        {
          "output_type": "stream",
          "name": "stdout",
          "text": [
            "              precision    recall  f1-score   support\n",
            "\n",
            "           0       0.82      0.84      0.83      1381\n",
            "           1       0.79      0.83      0.81      1126\n",
            "           2       0.85      0.89      0.87      1167\n",
            "           3       0.92      0.77      0.84      2025\n",
            "           4       0.65      0.84      0.73       623\n",
            "\n",
            "    accuracy                           0.83      6322\n",
            "   macro avg       0.81      0.84      0.82      6322\n",
            "weighted avg       0.84      0.83      0.83      6322\n",
            "\n"
          ]
        }
      ],
      "source": [
        "print(classification_report(test_pred,y_test))"
      ]
    },
    {
      "cell_type": "markdown",
      "metadata": {
        "id": "Dqo3IPNpyNQH"
      },
      "source": [
        "#### Applying RandomForest"
      ]
    },
    {
      "cell_type": "code",
      "execution_count": null,
      "metadata": {
        "colab": {
          "base_uri": "https://localhost:8080/"
        },
        "id": "AnlX98JVyLJq",
        "outputId": "1dacded0-99a5-4173-90d5-b2c26de76647"
      },
      "outputs": [
        {
          "output_type": "execute_result",
          "data": {
            "text/plain": [
              "RandomForestClassifier(max_depth=30, min_samples_leaf=10, min_samples_split=10)"
            ]
          },
          "metadata": {},
          "execution_count": 60
        }
      ],
      "source": [
        "rf_model = RandomForestClassifier(max_depth=30, min_samples_split=10,min_samples_leaf=10)\n",
        "rf_model.fit(X_train_vec,y_train)"
      ]
    },
    {
      "cell_type": "code",
      "execution_count": null,
      "metadata": {
        "colab": {
          "base_uri": "https://localhost:8080/"
        },
        "id": "-M14Vtg71Egx",
        "outputId": "98f99c79-af62-4aa7-e376-4d1dac7930c0"
      },
      "outputs": [
        {
          "output_type": "stream",
          "name": "stdout",
          "text": [
            "Random Forest model accuracy on test dataset : 0.85\n",
            "Random Forest model accuracy on train dataset : 0.91\n"
          ]
        }
      ],
      "source": [
        "test_pred = rf_model.predict(X_test_vec)\n",
        "print(f'Random Forest model accuracy on test dataset : {round(accuracy_score(test_pred,y_test),2)}')\n",
        "train_pred = rf_model.predict(X_train_vec)\n",
        "print(f'Random Forest model accuracy on train dataset : {round(accuracy_score(train_pred,y_train),2)}')"
      ]
    },
    {
      "cell_type": "code",
      "source": [
        "print(classification_report(test_pred,y_test))"
      ],
      "metadata": {
        "colab": {
          "base_uri": "https://localhost:8080/"
        },
        "id": "Lfc2pkm4FPxz",
        "outputId": "b67f5818-a912-4def-9710-77039c8c4132"
      },
      "execution_count": null,
      "outputs": [
        {
          "output_type": "stream",
          "name": "stdout",
          "text": [
            "              precision    recall  f1-score   support\n",
            "\n",
            "           0       0.84      0.84      0.84      1399\n",
            "           1       0.86      0.87      0.86      1166\n",
            "           2       0.87      0.91      0.89      1166\n",
            "           3       0.95      0.80      0.87      1998\n",
            "           4       0.66      0.90      0.76       593\n",
            "\n",
            "    accuracy                           0.85      6322\n",
            "   macro avg       0.83      0.87      0.85      6322\n",
            "weighted avg       0.87      0.85      0.86      6322\n",
            "\n"
          ]
        }
      ]
    },
    {
      "cell_type": "markdown",
      "source": [
        "### Using BOW"
      ],
      "metadata": {
        "id": "xYO32oEvB4Ep"
      }
    },
    {
      "cell_type": "code",
      "source": [
        "# training Bag of words on the train dataset\n",
        "bow_vec = CountVectorizer(max_features=5000)\n",
        "X_train_vec = bow_vec.fit_transform(X_train)\n",
        "X_test_vec = bow_vec.transform(X_test)\n",
        "\n",
        "# X_train_vec = preprocessing.normalize(X_train_vec)\n",
        "# normalizer = MinMaxScaler()\n",
        "# X_train_vec = normalizer.fit_transform(X_train_vec)\n",
        "# X_test_vec = normalizer.transform(X_test_vec)\n",
        "\n",
        "print(f'Shape of train data {X_train_vec.shape}')\n",
        "print(f'Shape of test data {X_test_vec.shape}')"
      ],
      "metadata": {
        "colab": {
          "base_uri": "https://localhost:8080/"
        },
        "id": "U3hnZQz8B5_d",
        "outputId": "12b4f36b-2cf8-4e45-9fb9-4e9b26194ab4"
      },
      "execution_count": null,
      "outputs": [
        {
          "output_type": "stream",
          "name": "stdout",
          "text": [
            "Shape of train data (14750, 5000)\n",
            "Shape of test data (6322, 5000)\n"
          ]
        }
      ]
    },
    {
      "cell_type": "markdown",
      "metadata": {
        "id": "MBN5pCUFCuBH"
      },
      "source": [
        "#### Applying Logistic regression"
      ]
    },
    {
      "cell_type": "code",
      "execution_count": null,
      "metadata": {
        "colab": {
          "base_uri": "https://localhost:8080/"
        },
        "outputId": "7197dd42-641e-44bf-a9de-609b66b41b90",
        "id": "OxQZzNZ_CuBI"
      },
      "outputs": [
        {
          "output_type": "execute_result",
          "data": {
            "text/plain": [
              "LogisticRegression(max_iter=200)"
            ]
          },
          "metadata": {},
          "execution_count": 64
        }
      ],
      "source": [
        "# Training the Logistic regression model\n",
        "lr_model = LogisticRegression(max_iter=200)\n",
        "lr_model.fit(X_train_vec,y_train)\n",
        "\n"
      ]
    },
    {
      "cell_type": "markdown",
      "metadata": {
        "id": "J60sIdyWCuBI"
      },
      "source": [
        "##### Prediction on the test dataset"
      ]
    },
    {
      "cell_type": "code",
      "execution_count": null,
      "metadata": {
        "colab": {
          "base_uri": "https://localhost:8080/"
        },
        "outputId": "a1fd94e5-a3af-41e7-aa0f-a742ac1d06aa",
        "id": "MleK50FHCuBI"
      },
      "outputs": [
        {
          "output_type": "stream",
          "name": "stdout",
          "text": [
            "Logistic regression model accuracy on test dataset : 0.95\n",
            "Logistic regression model accuracy on train dataset : 1.0\n"
          ]
        }
      ],
      "source": [
        "test_pred = lr_model.predict(X_test_vec)\n",
        "print(f'Logistic regression model accuracy on test dataset : {round(accuracy_score(test_pred,y_test),2)}')\n",
        "train_pred = lr_model.predict(X_train_vec)\n",
        "print(f'Logistic regression model accuracy on train dataset : {round(accuracy_score(train_pred,y_train),2)}')"
      ]
    },
    {
      "cell_type": "code",
      "execution_count": null,
      "metadata": {
        "colab": {
          "base_uri": "https://localhost:8080/"
        },
        "outputId": "577fcc50-f48f-4c20-cdb5-b8d1a356190e",
        "id": "nZepNKpsCuBI"
      },
      "outputs": [
        {
          "output_type": "stream",
          "name": "stdout",
          "text": [
            "              precision    recall  f1-score   support\n",
            "\n",
            "           0       0.95      0.94      0.94      1423\n",
            "           1       0.96      0.95      0.95      1192\n",
            "           2       0.93      0.97      0.95      1176\n",
            "           3       0.96      0.95      0.96      1714\n",
            "           4       0.96      0.95      0.96       817\n",
            "\n",
            "    accuracy                           0.95      6322\n",
            "   macro avg       0.95      0.95      0.95      6322\n",
            "weighted avg       0.95      0.95      0.95      6322\n",
            "\n"
          ]
        }
      ],
      "source": [
        "print(classification_report(test_pred,y_test))"
      ]
    },
    {
      "cell_type": "markdown",
      "metadata": {
        "id": "rGskP0ldEvBb"
      },
      "source": [
        "#### Applying Decision Tree"
      ]
    },
    {
      "cell_type": "code",
      "execution_count": null,
      "metadata": {
        "colab": {
          "base_uri": "https://localhost:8080/"
        },
        "outputId": "e5e967aa-6105-451c-9209-96dec4b05881",
        "id": "j5nUs2lmEvBc"
      },
      "outputs": [
        {
          "output_type": "execute_result",
          "data": {
            "text/plain": [
              "DecisionTreeClassifier()"
            ]
          },
          "metadata": {},
          "execution_count": 67
        }
      ],
      "source": [
        "dt_model  = DecisionTreeClassifier()\n",
        "dt_model.fit(X_train_vec,y_train)"
      ]
    },
    {
      "cell_type": "code",
      "execution_count": null,
      "metadata": {
        "colab": {
          "base_uri": "https://localhost:8080/"
        },
        "outputId": "c64a7f65-f0fa-4bbf-8fdd-f8c0b0fa7df2",
        "id": "gGNhC6QYEvBc"
      },
      "outputs": [
        {
          "output_type": "stream",
          "name": "stdout",
          "text": [
            "Decision Tree model accuracy on test dataset : 0.74\n",
            "Decision Tree model accuracy on train dataset : 1.0\n"
          ]
        }
      ],
      "source": [
        "test_pred = dt_model.predict(X_test_vec)\n",
        "print(f'Decision Tree model accuracy on test dataset : {round(accuracy_score(test_pred,y_test),2)}')\n",
        "train_pred = dt_model.predict(X_train_vec)\n",
        "print(f'Decision Tree model accuracy on train dataset : {round(accuracy_score(train_pred,y_train),2)}')"
      ]
    },
    {
      "cell_type": "code",
      "execution_count": null,
      "metadata": {
        "colab": {
          "base_uri": "https://localhost:8080/"
        },
        "outputId": "94b00564-48a8-4730-d8c5-83e8a24e24e1",
        "id": "vn6F2ZEVEvBc"
      },
      "outputs": [
        {
          "output_type": "stream",
          "name": "stdout",
          "text": [
            "Fitting 4 folds for each of 10 candidates, totalling 40 fits\n"
          ]
        },
        {
          "output_type": "execute_result",
          "data": {
            "text/plain": [
              "GridSearchCV(cv=4, estimator=DecisionTreeClassifier(max_depth=20), n_jobs=-1,\n",
              "             param_grid={'criterion': ['gini', 'entropy'],\n",
              "                         'min_samples_leaf': [5, 10, 20, 50, 100]},\n",
              "             scoring='accuracy', verbose=1)"
            ]
          },
          "metadata": {},
          "execution_count": 69
        }
      ],
      "source": [
        "# Applying hyperparam tuning steps on the decision tree\n",
        "dt_model  = DecisionTreeClassifier(max_depth = 20)\n",
        "params = {\n",
        "    'min_samples_leaf': [5, 10, 20, 50, 100],\n",
        "    'criterion': [\"gini\", \"entropy\"]\n",
        "}\n",
        "\n",
        "dt_gcv = GridSearchCV(estimator = dt_model,param_grid=params , cv=4, n_jobs = -1,verbose = 1, scoring = 'accuracy')\n",
        "dt_gcv.fit(X_train_vec,y_train)"
      ]
    },
    {
      "cell_type": "code",
      "execution_count": null,
      "metadata": {
        "colab": {
          "base_uri": "https://localhost:8080/"
        },
        "id": "Z_eCtDCFEvBc",
        "outputId": "109e32ed-f796-4f15-cf93-3de1180fee16"
      },
      "outputs": [
        {
          "output_type": "execute_result",
          "data": {
            "text/plain": [
              "DecisionTreeClassifier(max_depth=20, min_samples_leaf=5)"
            ]
          },
          "metadata": {},
          "execution_count": 70
        }
      ],
      "source": [
        "best_dt = dt_gcv.best_estimator_\n",
        "best_dt"
      ]
    },
    {
      "cell_type": "code",
      "execution_count": null,
      "metadata": {
        "colab": {
          "base_uri": "https://localhost:8080/"
        },
        "outputId": "9496a663-198a-4f0d-e96a-f8a783eae774",
        "id": "SXIGkc8-EvBd"
      },
      "outputs": [
        {
          "output_type": "stream",
          "name": "stdout",
          "text": [
            "Optimized Decision Tree model accuracy on test dataset : 0.73\n",
            "OptimizedvDecision Tree model accuracy on train dataset : 0.86\n"
          ]
        }
      ],
      "source": [
        "test_pred = best_dt.predict(X_test_vec)\n",
        "print(f'Optimized Decision Tree model accuracy on test dataset : {round(accuracy_score(test_pred,y_test),2)}')\n",
        "train_pred = best_dt.predict(X_train_vec)\n",
        "print(f'OptimizedvDecision Tree model accuracy on train dataset : {round(accuracy_score(train_pred,y_train),2)}')"
      ]
    },
    {
      "cell_type": "markdown",
      "metadata": {
        "id": "mVBca9dzFHnr"
      },
      "source": [
        "#### Applying Naive Bayes theorem"
      ]
    },
    {
      "cell_type": "code",
      "execution_count": null,
      "metadata": {
        "colab": {
          "base_uri": "https://localhost:8080/"
        },
        "outputId": "7b8aa0b7-a93c-410b-afc6-00bd3b59c816",
        "id": "6Y3R_wIBFHnw"
      },
      "outputs": [
        {
          "output_type": "execute_result",
          "data": {
            "text/plain": [
              "MultinomialNB()"
            ]
          },
          "metadata": {},
          "execution_count": 72
        }
      ],
      "source": [
        "nb_model = MultinomialNB()\n",
        "nb_model.fit(X_train_vec,y_train)"
      ]
    },
    {
      "cell_type": "code",
      "execution_count": null,
      "metadata": {
        "colab": {
          "base_uri": "https://localhost:8080/"
        },
        "outputId": "9351712a-830a-4619-d8e0-32932efcdb60",
        "id": "h_StAomAFHnx"
      },
      "outputs": [
        {
          "output_type": "stream",
          "name": "stdout",
          "text": [
            "Naive Bayes model accuracy on test dataset : 0.85\n",
            "Naive Bayes model accuracy on train dataset : 0.88\n"
          ]
        }
      ],
      "source": [
        "test_pred = nb_model.predict(X_test_vec)\n",
        "print(f'Naive Bayes model accuracy on test dataset : {round(accuracy_score(test_pred,y_test),2)}')\n",
        "train_pred = nb_model.predict(X_train_vec)\n",
        "print(f'Naive Bayes model accuracy on train dataset : {round(accuracy_score(train_pred,y_train),2)}')"
      ]
    },
    {
      "cell_type": "code",
      "execution_count": null,
      "metadata": {
        "colab": {
          "base_uri": "https://localhost:8080/"
        },
        "outputId": "841acde3-9615-41cf-d217-57f6a7350a06",
        "id": "6fDWxhq3FHnx"
      },
      "outputs": [
        {
          "output_type": "stream",
          "name": "stdout",
          "text": [
            "              precision    recall  f1-score   support\n",
            "\n",
            "           0       0.84      0.87      0.86      1364\n",
            "           1       0.85      0.82      0.84      1222\n",
            "           2       0.85      0.93      0.89      1121\n",
            "           3       0.88      0.88      0.88      1705\n",
            "           4       0.83      0.74      0.78       910\n",
            "\n",
            "    accuracy                           0.85      6322\n",
            "   macro avg       0.85      0.85      0.85      6322\n",
            "weighted avg       0.85      0.85      0.85      6322\n",
            "\n"
          ]
        }
      ],
      "source": [
        "print(classification_report(test_pred,y_test))"
      ]
    },
    {
      "cell_type": "markdown",
      "metadata": {
        "id": "z2500bLcG1m1"
      },
      "source": [
        "#### Applying RandomForest"
      ]
    },
    {
      "cell_type": "code",
      "execution_count": null,
      "metadata": {
        "colab": {
          "base_uri": "https://localhost:8080/"
        },
        "outputId": "7a3a37b5-a12d-40c5-bc46-954a7b65a2f6",
        "id": "X4haN_tSG1m1"
      },
      "outputs": [
        {
          "output_type": "execute_result",
          "data": {
            "text/plain": [
              "RandomForestClassifier(max_depth=20, min_samples_leaf=10, min_samples_split=10)"
            ]
          },
          "metadata": {},
          "execution_count": 75
        }
      ],
      "source": [
        "rf_model = RandomForestClassifier(max_depth=20, min_samples_split=10,min_samples_leaf=10)\n",
        "rf_model.fit(X_train_vec,y_train)"
      ]
    },
    {
      "cell_type": "code",
      "execution_count": null,
      "metadata": {
        "colab": {
          "base_uri": "https://localhost:8080/"
        },
        "outputId": "40e03858-7fd5-4b6c-af44-a61fd90048a9",
        "id": "RWSTaAUNG1m1"
      },
      "outputs": [
        {
          "output_type": "stream",
          "name": "stdout",
          "text": [
            "Random Forest model accuracy on test dataset : 0.82\n",
            "Random Forest model accuracy on train dataset : 0.86\n"
          ]
        }
      ],
      "source": [
        "test_pred = rf_model.predict(X_test_vec)\n",
        "print(f'Random Forest model accuracy on test dataset : {round(accuracy_score(test_pred,y_test),2)}')\n",
        "train_pred = rf_model.predict(X_train_vec)\n",
        "print(f'Random Forest model accuracy on train dataset : {round(accuracy_score(train_pred,y_train),2)}')"
      ]
    },
    {
      "cell_type": "code",
      "source": [
        "print(classification_report(test_pred,y_test))"
      ],
      "metadata": {
        "colab": {
          "base_uri": "https://localhost:8080/"
        },
        "outputId": "27270883-e528-4ede-b897-b26996969ae0",
        "id": "QFut_mSGG1m1"
      },
      "execution_count": null,
      "outputs": [
        {
          "output_type": "stream",
          "name": "stdout",
          "text": [
            "              precision    recall  f1-score   support\n",
            "\n",
            "           0       0.80      0.83      0.81      1351\n",
            "           1       0.83      0.82      0.83      1191\n",
            "           2       0.83      0.90      0.86      1118\n",
            "           3       0.94      0.74      0.83      2155\n",
            "           4       0.57      0.91      0.70       507\n",
            "\n",
            "    accuracy                           0.82      6322\n",
            "   macro avg       0.79      0.84      0.81      6322\n",
            "weighted avg       0.84      0.82      0.82      6322\n",
            "\n"
          ]
        }
      ]
    },
    {
      "cell_type": "markdown",
      "source": [
        "# Conclusion\n",
        "\n",
        "\n",
        "## ML Algorithms metrics:\n",
        "\n",
        "### Using Bag of words (max\\_features = 5000):\n",
        "\n",
        "| ML Algo | Train Accuracy | Test Accuracy |\n",
        "| --- | --- | --- |\n",
        "| Logistic regression | 1 | 0.95 |\n",
        "| Decision Tree | 0.82 | 0.75 |\n",
        "| Naive Bayes | 0.88 | 0.85 |\n",
        "| Random Forest | 0.85 | 0.82 |\n",
        "\n",
        "\n",
        "\n",
        "### Using TFIDF (max\\_features = 5000):\n",
        "\n",
        "| ML Algo | Train Accuracy | Test Accuracy |\n",
        "| --- | --- | --- |\n",
        "| Logistic regression | 0.99 | 0.95 |\n",
        "| Decision Tree | 0.85 | 0.78 |\n",
        "| Naive Bayes | 0.85 | 0.83 |\n",
        "| Random Forest | 0.91 | 0.86 |"
      ],
      "metadata": {
        "id": "cdO6I8-CG9c5"
      }
    },
    {
      "cell_type": "markdown",
      "source": [
        "# Random prediction"
      ],
      "metadata": {
        "id": "TT41KQbeJ6DD"
      }
    },
    {
      "cell_type": "code",
      "source": [
        "def predictTicketCategory(text):\n",
        "  vec_list = []\n",
        "  text = clean_text_data(text)\n",
        "  vec_list.append(text)\n",
        "  text_vec = tfidf_vec.transform(vec_list)\n",
        "  catg = lr_model_tfidf.predict(text_vec)\n",
        "  return topic_labels.get(catg[0])\n"
      ],
      "metadata": {
        "id": "JYJdtoytAuj3"
      },
      "execution_count": null,
      "outputs": []
    },
    {
      "cell_type": "code",
      "source": [
        "import random \n",
        "ind = random.randint(0,len(df_new))\n",
        "print('Index',ind)\n",
        "complaint = df_new.iloc[ind]['complaint']\n",
        "\n",
        "print('Complaint------\\n\\n',complaint)\n",
        "result = predictTicketCategory(complaint)\n",
        "print('\\n\\nIssue--------\\n\\n',df_new.iloc[ind]['issue'])\n",
        "print('\\n\\nProduct--------\\n\\n',df_new.iloc[ind]['product'])\n",
        "print('\\n\\nPredicted category for ticket--------\\n\\n',result)\n",
        "\n"
      ],
      "metadata": {
        "colab": {
          "base_uri": "https://localhost:8080/"
        },
        "id": "E2SaLCcKDg9A",
        "outputId": "c820019e-5865-4b43-dfe3-260a99a0c347"
      },
      "execution_count": null,
      "outputs": [
        {
          "output_type": "stream",
          "name": "stdout",
          "text": [
            "Index 8245\n",
            "Complaint------\n",
            "\n",
            " - On XX/XX/XXXX I sent a message via secure message on my home banking with Chase Bank asking how was the process to close my account. I never asked to effectively close my account, I just wanted to know how the process was because I was evaluating changing to another bank. I have all the messages in my Chase Inbox and screenshots of it just in case ( they're in XXXX ). \n",
            "\n",
            "- On XX/XX/XXXX I tried to access my account va online banking and there was no account and funds. I just found that a Chase 's employee answered my message saying that my account was closed and they have sent a check with my funds to my address ( they never said wich address exactly ). They also cancel all possible transactions and my debit card. \n",
            "\n",
            "- I contacted inmediately via secure inbox again and asked why they did this and said that it was a mistake. I asked for my money saying that I really need it and that I never asked to effectively close my account. I also sent them a screenshot where it can be read that I was just asking about the process and never gave CONSENT on closing my bank account or any Chase product. \n",
            "\n",
            "- On XX/XX/XXXX they answered again just saying that they were sorry for the mistake and that they sent a check for the amount on my account to my address ( again, they didn't said exactly to WICH address ). They also told me that like I live in XXXX, the check could arrive in 4 WEEKS. \n",
            "\n",
            "- I answered once again inmediatly said that was a mistake because on first place I never asked or gave consent on closing my account, I live in XXXX where there are no Chase branch so I won't even be able to turn the check into cash and btw, we're on quaratine due to COVID-19. I  asked repeteadly to give me a real solution, I offer them to transfer the money to another account or even to activate my account again with my money so I could transfer it to another bank account. \n",
            "\n",
            "- On XX/XX/XXXX they answered once again saying a check was delivered, that It will take 4 weeks to arrive, etc. They never gave me a real solution even they recognize it was THEIR MISTAKE to close my account. Now I don't have my money, I don't know where they sent a check, and IF the check arrives, I won't be able to turn it into cash because there is no Chase branch where I live and there is a cuarantine due to COVID-19. I replied once more explaining all the situation and that was all. I also tried to contact Chase via XXXX  ( you can see all my angry messages here : https : XXXX ) and their XXXX page but there was no answer at all. \n",
            "\n",
            "Please, I just want my money back so I can transfer it to my other bank account. I can give chase my other 's bank XXXX/XXXX but I REALLY NEED THE MONEY and can't wait 4 weeks for a check that I won't be able to use just because a Chase 's employee made a mistake. \n",
            "\n",
            "Thank you in advance for helping me to solve this as soon as possible. \n",
            "\n",
            "Regards,\n",
            "\n",
            "\n",
            "Issue--------\n",
            "\n",
            " Closing an account\n",
            "\n",
            "\n",
            "Product--------\n",
            "\n",
            " Checking or savings account\n",
            "\n",
            "\n",
            "Predicted category for ticket--------\n",
            "\n",
            " Bank account services\n"
          ]
        }
      ]
    },
    {
      "cell_type": "code",
      "source": [
        "import random \n",
        "ind = random.randint(0,len(df_new))\n",
        "print('Index',ind)\n",
        "complaint = df_new.iloc[ind]['complaint']\n",
        "\n",
        "print('Complaint------\\n\\n',complaint)\n",
        "result = predictTicketCategory(complaint)\n",
        "print('\\n\\nIssue--------\\n\\n',df_new.iloc[ind]['issue'])\n",
        "print('\\n\\nProduct--------\\n\\n',df_new.iloc[ind]['product'])\n",
        "print('\\n\\nPredicted category for ticket--------\\n\\n',result)\n"
      ],
      "metadata": {
        "colab": {
          "base_uri": "https://localhost:8080/"
        },
        "id": "tFtxiEsYKCvs",
        "outputId": "86699897-1fc4-4b7b-af0f-1cefd8b5d383"
      },
      "execution_count": null,
      "outputs": [
        {
          "output_type": "stream",
          "name": "stdout",
          "text": [
            "Index 767\n",
            "Complaint------\n",
            "\n",
            " JP Morgan Chase Bank XXXX has once again threatened me with foreclosure ( see attached ) while refusing to acknowledge wrong accounting and that the \" alleged '' loan They \" Say '' belongs to XXXX XXXX when in fact it does Not, as per the report from the FHFA-OIG in XXXX. Also, JP Morgan Chase Bank XXXX has Not fulfilled the RESPA ( see attached ) I sent them correctly and or in full, while the Mortgage and Promissary note and Allonge I had a document authenticator Expert examine and were found to be Fake and also Unattached, on XX/XX/XXXX at the office of Attorney XXXX XXXX XXXX, clip art, robo signed and etc ... were used to fabricate these documents! JP Morgan Chase Bank XXXX Claims to be the original from XXXX, in fact are not! but are FRAUD!! I will show this document only in court and my expert will be testifying to her report!! I have once again tried to get JP Morgan Chase Bank XXXX to look at the original transaction history they sent me in XXXX showing XXXX XXXX XXXX XXXXXXXX as the owner of this bad note. The attached XXXX XXXXXXXX XXXX XXXXXXXX payment history clearly shows wrongful accounting, whereas the payments posted into an escrow account that did not exist at that time ( I paid my own out of pocket ) as well as wrongful fines and charges. Both of these things went on for years totaling over {$8000.00} and also covered up payments. These wrongfully posted payments are the cause of the so called by Chase to be in Default. Anyway, for the THIRD time in 3 yrs JP Morgan Chase is threatening to foreclose on me, because I refuse to give them this money again and instead now are claiming that they \" may '' acellerate this alleged loan, to THIS week and enter my home to take posession!! I have my home posted No trespassing all around it and will have anyone arrested if they try to do this to me! XXXX XXXX DOES NOT OWN THIS ALLEGED LOAN and can not do this!!! The FHFA-OIG report ( see page XXXX of this report in the second box ) clearly states that it is NOT a GSE loan. There are an Enormous amount of errors in the paperwork required to foreclose! in addition to that one situation and JP Morgan Chase Bank XXXX is still trying to force foreclosure down my throat even though the facts are on paper. Please see all attached. As well as the Assignment of Mortgage that JP Morgan Chase Bank XXXX put into the Registry of Deeds as far back as XXXX see attached. They claim ownership rights to foreclose this is also XXXX XXXX!! This will be an illegal foreclosure which I will sue JP Morgan Chase Bank XXXX for milliions for abuses and damages since XXXX. I am also presently looking into how to file a class action suit based on fraud and predatory lending. Also, Chase is trying to merge the two separate loans into one by not putting an account number on the second Equity line loan even though on the phone they told me they are not, the attached pg two of the letter show this. It was part of a mailing they sent me with over 1000 pages, I this past Friday spoke to XXXX XXXX  of their exec office. I obviously can not scan into file here. There is no way for me to list all of the crimes I believe are being still commited by JP Morgan Chase Bank XXXX, from fraud, to collusion to conspiracy to abuses to me ongoing since XXXX. I am XXXX yrs old and legally XXXX with many stress related medical problems including previous XXXX, XXXX, previous near death XXXX and etc..Now at this moment away from my home, at the public library for the use of the internet, while my electricity at home has been out since this past storm Friday and will remain off until Tuesday, I am here in Terror! that when I return home that my locks may have been ripped out and replaced and my heating system altered as per the threat on my door back in XXXX also ( see attached ). I am and have been grossly abused by JP Morgan Chase Bank XXXX for years resulting in aggravated medical issues and many financial as well as social damages. I am demanding this BS stop!!! I will not be denied my rights because this financial phychopath that calls itself JP Morgan Chase Bank XXXX is a financial XXXX!! demanding of me money THEY OWE ME!! to take my home with the use of another ILLEGAL FORECLOSURE. I will also be sending to many news reporters my documents to expose the corruption going on here, in this attempt to take my home with abuse and fraud for profit. Lastly, XXXX XXXX needs to admit to the same, for whom JP Morgan Chase Bank XXXX XXXX is trying to foreclose on me, on their behalf!!\n",
            "\n",
            "\n",
            "Issue--------\n",
            "\n",
            " Trouble during payment process\n",
            "\n",
            "\n",
            "Product--------\n",
            "\n",
            " Mortgage\n",
            "\n",
            "\n",
            "Predicted category for ticket--------\n",
            "\n",
            " Mortgage/loans\n"
          ]
        }
      ]
    }
  ],
  "metadata": {
    "accelerator": "GPU",
    "colab": {
      "collapsed_sections": [],
      "toc_visible": true,
      "provenance": []
    },
    "gpuClass": "standard",
    "kernelspec": {
      "display_name": "Python 3",
      "language": "python",
      "name": "python3"
    },
    "language_info": {
      "codemirror_mode": {
        "name": "ipython",
        "version": 3
      },
      "file_extension": ".py",
      "mimetype": "text/x-python",
      "name": "python",
      "nbconvert_exporter": "python",
      "pygments_lexer": "ipython3",
      "version": "3.7.6"
    }
  },
  "nbformat": 4,
  "nbformat_minor": 0
}